{
 "cells": [
  {
   "cell_type": "code",
   "execution_count": 1,
   "metadata": {
    "collapsed": false
   },
   "outputs": [],
   "source": [
    "import graphlab as gl"
   ]
  },
  {
   "cell_type": "markdown",
   "metadata": {},
   "source": [
    "# 1 取数据"
   ]
  },
  {
   "cell_type": "code",
   "execution_count": 2,
   "metadata": {
    "collapsed": false
   },
   "outputs": [
    {
     "name": "stderr",
     "output_type": "stream",
     "text": [
      "[INFO] graphlab.cython.cy_server: GraphLab Create v2.1 started. Logging: /tmp/graphlab_server_1500988895.log\n"
     ]
    },
    {
     "name": "stdout",
     "output_type": "stream",
     "text": [
      "This non-commercial license of GraphLab Create for academic use is assigned to xyntax@163.com and will expire on July 23, 2018.\n"
     ]
    },
    {
     "data": {
      "text/html": [
       "<pre>Finished parsing file /Users/xy/workspace/ML/DL_for_xss/data/normal_examples.csv</pre>"
      ],
      "text/plain": [
       "Finished parsing file /Users/xy/workspace/ML/DL_for_xss/data/normal_examples.csv"
      ]
     },
     "metadata": {},
     "output_type": "display_data"
    },
    {
     "data": {
      "text/html": [
       "<pre>Parsing completed. Parsed 100 lines in 0.49853 secs.</pre>"
      ],
      "text/plain": [
       "Parsing completed. Parsed 100 lines in 0.49853 secs."
      ]
     },
     "metadata": {},
     "output_type": "display_data"
    },
    {
     "name": "stdout",
     "output_type": "stream",
     "text": [
      "------------------------------------------------------\n",
      "Inferred types from first 100 line(s) of file as \n",
      "column_type_hints=[str]\n",
      "If parsing fails due to incorrect types, you can correct\n",
      "the inferred type list above and pass it to read_csv in\n",
      "the column_type_hints argument\n",
      "------------------------------------------------------\n"
     ]
    },
    {
     "data": {
      "text/html": [
       "<pre>Finished parsing file /Users/xy/workspace/ML/DL_for_xss/data/normal_examples.csv</pre>"
      ],
      "text/plain": [
       "Finished parsing file /Users/xy/workspace/ML/DL_for_xss/data/normal_examples.csv"
      ]
     },
     "metadata": {},
     "output_type": "display_data"
    },
    {
     "data": {
      "text/html": [
       "<pre>Parsing completed. Parsed 200129 lines in 0.797999 secs.</pre>"
      ],
      "text/plain": [
       "Parsing completed. Parsed 200129 lines in 0.797999 secs."
      ]
     },
     "metadata": {},
     "output_type": "display_data"
    },
    {
     "data": {
      "text/html": [
       "<pre>Finished parsing file /Users/xy/workspace/ML/DL_for_xss/data/xssed.csv</pre>"
      ],
      "text/plain": [
       "Finished parsing file /Users/xy/workspace/ML/DL_for_xss/data/xssed.csv"
      ]
     },
     "metadata": {},
     "output_type": "display_data"
    },
    {
     "data": {
      "text/html": [
       "<pre>Parsing completed. Parsed 100 lines in 0.074102 secs.</pre>"
      ],
      "text/plain": [
       "Parsing completed. Parsed 100 lines in 0.074102 secs."
      ]
     },
     "metadata": {},
     "output_type": "display_data"
    },
    {
     "name": "stdout",
     "output_type": "stream",
     "text": [
      "------------------------------------------------------\n",
      "Inferred types from first 100 line(s) of file as \n",
      "column_type_hints=[str]\n",
      "If parsing fails due to incorrect types, you can correct\n",
      "the inferred type list above and pass it to read_csv in\n",
      "the column_type_hints argument\n",
      "------------------------------------------------------\n"
     ]
    },
    {
     "data": {
      "text/html": [
       "<pre>Finished parsing file /Users/xy/workspace/ML/DL_for_xss/data/xssed.csv</pre>"
      ],
      "text/plain": [
       "Finished parsing file /Users/xy/workspace/ML/DL_for_xss/data/xssed.csv"
      ]
     },
     "metadata": {},
     "output_type": "display_data"
    },
    {
     "data": {
      "text/html": [
       "<pre>Parsing completed. Parsed 40637 lines in 0.090048 secs.</pre>"
      ],
      "text/plain": [
       "Parsing completed. Parsed 40637 lines in 0.090048 secs."
      ]
     },
     "metadata": {},
     "output_type": "display_data"
    }
   ],
   "source": [
    "normal = gl.SFrame.read_csv('data/normal_examples.csv')\n",
    "evil = gl.SFrame.read_csv('data/xssed.csv')"
   ]
  },
  {
   "cell_type": "code",
   "execution_count": 3,
   "metadata": {
    "collapsed": false
   },
   "outputs": [],
   "source": [
    "normal = normal.random_split(0.1,seed=0)\n",
    "evil = evil.random_split(0.1,seed=0)"
   ]
  },
  {
   "cell_type": "code",
   "execution_count": 7,
   "metadata": {
    "collapsed": false
   },
   "outputs": [],
   "source": [
    "normal = gl.SFrame(normal)\n",
    "evil = gl.SFrame(evil)"
   ]
  },
  {
   "cell_type": "code",
   "execution_count": 9,
   "metadata": {
    "collapsed": false
   },
   "outputs": [
    {
     "data": {
      "text/html": [
       "<div style=\"max-height:1000px;max-width:1500px;overflow:auto;\"><table frame=\"box\" rules=\"cols\">\n",
       "    <tr>\n",
       "        <th style=\"padding-left: 1em; padding-right: 1em; text-align: center\">X1</th>\n",
       "    </tr>\n",
       "    <tr>\n",
       "        <td style=\"padding-left: 1em; padding-right: 1em; text-align: center; vertical-align: top\">[{'param': 'cn_600022%2Cc<br>n_600516%2Ccn_000002% ...</td>\n",
       "    </tr>\n",
       "    <tr>\n",
       "        <td style=\"padding-left: 1em; padding-right: 1em; text-align: center; vertical-align: top\">[{'param':<br>'_%3D1498591621808'}, ...</td>\n",
       "    </tr>\n",
       "</table>\n",
       "[2 rows x 1 columns]<br/>\n",
       "</div>"
      ],
      "text/plain": [
       "Columns:\n",
       "\tX1\tlist\n",
       "\n",
       "Rows: 2\n",
       "\n",
       "Data:\n",
       "+-------------------------------+\n",
       "|               X1              |\n",
       "+-------------------------------+\n",
       "| [{'param': 'cn_600022%2Ccn... |\n",
       "| [{'param': '_%3D1498591621... |\n",
       "+-------------------------------+\n",
       "[2 rows x 1 columns]"
      ]
     },
     "execution_count": 9,
     "metadata": {},
     "output_type": "execute_result"
    }
   ],
   "source": [
    "normal"
   ]
  },
  {
   "cell_type": "markdown",
   "metadata": {},
   "source": [
    "# 2 画数据"
   ]
  },
  {
   "cell_type": "code",
   "execution_count": 4,
   "metadata": {
    "collapsed": false
   },
   "outputs": [
    {
     "ename": "AttributeError",
     "evalue": "'tuple' object has no attribute 'show'",
     "output_type": "error",
     "traceback": [
      "\u001b[0;31m---------------------------------------------------------------------------\u001b[0m",
      "\u001b[0;31mAttributeError\u001b[0m                            Traceback (most recent call last)",
      "\u001b[0;32m<ipython-input-4-9aad48f86f38>\u001b[0m in \u001b[0;36m<module>\u001b[0;34m()\u001b[0m\n\u001b[0;32m----> 1\u001b[0;31m \u001b[0mnormal\u001b[0m\u001b[0;34m.\u001b[0m\u001b[0mshow\u001b[0m\u001b[0;34m(\u001b[0m\u001b[0;34m)\u001b[0m\u001b[0;34m\u001b[0m\u001b[0m\n\u001b[0m",
      "\u001b[0;31mAttributeError\u001b[0m: 'tuple' object has no attribute 'show'"
     ]
    }
   ],
   "source": [
    "normal.show()"
   ]
  },
  {
   "cell_type": "code",
   "execution_count": 3,
   "metadata": {
    "collapsed": false
   },
   "outputs": [
    {
     "data": {
      "text/html": [
       "<div style=\"max-height:1000px;max-width:1500px;overflow:auto;\"><table frame=\"box\" rules=\"cols\">\n",
       "    <tr>\n",
       "        <th style=\"padding-left: 1em; padding-right: 1em; text-align: center\">param</th>\n",
       "    </tr>\n",
       "    <tr>\n",
       "        <td style=\"padding-left: 1em; padding-right: 1em; text-align: center; vertical-align: top\">_%3D1498591621808</td>\n",
       "    </tr>\n",
       "    <tr>\n",
       "        <td style=\"padding-left: 1em; padding-right: 1em; text-align: center; vertical-align: top\">code%3Dzs_000001%2Czs_399<br>001%2Czs_399006%26cb% ...</td>\n",
       "    </tr>\n",
       "    <tr>\n",
       "        <td style=\"padding-left: 1em; padding-right: 1em; text-align: center; vertical-align: top\">_%3D1498591951848%26list%<br>3Dml_sh600030 ...</td>\n",
       "    </tr>\n",
       "    <tr>\n",
       "        <td style=\"padding-left: 1em; padding-right: 1em; text-align: center; vertical-align: top\">6053%26ri%3Dzb6-00f%7E-<br>04gUry-01h- ...</td>\n",
       "    </tr>\n",
       "    <tr>\n",
       "        <td style=\"padding-left: 1em; padding-right: 1em; text-align: center; vertical-align: top\">b1498592370545%3D1</td>\n",
       "    </tr>\n",
       "    <tr>\n",
       "        <td style=\"padding-left: 1em; padding-right: 1em; text-align: center; vertical-align: top\">v%3D13111002</td>\n",
       "    </tr>\n",
       "    <tr>\n",
       "        <td style=\"padding-left: 1em; padding-right: 1em; text-align: center; vertical-align: top\">COLLCC%3D3442798258%26</td>\n",
       "    </tr>\n",
       "    <tr>\n",
       "        <td style=\"padding-left: 1em; padding-right: 1em; text-align: center; vertical-align: top\">t%3Dcheck%26rec%3Dstratus<br>%26etyp%3Dconnect%26z ...</td>\n",
       "    </tr>\n",
       "    <tr>\n",
       "        <td style=\"padding-left: 1em; padding-right: 1em; text-align: center; vertical-align: top\">cn_600022%2Ccn_600516%2Cc<br>n_000002%2Ccn_600519% ...</td>\n",
       "    </tr>\n",
       "    <tr>\n",
       "        <td style=\"padding-left: 1em; padding-right: 1em; text-align: center; vertical-align: top\">_%3D1498179095094%26list%<br>3Dsh600030 ...</td>\n",
       "    </tr>\n",
       "</table>\n",
       "[10 rows x 1 columns]<br/>\n",
       "</div>"
      ],
      "text/plain": [
       "Columns:\n",
       "\tparam\tstr\n",
       "\n",
       "Rows: 10\n",
       "\n",
       "Data:\n",
       "+-------------------------------+\n",
       "|             param             |\n",
       "+-------------------------------+\n",
       "|       _%3D1498591621808       |\n",
       "| code%3Dzs_000001%2Czs_3990... |\n",
       "| _%3D1498591951848%26list%3... |\n",
       "| 6053%26ri%3Dzb6-00f%7E-04g... |\n",
       "|       b1498592370545%3D1      |\n",
       "|          v%3D13111002         |\n",
       "|     COLLCC%3D3442798258%26    |\n",
       "| t%3Dcheck%26rec%3Dstratus%... |\n",
       "| cn_600022%2Ccn_600516%2Ccn... |\n",
       "| _%3D1498179095094%26list%3... |\n",
       "+-------------------------------+\n",
       "[10 rows x 1 columns]"
      ]
     },
     "execution_count": 3,
     "metadata": {},
     "output_type": "execute_result"
    }
   ],
   "source": [
    "normal.head()"
   ]
  },
  {
   "cell_type": "code",
   "execution_count": 7,
   "metadata": {
    "collapsed": false
   },
   "outputs": [
    {
     "name": "stdout",
     "output_type": "stream",
     "text": [
      "Canvas is accessible via web browser at the URL: http://localhost:57383/index.html\n",
      "Opening Canvas in default web browser.\n"
     ]
    }
   ],
   "source": [
    "evil.show()"
   ]
  },
  {
   "cell_type": "code",
   "execution_count": 4,
   "metadata": {
    "collapsed": false
   },
   "outputs": [
    {
     "data": {
      "text/html": [
       "<div style=\"max-height:1000px;max-width:1500px;overflow:auto;\"><table frame=\"box\" rules=\"cols\">\n",
       "    <tr>\n",
       "        <th style=\"padding-left: 1em; padding-right: 1em; text-align: center\">param</th>\n",
       "    </tr>\n",
       "    <tr>\n",
       "        <td style=\"padding-left: 1em; padding-right: 1em; text-align: center; vertical-align: top\">Search%3D%3C/script%3E%3C<br>img/%2A%00/src%3D%22w ...</td>\n",
       "    </tr>\n",
       "    <tr>\n",
       "        <td style=\"padding-left: 1em; padding-right: 1em; text-align: center; vertical-align: top\">symbol%3D%3Ch1%3E%3Cscrip<br>t%3Ealert%28/hacked/% ...</td>\n",
       "    </tr>\n",
       "    <tr>\n",
       "        <td style=\"padding-left: 1em; padding-right: 1em; text-align: center; vertical-align: top\">query%3D%3CIMG%2B%22%22%2<br>2%3E%3CSCRIPT%3Ealert ...</td>\n",
       "    </tr>\n",
       "    <tr>\n",
       "        <td style=\"padding-left: 1em; padding-right: 1em; text-align: center; vertical-align: top\">ReturnUrl%3Dhttp%3A//www.<br>elle.fr/recherche ...</td>\n",
       "    </tr>\n",
       "    <tr>\n",
       "        <td style=\"padding-left: 1em; padding-right: 1em; text-align: center; vertical-align: top\">_lang%3D%22%3E%3Cscript%3<br>Ealert%28document.coo ...</td>\n",
       "    </tr>\n",
       "    <tr>\n",
       "        <td style=\"padding-left: 1em; padding-right: 1em; text-align: center; vertical-align: top\">language%3D%22%3E%3C/scri<br>pt%3E%22%3E%27%3E%3Cs ...</td>\n",
       "    </tr>\n",
       "    <tr>\n",
       "        <td style=\"padding-left: 1em; padding-right: 1em; text-align: center; vertical-align: top\">q%3Dbentley%26stylesheet%<br>3D%22%3E%3Cscript%3Ea ...</td>\n",
       "    </tr>\n",
       "    <tr>\n",
       "        <td style=\"padding-left: 1em; padding-right: 1em; text-align: center; vertical-align: top\">option%3Dcom_wdshop%26vie<br>w%3Duserinfo%26ajax_j ...</td>\n",
       "    </tr>\n",
       "    <tr>\n",
       "        <td style=\"padding-left: 1em; padding-right: 1em; text-align: center; vertical-align: top\">CT_ORIG_URL%3D/arena/%22%<br>3E%3Cscript%3Ealert%2 ...</td>\n",
       "    </tr>\n",
       "    <tr>\n",
       "        <td style=\"padding-left: 1em; padding-right: 1em; text-align: center; vertical-align: top\">query%3DSearch...%26Produ<br>ct%3D%27%22--%3E%3C/s ...</td>\n",
       "    </tr>\n",
       "</table>\n",
       "[10 rows x 1 columns]<br/>\n",
       "</div>"
      ],
      "text/plain": [
       "Columns:\n",
       "\tparam\tstr\n",
       "\n",
       "Rows: 10\n",
       "\n",
       "Data:\n",
       "+-------------------------------+\n",
       "|             param             |\n",
       "+-------------------------------+\n",
       "| Search%3D%3C/script%3E%3Ci... |\n",
       "| symbol%3D%3Ch1%3E%3Cscript... |\n",
       "| query%3D%3CIMG%2B%22%22%22... |\n",
       "| ReturnUrl%3Dhttp%3A//www.e... |\n",
       "| _lang%3D%22%3E%3Cscript%3E... |\n",
       "| language%3D%22%3E%3C/scrip... |\n",
       "| q%3Dbentley%26stylesheet%3... |\n",
       "| option%3Dcom_wdshop%26view... |\n",
       "| CT_ORIG_URL%3D/arena/%22%3... |\n",
       "| query%3DSearch...%26Produc... |\n",
       "+-------------------------------+\n",
       "[10 rows x 1 columns]"
      ]
     },
     "execution_count": 4,
     "metadata": {},
     "output_type": "execute_result"
    }
   ],
   "source": [
    "evil.head()"
   ]
  },
  {
   "cell_type": "markdown",
   "metadata": {},
   "source": [
    "# 3 范化、分词"
   ]
  },
  {
   "cell_type": "code",
   "execution_count": 3,
   "metadata": {
    "collapsed": false
   },
   "outputs": [],
   "source": [
    "import nltk\n",
    "import re\n",
    "from urllib import unquote"
   ]
  },
  {
   "cell_type": "code",
   "execution_count": 4,
   "metadata": {
    "collapsed": true
   },
   "outputs": [],
   "source": [
    "def GeneSeg(payload):\n",
    "    #数字泛化为\"0\"\n",
    "    payload=payload['param'].lower()\n",
    "    payload=unquote(unquote(payload))\n",
    "    payload,num=re.subn(r'\\d+',\"0\",payload)\n",
    "    #替换url为”http://u\n",
    "    payload,num=re.subn(r'(http|https)://[a-zA-Z0-9\\.@&/#!#\\?]+', \"http://u\", payload)\n",
    "    #分词\n",
    "    r = '''\n",
    "        (?x)[\\w\\.]+?\\(\n",
    "        |\\)\n",
    "        |\"\\w+?\"\n",
    "        |'\\w+?'\n",
    "        |http://\\w\n",
    "        |</\\w+>\n",
    "        |<\\w+>\n",
    "        |<\\w+\n",
    "        |\\w+=\n",
    "        |>\n",
    "        |[\\w\\.]+\n",
    "    '''\n",
    "    return nltk.regexp_tokenize(payload, r)"
   ]
  },
  {
   "cell_type": "code",
   "execution_count": 5,
   "metadata": {
    "collapsed": false
   },
   "outputs": [],
   "source": [
    "# 增加一列\n",
    "normal['parsed'] = normal.apply(GeneSeg)\n",
    "evil['parsed'] = evil.apply(GeneSeg)"
   ]
  },
  {
   "cell_type": "code",
   "execution_count": 6,
   "metadata": {
    "collapsed": false
   },
   "outputs": [
    {
     "data": {
      "text/html": [
       "<div style=\"max-height:1000px;max-width:1500px;overflow:auto;\"><table frame=\"box\" rules=\"cols\">\n",
       "    <tr>\n",
       "        <th style=\"padding-left: 1em; padding-right: 1em; text-align: center\">param</th>\n",
       "        <th style=\"padding-left: 1em; padding-right: 1em; text-align: center\">parsed</th>\n",
       "    </tr>\n",
       "    <tr>\n",
       "        <td style=\"padding-left: 1em; padding-right: 1em; text-align: center; vertical-align: top\">_%3D1498591621808</td>\n",
       "        <td style=\"padding-left: 1em; padding-right: 1em; text-align: center; vertical-align: top\">[_=, 0]</td>\n",
       "    </tr>\n",
       "    <tr>\n",
       "        <td style=\"padding-left: 1em; padding-right: 1em; text-align: center; vertical-align: top\">code%3Dzs_000001%2Czs_399<br>001%2Czs_399006%26cb% ...</td>\n",
       "        <td style=\"padding-left: 1em; padding-right: 1em; text-align: center; vertical-align: top\">[code=, zs_0, zs_0, zs_0,<br>cb=, fortune_hq_cn, _=, ...</td>\n",
       "    </tr>\n",
       "    <tr>\n",
       "        <td style=\"padding-left: 1em; padding-right: 1em; text-align: center; vertical-align: top\">_%3D1498591951848%26list%<br>3Dml_sh600030 ...</td>\n",
       "        <td style=\"padding-left: 1em; padding-right: 1em; text-align: center; vertical-align: top\">[_=, 0, list=, ml_sh0]</td>\n",
       "    </tr>\n",
       "    <tr>\n",
       "        <td style=\"padding-left: 1em; padding-right: 1em; text-align: center; vertical-align: top\">6053%26ri%3Dzb6-00f%7E-<br>04gUry-01h- ...</td>\n",
       "        <td style=\"padding-left: 1em; padding-right: 1em; text-align: center; vertical-align: top\">[0, ri=, zb0, 0f, 0gury,<br>0h, 0rc, tn=, 0, en=, ...</td>\n",
       "    </tr>\n",
       "    <tr>\n",
       "        <td style=\"padding-left: 1em; padding-right: 1em; text-align: center; vertical-align: top\">b1498592370545%3D1</td>\n",
       "        <td style=\"padding-left: 1em; padding-right: 1em; text-align: center; vertical-align: top\">[b0=, 0]</td>\n",
       "    </tr>\n",
       "    <tr>\n",
       "        <td style=\"padding-left: 1em; padding-right: 1em; text-align: center; vertical-align: top\">v%3D13111002</td>\n",
       "        <td style=\"padding-left: 1em; padding-right: 1em; text-align: center; vertical-align: top\">[v=, 0]</td>\n",
       "    </tr>\n",
       "    <tr>\n",
       "        <td style=\"padding-left: 1em; padding-right: 1em; text-align: center; vertical-align: top\">COLLCC%3D3442798258%26</td>\n",
       "        <td style=\"padding-left: 1em; padding-right: 1em; text-align: center; vertical-align: top\">[collcc=, 0]</td>\n",
       "    </tr>\n",
       "    <tr>\n",
       "        <td style=\"padding-left: 1em; padding-right: 1em; text-align: center; vertical-align: top\">t%3Dcheck%26rec%3Dstratus<br>%26etyp%3Dconnect%26z ...</td>\n",
       "        <td style=\"padding-left: 1em; padding-right: 1em; text-align: center; vertical-align: top\">[t=, check, rec=,<br>stratus, etyp=, connect, ...</td>\n",
       "    </tr>\n",
       "    <tr>\n",
       "        <td style=\"padding-left: 1em; padding-right: 1em; text-align: center; vertical-align: top\">cn_600022%2Ccn_600516%2Cc<br>n_000002%2Ccn_600519% ...</td>\n",
       "        <td style=\"padding-left: 1em; padding-right: 1em; text-align: center; vertical-align: top\">[cn_0, cn_0, cn_0, cn_0,<br>cn_0, cn_0, cn_0, cn_0, ...</td>\n",
       "    </tr>\n",
       "    <tr>\n",
       "        <td style=\"padding-left: 1em; padding-right: 1em; text-align: center; vertical-align: top\">_%3D1498179095094%26list%<br>3Dsh600030 ...</td>\n",
       "        <td style=\"padding-left: 1em; padding-right: 1em; text-align: center; vertical-align: top\">[_=, 0, list=, sh0]</td>\n",
       "    </tr>\n",
       "</table>\n",
       "[10 rows x 2 columns]<br/>\n",
       "</div>"
      ],
      "text/plain": [
       "Columns:\n",
       "\tparam\tstr\n",
       "\tparsed\tlist\n",
       "\n",
       "Rows: 10\n",
       "\n",
       "Data:\n",
       "+-------------------------------+-------------------------------+\n",
       "|             param             |             parsed            |\n",
       "+-------------------------------+-------------------------------+\n",
       "|       _%3D1498591621808       |            [_=, 0]            |\n",
       "| code%3Dzs_000001%2Czs_3990... | [code=, zs_0, zs_0, zs_0, ... |\n",
       "| _%3D1498591951848%26list%3... |     [_=, 0, list=, ml_sh0]    |\n",
       "| 6053%26ri%3Dzb6-00f%7E-04g... | [0, ri=, zb0, 0f, 0gury, 0... |\n",
       "|       b1498592370545%3D1      |            [b0=, 0]           |\n",
       "|          v%3D13111002         |            [v=, 0]            |\n",
       "|     COLLCC%3D3442798258%26    |          [collcc=, 0]         |\n",
       "| t%3Dcheck%26rec%3Dstratus%... | [t=, check, rec=, stratus,... |\n",
       "| cn_600022%2Ccn_600516%2Ccn... | [cn_0, cn_0, cn_0, cn_0, c... |\n",
       "| _%3D1498179095094%26list%3... |      [_=, 0, list=, sh0]      |\n",
       "+-------------------------------+-------------------------------+\n",
       "[10 rows x 2 columns]"
      ]
     },
     "execution_count": 6,
     "metadata": {},
     "output_type": "execute_result"
    }
   ],
   "source": [
    "normal.head()"
   ]
  },
  {
   "cell_type": "code",
   "execution_count": 7,
   "metadata": {
    "collapsed": false
   },
   "outputs": [
    {
     "data": {
      "text/html": [
       "<div style=\"max-height:1000px;max-width:1500px;overflow:auto;\"><table frame=\"box\" rules=\"cols\">\n",
       "    <tr>\n",
       "        <th style=\"padding-left: 1em; padding-right: 1em; text-align: center\">param</th>\n",
       "        <th style=\"padding-left: 1em; padding-right: 1em; text-align: center\">parsed</th>\n",
       "    </tr>\n",
       "    <tr>\n",
       "        <td style=\"padding-left: 1em; padding-right: 1em; text-align: center; vertical-align: top\">Search%3D%3C/script%3E%3C<br>img/%2A%00/src%3D%22w ...</td>\n",
       "        <td style=\"padding-left: 1em; padding-right: 1em; text-align: center; vertical-align: top\">[search=, &lt;/script&gt;,<br>&lt;img, src=, ...</td>\n",
       "    </tr>\n",
       "    <tr>\n",
       "        <td style=\"padding-left: 1em; padding-right: 1em; text-align: center; vertical-align: top\">symbol%3D%3Ch1%3E%3Cscrip<br>t%3Ealert%28/hacked/% ...</td>\n",
       "        <td style=\"padding-left: 1em; padding-right: 1em; text-align: center; vertical-align: top\">[symbol=, &lt;h0&gt;, &lt;script&gt;,<br>alert(, hacked, ), ...</td>\n",
       "    </tr>\n",
       "    <tr>\n",
       "        <td style=\"padding-left: 1em; padding-right: 1em; text-align: center; vertical-align: top\">query%3D%3CIMG%2B%22%22%2<br>2%3E%3CSCRIPT%3Ealert ...</td>\n",
       "        <td style=\"padding-left: 1em; padding-right: 1em; text-align: center; vertical-align: top\">[query=, &lt;img, &gt;,<br>&lt;script&gt;, alert(, ...</td>\n",
       "    </tr>\n",
       "    <tr>\n",
       "        <td style=\"padding-left: 1em; padding-right: 1em; text-align: center; vertical-align: top\">ReturnUrl%3Dhttp%3A//www.<br>elle.fr/recherche ...</td>\n",
       "        <td style=\"padding-left: 1em; padding-right: 1em; text-align: center; vertical-align: top\">[returnurl=, http://u,<br>globale, searchtext, ), ...</td>\n",
       "    </tr>\n",
       "    <tr>\n",
       "        <td style=\"padding-left: 1em; padding-right: 1em; text-align: center; vertical-align: top\">_lang%3D%22%3E%3Cscript%3<br>Ealert%28document.coo ...</td>\n",
       "        <td style=\"padding-left: 1em; padding-right: 1em; text-align: center; vertical-align: top\">[_lang=, &gt;, &lt;script&gt;,<br>alert(, document.cookie, ...</td>\n",
       "    </tr>\n",
       "    <tr>\n",
       "        <td style=\"padding-left: 1em; padding-right: 1em; text-align: center; vertical-align: top\">language%3D%22%3E%3C/scri<br>pt%3E%22%3E%27%3E%3Cs ...</td>\n",
       "        <td style=\"padding-left: 1em; padding-right: 1em; text-align: center; vertical-align: top\">[language=, &gt;, &lt;/script&gt;,<br>&gt;, &gt;, &lt;script&gt;, alert(, ...</td>\n",
       "    </tr>\n",
       "    <tr>\n",
       "        <td style=\"padding-left: 1em; padding-right: 1em; text-align: center; vertical-align: top\">q%3Dbentley%26stylesheet%<br>3D%22%3E%3Cscript%3Ea ...</td>\n",
       "        <td style=\"padding-left: 1em; padding-right: 1em; text-align: center; vertical-align: top\">[q=, bentley,<br>stylesheet=, &gt;, &lt;scri ...</td>\n",
       "    </tr>\n",
       "    <tr>\n",
       "        <td style=\"padding-left: 1em; padding-right: 1em; text-align: center; vertical-align: top\">option%3Dcom_wdshop%26vie<br>w%3Duserinfo%26ajax_j ...</td>\n",
       "        <td style=\"padding-left: 1em; padding-right: 1em; text-align: center; vertical-align: top\">[option=, com_wdshop,<br>view=, userinfo, ...</td>\n",
       "    </tr>\n",
       "    <tr>\n",
       "        <td style=\"padding-left: 1em; padding-right: 1em; text-align: center; vertical-align: top\">CT_ORIG_URL%3D/arena/%22%<br>3E%3Cscript%3Ealert%2 ...</td>\n",
       "        <td style=\"padding-left: 1em; padding-right: 1em; text-align: center; vertical-align: top\">[ct_orig_url=, arena, &gt;,<br>&lt;script&gt;, alert(, 0, ), ...</td>\n",
       "    </tr>\n",
       "    <tr>\n",
       "        <td style=\"padding-left: 1em; padding-right: 1em; text-align: center; vertical-align: top\">query%3DSearch...%26Produ<br>ct%3D%27%22--%3E%3C/s ...</td>\n",
       "        <td style=\"padding-left: 1em; padding-right: 1em; text-align: center; vertical-align: top\">[query=, search...,<br>product=, &gt;, &lt;/style&gt;, ...</td>\n",
       "    </tr>\n",
       "</table>\n",
       "[10 rows x 2 columns]<br/>\n",
       "</div>"
      ],
      "text/plain": [
       "Columns:\n",
       "\tparam\tstr\n",
       "\tparsed\tlist\n",
       "\n",
       "Rows: 10\n",
       "\n",
       "Data:\n",
       "+-------------------------------+-------------------------------+\n",
       "|             param             |             parsed            |\n",
       "+-------------------------------+-------------------------------+\n",
       "| Search%3D%3C/script%3E%3Ci... | [search=, </script>, <img,... |\n",
       "| symbol%3D%3Ch1%3E%3Cscript... | [symbol=, <h0>, <script>, ... |\n",
       "| query%3D%3CIMG%2B%22%22%22... | [query=, <img, >, <script>... |\n",
       "| ReturnUrl%3Dhttp%3A//www.e... | [returnurl=, http://u, glo... |\n",
       "| _lang%3D%22%3E%3Cscript%3E... | [_lang=, >, <script>, aler... |\n",
       "| language%3D%22%3E%3C/scrip... | [language=, >, </script>, ... |\n",
       "| q%3Dbentley%26stylesheet%3... | [q=, bentley, stylesheet=,... |\n",
       "| option%3Dcom_wdshop%26view... | [option=, com_wdshop, view... |\n",
       "| CT_ORIG_URL%3D/arena/%22%3... | [ct_orig_url=, arena, >, <... |\n",
       "| query%3DSearch...%26Produc... | [query=, search..., produc... |\n",
       "+-------------------------------+-------------------------------+\n",
       "[10 rows x 2 columns]"
      ]
     },
     "execution_count": 7,
     "metadata": {},
     "output_type": "execute_result"
    }
   ],
   "source": [
    "evil.head()"
   ]
  },
  {
   "cell_type": "markdown",
   "metadata": {},
   "source": [
    "# 4 词表"
   ]
  },
  {
   "cell_type": "code",
   "execution_count": 8,
   "metadata": {
    "collapsed": false
   },
   "outputs": [
    {
     "name": "stdout",
     "output_type": "stream",
     "text": [
      "['search=', '</script>', '<img', 'src=', 'worksinchrome', 'colon', 'prompt', 'x0', '0', 'x0', 'onerror=', 'eval(', 'src', ')', '>', 'symbol=', '<h0>', '<script>', 'alert(', 'hacked', ')', '</script>', '</h0>', 'id=', '0', 'query=', '<img', '>', '<script>', 'alert(', '\"cyb0r_pr0dat0r\"', ')', '</script>', '>', 'fuzzy=', 'true', 'ct=', 'null', 'autobounce=', 'true', 'returnurl=', 'http://u', 'globale', 'searchtext', ')', '>', '<script>', 'alert(', 'xss', 'by', 'm0ke', ')', '</script>', '_lang=', '>', '<script>', 'alert(', 'document.cookie', ')', '</script>', 'language=', '>', '</script>', '>', '>', '<script>', 'alert(', 'arman', 'ires', 'digital', 'boys', 'underground', 'http://u', ')', '</script>', 'q=', 'bentley', 'stylesheet=', '>', '<script>', 'alert(', \"'raven'\", ')', '</script>', 'collections=', 'libcms', 'option=', 'com_wdshop', 'view=', 'userinfo', 'ajax_json=', 'ajax_fill_city_state', 'format=', 'raw', 'zip=', '>', '</style>', '</script>', '<script>', 'alert(', 'document.cookie', ')', '</script>', 'ct_orig_url=', 'arena', '>', '<script>', 'alert(', '0', ')', '</script>', '<iframe', 'src=', 'http://u', '>', '</iframe>', 'query=', 'search...', 'product=', '>', '</style>', '</script>', '<script>', 'alert(', \"'xss'\", ')', '</script>', 'page=', '0', 'c=', '0zzzzzzzzzz', '>', '<script>', 'alert(', '0', ')', '</script>', 'topic=', 'http://u', '<script>', 'alert(', 'document.cookie', ')', '</script>', 'loc=', 'en_us', '>', 'alert(', 'string.fromcharcode(', '0', '0', '0', '0', '0', '0', '0', '0', '0', '0', '0', '0', '0', '0', ')', ')', 'alert(', 'string.fromcharcode(', '0', '0', '0', '0', '0', '0', '0', '0', '0', '0', '0', '0', '0', '0', ')', ')', 'alert(', 'string.fromcharcode(', '0', '0', '0', '0', '0', '0', '0', '0', '0', '0', '0', '0', '0', '0', ')', ')', 'alert(', 'string.fromcharcode(', '0', '0', '0', '0', '0', '0', '0', '0', '0', '0', '0', '0', '0', '0', ')', ')', '>', '</script>', '>', '>', '<script>', 'alert(', 'string.fromcharcode(', '0', '0', '0', '0', '0', '0', '0', '0', '0', '0', '0', '0', '0', '0', ')', ')', '</script>', 'viewid=', 'categoryview', 'contentid=', 'ct0_sol_cat_wireless', 'wt.svl', 'pnro_l0', 'author=', '>', '<script>', 'alert(', 'string.fromcharcode(', '0', '0', '0', ')', ')', '</script>', 'q=', '<script>', 'alert(', 'document.cookie', ')', '</script>', 'action=', 'chercher', 'field_0=', 'ref', 'value_0=', '>', '>', '>', '<script>', 'document.body.innerhtml', 'string.fromcharcode(', '0', '0', '0', '0', '0', '0', '0', '0', '0', '0', '0', '0', '0', '0', '0', '0', '0', '0', '0', '0', '0', '0', '0', '0', '0', '0', '0', '0', '0', '0', '0', '0', '0', '0', '0', '0', '0', '0', '0', '0', '0', '0', '0', '0', '0', '0', '0', '0', '0', '0', '0', '0', '0', '0', '0', '0', '0', '0', '0', '0', '0', '0', '0', '0', '0', '0', '0', '0', '0', '0', '0', '0', '0', '0', '0', '0', '0', '0', '0', '0', '0', '0', '0', '0', '0', '0', '0', '0', '0', '0', '0', '0', '0', '0', '0', '0', '0', '0', '0', '0', '0', '0', '0', '0', '0', '0', '0', '0', '0', '0', '0', '0', '0', '0', '0', '0', '0', '0', '0', '0', '0', '0', '0', '0', '0', '0', '0', '0', '0', '0', '0', '0', '0', '0', '0', '0', '0', '0', '0', '0', '0', '0', '0', '0', '0', '0', '0', '0', '0', '0', '0', '0', '0', '0', '0', '0', '0', '0', '0', '0', ')', '</script>', 'q=', '<img', '>', '<script>', 'alert(', '\"xss\"', ')', '</script>', '>', 'siteid=', 'alert(', 'string.fromcharcode(', '0', '0', '0', ')', ')', 'alert(', 'string.fromcharcode(', '0', '0', '0', ')', ')', 'alert(', 'string.fromcharcode(', '0', '0', '0', ')', ')', 'alert(', 'string.fromcharcode(', '0', '0', '0', ')', ')', '>', '</script>', '>', '>', '<script>', 'alert(', 'string.fromcharcode(', '0', '0', '0', ')', ')', '</script>', 'searchterm=', '<img', 'src=', \"'aaa'\", 'onerror=', 'alert(', '0', ')', '>', 'as_filtro_id=', 'certified_usr', 'as_nickname=', 'as_pcia_id=', '>', '>', '<script>', 'alert(', \"'xss'\", ')', '</script>', 'mess=', '<script>', 'alert(', 'document.cookie', ')', '</script>', 'back=', 'settings0', 's=', 'xss', '>', '<script>', 'alert(', 'xss', 'by', 'atm0n0r', ')', '</script>', 'query=', '</script>', '<img', 'src=', 'xss', 'onerror=', 'alert(', 'string.fromcharcode(', '0', '0', '0', '0', '0', ')', ')', 'visibility=', 'hidden', '>', 'n=', 'main.wikisandbox', 'from=', '>', '<body', 'onload=', 'alert(', '0', ')', '>', 'tipurl=', '>', '<script>', 'alert(', '\"crosssitescripting0\"', ')', '</script>', 'artist_id=', '0', '>', '<script>', 'alert(', 'daimon', ')', '</script>', 'num=', '>', '<script>', 'alert(', '\"daimon\"', ')', '</script>', 'survey=', 'aexcel', 'psid=', 'nullaaa', '>', '<script>', 'alert(', '0', ')', '</script>', 'netid=', 'null', 'xmflg=', 'null', 'n=', 'main.wikisandbox', 'from=', '>', '<bodyonload', 'alert(', '0', ')', '>', 'search=', '>', '<script>', 'alert(', 'navigator.useragent', ')', '</script>', 'group=', 'lang_de_gbw', 'html', 'nr=', '0', 'js=', '>', '</style>', '</script>', '<script>', 'alert(', 'meeh', 'infected', ')', '</script>', '</title>', '<marquee>', '<h0>', 'xss', ')', '</h0>', '<marquee>', '<strong>', '<blink>', 'xss', 'test', '</blink>', '</strong>', '</marquee>', '<h0', '>', 'xss', ')', '</h0>', '</marquee>', 'ca=', 'id_secteur_activite=', 'date_operation=', 'mots_cles=', '>', '<script>', 'alert(', 'xss', 'by', 'atm0n0r', ')', '</script>', 'x=', '0', 'y=', '0', 'id=', '0', '>', '<script>', 'alert(', '0', ')', '</script>', 'site_id=', 'medicare', '>', '<script>', 'alert(', '0', ')', '</script>', 'asdf', 'email', 'id=', '0', 'layout=', '<iframe', 'src=', 'http://u', '>', 'ntt=', '<script>', 'alert(', 'document.domain', ')', '</script>', 'n=', '0', 'nty=', '0', 'sid=', '0c0fae', 'prodid=', '0', '>', '</style>', '</script>', '<script>', 'alert(', '\"xss\"', ')', '</script>', 'site=', '0', 'from=', '0', 'noreg=', 'y', 'clear=', 'y', 'referer0=', 'kl_main', 'referer0=', 'kl_store', 'redirect=', 'index.cfm', '>', '<script>', 'window.location.assign(', 'http://u', ')', '</script>', 'query=', '>', '<script>', 'alert(', 'xss', 'vijayendra', ')', '</script>', 'search.x', '0', 'search.y', '0', 'querytext=', '>', '<script>', 'alert(', \"'x'\", ')', '</script>', 'username=', '>', '<script>', 'alert(', 'document.cookie', ')', '</script>', 'q=', '>', '<script>', 'alert(', 'document.cookie', ')', '</script>', 'subcatid=', '0', 'simplesearchfor=', '<script>', 'alert(', '\"xss\"', ')', '</script>', 'x=', '0', 'y=', '0', 'title=', '<script>', 'alert(', 'the', 'best', 'xsser', ')', '</script>', 'error=', '0', 'fn=', 'arham', 'ln=', '>', '<script>', 'alert(', 'a', 'rhammuhammad', ')', '</script>', 'email=', '>', '<script>', 'alert(', 'document.cookie', ')', '</script>', 'qu=', '>', '>', '<script>', 'alert(', 'xss', 'arham', 'muhammad', ')', '</script>', 'action=', 'search', 'title=', '<script>', 'alert(', 'the', 'best', 'xsser', ')', '</script>', 'restrict=', 'q=', '>', '<script>', 'alert(', \"'xss'\", ')', '</script>', 'hush_username=', 'arham', '>', '<script>', 'alert(', \"'xss'\", ')', '</script>', 'searchconfiguration=', '0bd0a0ab0d0b0cd0b0f0aebf0f0ade0f0b0a0a0b0b0e0f0b0b0b0e0c0fcd0a0e0ccbde0f0fe0e0f0ef0fffd0c0a0fa0c0cd0cb0a0ea0ccb0c0d0bc0d0dc0ead0b0d0a0e0f0a0d0b0f0c0c0bde0fb0c0ea0a0da0dd0d0c0c0a0cbaca0e0ec0d0e0bea0b0bc0c0ace0a0c0f0be0ecf0cf0a0cc0dd0d0d0b0c0afe0df0ff0ffdf0db0b0ceb0fc0a0da0ffb0b0de0fe0aed0beba0ce0d0dcc0b0ffca0cd0c', 'searchterm=', '>', '<script>', 'alert(', \"'0ssi0_tr'\", ')', '</script>', 'title=', '<script>', 'alert(', 'the', 'best', 'xsser', ')', '</script>', 'title=', '<script>', 'alert(', 'the', 'best', 'xsser', ')', '</script>', 'ara=', '>', '<script>', 'alert(', \"'0ssi0_tr'\", ')', '</script>', 'theurl=', '>', '<script>', 'alert(', 'document.cookie', ')', '</script>', 'action=', 'results', 'poll_ident=', '>', '<script>', 'alert(', 'document.cookie', ')', '</script>', 'tx0=', '>', '<script>', 'alert(', 'x', 'turk', ')', '</script>', 'tqmhak=', '0', 'ql=', 'a', 'keywords=', '>', '<script>', 'alert(', 'x', 'turk', ')', '</script>', 'err=', '>', '<script>', 'alert(', 'x', 'turk', ')', '</script>', 'query=', '>', '<script>', 'alert(', 'x', 'turk', ')', '</script>', 'l_id=', 'de', 'country0=', '0', 'clinks=', '0', 'cmetadata=', '0', 'search=', 'alert(', 'string.fromcharcode(', '0', '0', '0', '0', '0', '0', '0', '0', '0', '0', '0', '0', ')', ')', 'alert(', 'string.fromcharcode(', '0', '0', '0', '0', '0', '0', '0', '0', '0', '0', '0', '0', ')', ')', 'alert(', 'string.fromcharcode(', '0', '0', '0', '0', '0', '0', '0', '0', '0', '0', '0', '0', ')', ')', 'alert(', 'string.fromcharcode(', '0', '0', '0', '0', '0', '0', '0', '0', '0', '0', '0', '0', ')', ')', '>', '</script>', '>', '>', '<script>', 'alert(', 'string.fromcharcode(', '0', '0', '0', '0', '0', '0', '0', '0', '0', '0', '0', '0', ')', ')', '</script>', 'search=', '>', '<script>', 'alert(', 'x', 'turk', ')', '</script>', 'search=', 'all', 'string=', '>', '<script>', 'alert(', 'x', 'turk', ')', '</script>', 'displaymode=', '0', 'lsi=', '0', 'q=', '>', '>', '<script>', 'alert(', 'string.fromcharcode(', '0', '0', '0', '0', '0', '0', '0', '0', '0', '0', '0', '0', ')', ')', '</script>', 'go=', 'go', 'command=', '>', '<script>', 'alert(', 'x', 'turk', ')', '</script>', 'searchfor=', '>', '<script>', 'alert(', 'x', 'turk', ')', '</script>', 'all_comments', 'v=', 'npcmj0xllfo', 'fromurl=', '>', '<script>', 'alert(', 'redworm', 'from', 'turkey', ')', '</script>', 'friends_email=', '>', '>', '<script', '>', 'alert(', \"'xss'\", ')', '</script>', 'share_message=', 'vulnerable', 's=', '0', 'str=', '<script>', 'alert(', '\"xss_darktoxic\"', ')', '</script>', 'hata=', '<imgsrc', 'http://u', '>', 'kelime=', '<imgsrc', 'http://u', '>', 'kl=', '<imgsrc', 'http://u', '>', 'ara=', '<img', 'src=', 'http://u', '>', 'mode=', '>', '<imgsrc', 'http://u', '>', 'burc=', '0', 'tr=', '>', '<imgsrc', 'http://u', '>', 'alias=', '>', '<imgsrc', 'http://u', '>', 'link=', 'http://u', 'id=', 'list', 'act=', 'k', 'j=', '>', '<script>', 'alert(', 'document.cookie', ')', '</script>', 'keyword=', 'alert(', 'string.fromcharcode(', '0', '0', '0', ')', ')', 'alert(', 'string.fromcharcode(', '0', '0', '0', ')', ')', 'alert(', 'string.fromcharcode(', '0', '0', '0', ')', ')', 'alert(', 'string.fromcharcode(', '0', '0', '0', ')', ')', '>', '</script>', '>', '>', '<script>', 'alert(', 'string.fromcharcode(', '0', '0', '0', ')', ')', '</script>', 'sc=', 'forum', 'w=', '<iframe', 'src=', 'javascript', 'alert(', 'soso.com', 'xssed', 'hexspirit', ')', '>', '</iframe>', 'main=', 'search', 'ust_id=', '0', 'ara=', '>', '<script>', 'alert(', '\"xssed\"', ')', '</script>', 'issue=', '0.gif', '>', '</a>', '<script>', 'alert(', '\"xss\"', ')', '</script>', 'q=', '>', '</a>', '<script>', 'alert(', 'document.cookie', ')', '</script>', 'pbsearch=', 'true', 'domains=', 'photobucket.com', 'client=', 'pub', '0', 'channel=', '0', 'safe=', 'active', 'cof=', 'galt', '0', 'div', 'd0d0d0', 'vlc', '0ff', 'alc', '0ff', 'lc', '0ff', 'bgc', 'ffffff', 't', '0', 'gfnt', '0ff', 'gimp', '0', 's', 'http://u', 'forid', '0', 'cat=', '>', '<script>', 'alert(', \"'0ssi0_tr'\", ')', '</script>', 'offset=', '0', 'inst=', '<script', '>', 'alert(', 'string.fromcharcode(', '0', '0', '0', ')', ')', '</script>', 'abbrevate=', '0', '0', '0email', 'address.com', 'submit=', 'search', 'catid=', '0', 'subcatid=', 'search=', '>', '<script>', 'alert(', \"'0ssi0_tr'\", ')', '</script>', 'juego=', '>', '<script>', 'alert(', 'cola', 'turka', 'numboro', 'ne', 'p', ')', '</script>', 'search=', '>', '<script>', 'alert(', \"'0ssi0_tr'\", ')', '</script>', 'segmento=', '>', '>', '<script>', 'alert(', 'string.fromcharcode(', '0', '0', '0', '0', '0', '0', '0', '0', '0', '0', '0', '0', ')', ')', '</script>', 'pname=', 'qry=', 'alert(', 'string.fromcharcode(', '0', '0', '0', '0', '0', '0', '0', '0', '0', '0', '0', '0', ')', ')', 'alert(', 'string.fromcharcode(', '0', '0', '0', '0', '0', '0', '0', '0', '0', '0', '0', '0', ')', ')', 'alert(', 'string.fromcharcode(', '0', '0', '0', '0', '0', '0', '0', '0', '0', '0', '0', '0', ')', ')', 'alert(', 'string.fromcharcode(', '0', '0', '0', '0', '0', '0', '0', '0', '0', '0', '0', '0', ')', ')', '>', '</script>', '>', '>', '<script>', 'alert(', 'string.fromcharcode(', '0', '0', '0', '0', '0', '0', '0', '0', '0', '0', '0', '0', ')', ')', '</script>', 'cat=', '>', '</a>', '<script>', 'alert(', 'document.cookie', ')', '</script>', 'user=', '</script>', '>', '<script>', 'alert(', 'string.fromcharcode(', '0', ')', ')', '</script>', 'fromcp=', 'y', 'jobcategorycodeid=', 'joblocationcodeid=', 'jobproductcodeid=', 'jobtitlecodeid=', 'divisions=', 'targetlevels=', 'keywords=', 'job', 'jobcode=', 'manageralias=', 'interval=', '0', 'sortorder=', '>', '<script>', 'alert(', 'document.cookie', ')', '</script>', 'template_type=', 'computer_store', 'landing=', 'desktops', 'a0=', 'brand', 'v0=', 'hp', 'pavilion', 'media', 'center', 'aoid=', 'alert(', 'string.fromcharcode(', '0', '0', '0', '0', '0', ')', ')', 'alert(', 'string.fromcharcode(', '0', '0', '0', '0', '0', ')', ')', 'alert(', 'string.fromcharcode(', '0', '0', '0', '0', '0', ')', ')', 'alert(', 'string.fromcharcode(', '0', '0', '0', '0', '0', ')', ')', '>', '</script>', '>', '>', '<script>', 'alert(', 'string.fromcharcode(', '0', '0', '0', '0', '0', ')', ')', '</script>', 'mtd=', '0', 'strkey=', '>', '<script>', 'alert(', \"'0ssi0_tr'\", ')', '</script>', 'kh=', '>', '<script>', 'alert(', 'document.cookie', ')', '</script>', 'title=', '<script>', 'alert(', 'the', 'best', 'xsser', ')', '</script>', 'last=', '>', '<script>', 'alert(', \"'0ssi0_tr'\", ')', '</script>', 'hl=', 'tr', 'lr=', 'as_qdr=', 'all', 'q=', '>', '<script>', 'alert(', \"'0ssi0_tr'\", ')', '</script>', 'action=', 'formgen', 'template=', '<script>', 'alert(', \"'e0'\", ')', '</script>', 'n=', 'main.wikisandbox', 'from=', '>', '<bodyonload', 'alert(', '0', ')', '>']\n"
     ]
    }
   ],
   "source": [
    "# 取词的全集生成新的SFrame\n",
    "ans = []\n",
    "evil['parsed'].apply(lambda x:[ans.append(i) for i in x])\n",
    "print ans"
   ]
  },
  {
   "cell_type": "code",
   "execution_count": 9,
   "metadata": {
    "collapsed": false
   },
   "outputs": [],
   "source": [
    "evil_word_frame = gl.SFrame(data=ans)"
   ]
  },
  {
   "cell_type": "code",
   "execution_count": 10,
   "metadata": {
    "collapsed": false
   },
   "outputs": [
    {
     "data": {
      "text/html": [
       "<div style=\"max-height:1000px;max-width:1500px;overflow:auto;\"><table frame=\"box\" rules=\"cols\">\n",
       "    <tr>\n",
       "        <th style=\"padding-left: 1em; padding-right: 1em; text-align: center\">X1</th>\n",
       "    </tr>\n",
       "    <tr>\n",
       "        <td style=\"padding-left: 1em; padding-right: 1em; text-align: center; vertical-align: top\">search=</td>\n",
       "    </tr>\n",
       "    <tr>\n",
       "        <td style=\"padding-left: 1em; padding-right: 1em; text-align: center; vertical-align: top\">&lt;/script&gt;</td>\n",
       "    </tr>\n",
       "    <tr>\n",
       "        <td style=\"padding-left: 1em; padding-right: 1em; text-align: center; vertical-align: top\">&lt;img</td>\n",
       "    </tr>\n",
       "    <tr>\n",
       "        <td style=\"padding-left: 1em; padding-right: 1em; text-align: center; vertical-align: top\">src=</td>\n",
       "    </tr>\n",
       "    <tr>\n",
       "        <td style=\"padding-left: 1em; padding-right: 1em; text-align: center; vertical-align: top\">worksinchrome</td>\n",
       "    </tr>\n",
       "    <tr>\n",
       "        <td style=\"padding-left: 1em; padding-right: 1em; text-align: center; vertical-align: top\">colon</td>\n",
       "    </tr>\n",
       "    <tr>\n",
       "        <td style=\"padding-left: 1em; padding-right: 1em; text-align: center; vertical-align: top\">prompt</td>\n",
       "    </tr>\n",
       "    <tr>\n",
       "        <td style=\"padding-left: 1em; padding-right: 1em; text-align: center; vertical-align: top\">x0</td>\n",
       "    </tr>\n",
       "    <tr>\n",
       "        <td style=\"padding-left: 1em; padding-right: 1em; text-align: center; vertical-align: top\">0</td>\n",
       "    </tr>\n",
       "    <tr>\n",
       "        <td style=\"padding-left: 1em; padding-right: 1em; text-align: center; vertical-align: top\">x0</td>\n",
       "    </tr>\n",
       "</table>\n",
       "[1595 rows x 1 columns]<br/>Note: Only the head of the SFrame is printed.<br/>You can use print_rows(num_rows=m, num_columns=n) to print more rows and columns.\n",
       "</div>"
      ],
      "text/plain": [
       "Columns:\n",
       "\tX1\tstr\n",
       "\n",
       "Rows: 1595\n",
       "\n",
       "Data:\n",
       "+---------------+\n",
       "|       X1      |\n",
       "+---------------+\n",
       "|    search=    |\n",
       "|   </script>   |\n",
       "|      <img     |\n",
       "|      src=     |\n",
       "| worksinchrome |\n",
       "|     colon     |\n",
       "|     prompt    |\n",
       "|       x0      |\n",
       "|       0       |\n",
       "|       x0      |\n",
       "+---------------+\n",
       "[1595 rows x 1 columns]\n",
       "Note: Only the head of the SFrame is printed.\n",
       "You can use print_rows(num_rows=m, num_columns=n) to print more rows and columns."
      ]
     },
     "execution_count": 10,
     "metadata": {},
     "output_type": "execute_result"
    }
   ],
   "source": [
    "evil_word_frame"
   ]
  },
  {
   "cell_type": "code",
   "execution_count": 12,
   "metadata": {
    "collapsed": false
   },
   "outputs": [],
   "source": [
    "# 增加统计列\n",
    "evil_word_frame['count'] = evil_word_frame.apply(lambda x:len(evil_word_frame.filter_by(x['X1'],'X1')))"
   ]
  },
  {
   "cell_type": "code",
   "execution_count": 13,
   "metadata": {
    "collapsed": false
   },
   "outputs": [],
   "source": [
    "# 去重，按数量排序\n",
    "evil_word_frame = evil_word_frame.unique().sort('count',ascending=False)"
   ]
  },
  {
   "cell_type": "code",
   "execution_count": 14,
   "metadata": {
    "collapsed": false
   },
   "outputs": [
    {
     "data": {
      "text/html": [
       "<div style=\"max-height:1000px;max-width:1500px;overflow:auto;\"><table frame=\"box\" rules=\"cols\">\n",
       "    <tr>\n",
       "        <th style=\"padding-left: 1em; padding-right: 1em; text-align: center\">X1</th>\n",
       "        <th style=\"padding-left: 1em; padding-right: 1em; text-align: center\">count</th>\n",
       "    </tr>\n",
       "    <tr>\n",
       "        <td style=\"padding-left: 1em; padding-right: 1em; text-align: center; vertical-align: top\">0</td>\n",
       "        <td style=\"padding-left: 1em; padding-right: 1em; text-align: center; vertical-align: top\">491</td>\n",
       "    </tr>\n",
       "    <tr>\n",
       "        <td style=\"padding-left: 1em; padding-right: 1em; text-align: center; vertical-align: top\">)</td>\n",
       "        <td style=\"padding-left: 1em; padding-right: 1em; text-align: center; vertical-align: top\">155</td>\n",
       "    </tr>\n",
       "    <tr>\n",
       "        <td style=\"padding-left: 1em; padding-right: 1em; text-align: center; vertical-align: top\">&gt;</td>\n",
       "        <td style=\"padding-left: 1em; padding-right: 1em; text-align: center; vertical-align: top\">120</td>\n",
       "    </tr>\n",
       "    <tr>\n",
       "        <td style=\"padding-left: 1em; padding-right: 1em; text-align: center; vertical-align: top\">alert(</td>\n",
       "        <td style=\"padding-left: 1em; padding-right: 1em; text-align: center; vertical-align: top\">113</td>\n",
       "    </tr>\n",
       "    <tr>\n",
       "        <td style=\"padding-left: 1em; padding-right: 1em; text-align: center; vertical-align: top\">&lt;/script&gt;</td>\n",
       "        <td style=\"padding-left: 1em; padding-right: 1em; text-align: center; vertical-align: top\">99</td>\n",
       "    </tr>\n",
       "    <tr>\n",
       "        <td style=\"padding-left: 1em; padding-right: 1em; text-align: center; vertical-align: top\">&lt;script&gt;</td>\n",
       "        <td style=\"padding-left: 1em; padding-right: 1em; text-align: center; vertical-align: top\">83</td>\n",
       "    </tr>\n",
       "    <tr>\n",
       "        <td style=\"padding-left: 1em; padding-right: 1em; text-align: center; vertical-align: top\">string.fromcharcode(</td>\n",
       "        <td style=\"padding-left: 1em; padding-right: 1em; text-align: center; vertical-align: top\">37</td>\n",
       "    </tr>\n",
       "    <tr>\n",
       "        <td style=\"padding-left: 1em; padding-right: 1em; text-align: center; vertical-align: top\">http://u</td>\n",
       "        <td style=\"padding-left: 1em; padding-right: 1em; text-align: center; vertical-align: top\">15</td>\n",
       "    </tr>\n",
       "    <tr>\n",
       "        <td style=\"padding-left: 1em; padding-right: 1em; text-align: center; vertical-align: top\">document.cookie</td>\n",
       "        <td style=\"padding-left: 1em; padding-right: 1em; text-align: center; vertical-align: top\">15</td>\n",
       "    </tr>\n",
       "    <tr>\n",
       "        <td style=\"padding-left: 1em; padding-right: 1em; text-align: center; vertical-align: top\">xss</td>\n",
       "        <td style=\"padding-left: 1em; padding-right: 1em; text-align: center; vertical-align: top\">10</td>\n",
       "    </tr>\n",
       "</table>\n",
       "[330 rows x 2 columns]<br/>Note: Only the head of the SFrame is printed.<br/>You can use print_rows(num_rows=m, num_columns=n) to print more rows and columns.\n",
       "</div>"
      ],
      "text/plain": [
       "Columns:\n",
       "\tX1\tstr\n",
       "\tcount\tint\n",
       "\n",
       "Rows: 330\n",
       "\n",
       "Data:\n",
       "+----------------------+-------+\n",
       "|          X1          | count |\n",
       "+----------------------+-------+\n",
       "|          0           |  491  |\n",
       "|          )           |  155  |\n",
       "|          >           |  120  |\n",
       "|        alert(        |  113  |\n",
       "|      </script>       |   99  |\n",
       "|       <script>       |   83  |\n",
       "| string.fromcharcode( |   37  |\n",
       "|       http://u       |   15  |\n",
       "|   document.cookie    |   15  |\n",
       "|         xss          |   10  |\n",
       "+----------------------+-------+\n",
       "[330 rows x 2 columns]\n",
       "Note: Only the head of the SFrame is printed.\n",
       "You can use print_rows(num_rows=m, num_columns=n) to print more rows and columns."
      ]
     },
     "execution_count": 14,
     "metadata": {},
     "output_type": "execute_result"
    }
   ],
   "source": [
    "evil_word_frame"
   ]
  },
  {
   "cell_type": "code",
   "execution_count": 16,
   "metadata": {
    "collapsed": false
   },
   "outputs": [],
   "source": [
    "# 取前300个词作为词表\n",
    "wordlist_len = 300\n",
    "\n",
    "evil_word_frame = evil_word_frame[0:wordlist_len]"
   ]
  },
  {
   "cell_type": "code",
   "execution_count": 17,
   "metadata": {
    "collapsed": false
   },
   "outputs": [
    {
     "data": {
      "text/html": [
       "<div style=\"max-height:1000px;max-width:1500px;overflow:auto;\"><table frame=\"box\" rules=\"cols\">\n",
       "    <tr>\n",
       "        <th style=\"padding-left: 1em; padding-right: 1em; text-align: center\">X1</th>\n",
       "        <th style=\"padding-left: 1em; padding-right: 1em; text-align: center\">count</th>\n",
       "    </tr>\n",
       "    <tr>\n",
       "        <td style=\"padding-left: 1em; padding-right: 1em; text-align: center; vertical-align: top\">0</td>\n",
       "        <td style=\"padding-left: 1em; padding-right: 1em; text-align: center; vertical-align: top\">491</td>\n",
       "    </tr>\n",
       "    <tr>\n",
       "        <td style=\"padding-left: 1em; padding-right: 1em; text-align: center; vertical-align: top\">)</td>\n",
       "        <td style=\"padding-left: 1em; padding-right: 1em; text-align: center; vertical-align: top\">155</td>\n",
       "    </tr>\n",
       "    <tr>\n",
       "        <td style=\"padding-left: 1em; padding-right: 1em; text-align: center; vertical-align: top\">&gt;</td>\n",
       "        <td style=\"padding-left: 1em; padding-right: 1em; text-align: center; vertical-align: top\">120</td>\n",
       "    </tr>\n",
       "    <tr>\n",
       "        <td style=\"padding-left: 1em; padding-right: 1em; text-align: center; vertical-align: top\">alert(</td>\n",
       "        <td style=\"padding-left: 1em; padding-right: 1em; text-align: center; vertical-align: top\">113</td>\n",
       "    </tr>\n",
       "    <tr>\n",
       "        <td style=\"padding-left: 1em; padding-right: 1em; text-align: center; vertical-align: top\">&lt;/script&gt;</td>\n",
       "        <td style=\"padding-left: 1em; padding-right: 1em; text-align: center; vertical-align: top\">99</td>\n",
       "    </tr>\n",
       "    <tr>\n",
       "        <td style=\"padding-left: 1em; padding-right: 1em; text-align: center; vertical-align: top\">&lt;script&gt;</td>\n",
       "        <td style=\"padding-left: 1em; padding-right: 1em; text-align: center; vertical-align: top\">83</td>\n",
       "    </tr>\n",
       "    <tr>\n",
       "        <td style=\"padding-left: 1em; padding-right: 1em; text-align: center; vertical-align: top\">string.fromcharcode(</td>\n",
       "        <td style=\"padding-left: 1em; padding-right: 1em; text-align: center; vertical-align: top\">37</td>\n",
       "    </tr>\n",
       "    <tr>\n",
       "        <td style=\"padding-left: 1em; padding-right: 1em; text-align: center; vertical-align: top\">http://u</td>\n",
       "        <td style=\"padding-left: 1em; padding-right: 1em; text-align: center; vertical-align: top\">15</td>\n",
       "    </tr>\n",
       "    <tr>\n",
       "        <td style=\"padding-left: 1em; padding-right: 1em; text-align: center; vertical-align: top\">document.cookie</td>\n",
       "        <td style=\"padding-left: 1em; padding-right: 1em; text-align: center; vertical-align: top\">15</td>\n",
       "    </tr>\n",
       "    <tr>\n",
       "        <td style=\"padding-left: 1em; padding-right: 1em; text-align: center; vertical-align: top\">xss</td>\n",
       "        <td style=\"padding-left: 1em; padding-right: 1em; text-align: center; vertical-align: top\">10</td>\n",
       "    </tr>\n",
       "</table>\n",
       "[300 rows x 2 columns]<br/>Note: Only the head of the SFrame is printed.<br/>You can use print_rows(num_rows=m, num_columns=n) to print more rows and columns.\n",
       "</div>"
      ],
      "text/plain": [
       "Columns:\n",
       "\tX1\tstr\n",
       "\tcount\tint\n",
       "\n",
       "Rows: 300\n",
       "\n",
       "Data:\n",
       "+----------------------+-------+\n",
       "|          X1          | count |\n",
       "+----------------------+-------+\n",
       "|          0           |  491  |\n",
       "|          )           |  155  |\n",
       "|          >           |  120  |\n",
       "|        alert(        |  113  |\n",
       "|      </script>       |   99  |\n",
       "|       <script>       |   83  |\n",
       "| string.fromcharcode( |   37  |\n",
       "|       http://u       |   15  |\n",
       "|   document.cookie    |   15  |\n",
       "|         xss          |   10  |\n",
       "+----------------------+-------+\n",
       "[300 rows x 2 columns]\n",
       "Note: Only the head of the SFrame is printed.\n",
       "You can use print_rows(num_rows=m, num_columns=n) to print more rows and columns."
      ]
     },
     "execution_count": 17,
     "metadata": {},
     "output_type": "execute_result"
    }
   ],
   "source": [
    "evil_word_frame"
   ]
  },
  {
   "cell_type": "code",
   "execution_count": 18,
   "metadata": {
    "collapsed": true
   },
   "outputs": [],
   "source": [
    "evil_word_frame.save('file/evil_word_list.csv', format='csv')"
   ]
  },
  {
   "cell_type": "markdown",
   "metadata": {},
   "source": [
    "# 5 词向量"
   ]
  },
  {
   "cell_type": "code",
   "execution_count": 19,
   "metadata": {
    "collapsed": false
   },
   "outputs": [],
   "source": [
    "# 将不在词表内的词全部替换为'WORD'，结果存入'words'列\n",
    "evil['words'] = evil.apply(lambda x:[i if len(evil_word_frame.filter_by(i,'X1')) else 'WORD' for i in x['parsed']])"
   ]
  },
  {
   "cell_type": "code",
   "execution_count": 20,
   "metadata": {
    "collapsed": false
   },
   "outputs": [
    {
     "data": {
      "text/html": [
       "<div style=\"max-height:1000px;max-width:1500px;overflow:auto;\"><table frame=\"box\" rules=\"cols\">\n",
       "    <tr>\n",
       "        <th style=\"padding-left: 1em; padding-right: 1em; text-align: center\">param</th>\n",
       "        <th style=\"padding-left: 1em; padding-right: 1em; text-align: center\">parsed</th>\n",
       "        <th style=\"padding-left: 1em; padding-right: 1em; text-align: center\">words</th>\n",
       "    </tr>\n",
       "    <tr>\n",
       "        <td style=\"padding-left: 1em; padding-right: 1em; text-align: center; vertical-align: top\">Search%3D%3C/script%3E%3C<br>img/%2A%00/src%3D%22w ...</td>\n",
       "        <td style=\"padding-left: 1em; padding-right: 1em; text-align: center; vertical-align: top\">[search=, &lt;/script&gt;,<br>&lt;img, src=, ...</td>\n",
       "        <td style=\"padding-left: 1em; padding-right: 1em; text-align: center; vertical-align: top\">[search=, &lt;/script&gt;,<br>&lt;img, src=, ...</td>\n",
       "    </tr>\n",
       "    <tr>\n",
       "        <td style=\"padding-left: 1em; padding-right: 1em; text-align: center; vertical-align: top\">symbol%3D%3Ch1%3E%3Cscrip<br>t%3Ealert%28/hacked/% ...</td>\n",
       "        <td style=\"padding-left: 1em; padding-right: 1em; text-align: center; vertical-align: top\">[symbol=, &lt;h0&gt;, &lt;script&gt;,<br>alert(, hacked, ), ...</td>\n",
       "        <td style=\"padding-left: 1em; padding-right: 1em; text-align: center; vertical-align: top\">[WORD, &lt;h0&gt;, &lt;script&gt;,<br>alert(, hacked, ), ...</td>\n",
       "    </tr>\n",
       "    <tr>\n",
       "        <td style=\"padding-left: 1em; padding-right: 1em; text-align: center; vertical-align: top\">query%3D%3CIMG%2B%22%22%2<br>2%3E%3CSCRIPT%3Ealert ...</td>\n",
       "        <td style=\"padding-left: 1em; padding-right: 1em; text-align: center; vertical-align: top\">[query=, &lt;img, &gt;,<br>&lt;script&gt;, alert(, ...</td>\n",
       "        <td style=\"padding-left: 1em; padding-right: 1em; text-align: center; vertical-align: top\">[query=, &lt;img, &gt;,<br>&lt;script&gt;, alert(, ...</td>\n",
       "    </tr>\n",
       "    <tr>\n",
       "        <td style=\"padding-left: 1em; padding-right: 1em; text-align: center; vertical-align: top\">ReturnUrl%3Dhttp%3A//www.<br>elle.fr/recherche ...</td>\n",
       "        <td style=\"padding-left: 1em; padding-right: 1em; text-align: center; vertical-align: top\">[returnurl=, http://u,<br>globale, searchtext, ), ...</td>\n",
       "        <td style=\"padding-left: 1em; padding-right: 1em; text-align: center; vertical-align: top\">[returnurl=, http://u,<br>globale, searchtext, ), ...</td>\n",
       "    </tr>\n",
       "    <tr>\n",
       "        <td style=\"padding-left: 1em; padding-right: 1em; text-align: center; vertical-align: top\">_lang%3D%22%3E%3Cscript%3<br>Ealert%28document.coo ...</td>\n",
       "        <td style=\"padding-left: 1em; padding-right: 1em; text-align: center; vertical-align: top\">[_lang=, &gt;, &lt;script&gt;,<br>alert(, document.cookie, ...</td>\n",
       "        <td style=\"padding-left: 1em; padding-right: 1em; text-align: center; vertical-align: top\">[_lang=, &gt;, &lt;script&gt;,<br>alert(, document.cookie, ...</td>\n",
       "    </tr>\n",
       "    <tr>\n",
       "        <td style=\"padding-left: 1em; padding-right: 1em; text-align: center; vertical-align: top\">language%3D%22%3E%3C/scri<br>pt%3E%22%3E%27%3E%3Cs ...</td>\n",
       "        <td style=\"padding-left: 1em; padding-right: 1em; text-align: center; vertical-align: top\">[language=, &gt;, &lt;/script&gt;,<br>&gt;, &gt;, &lt;script&gt;, alert(, ...</td>\n",
       "        <td style=\"padding-left: 1em; padding-right: 1em; text-align: center; vertical-align: top\">[language=, &gt;, &lt;/script&gt;,<br>&gt;, &gt;, &lt;script&gt;, alert(, ...</td>\n",
       "    </tr>\n",
       "    <tr>\n",
       "        <td style=\"padding-left: 1em; padding-right: 1em; text-align: center; vertical-align: top\">q%3Dbentley%26stylesheet%<br>3D%22%3E%3Cscript%3Ea ...</td>\n",
       "        <td style=\"padding-left: 1em; padding-right: 1em; text-align: center; vertical-align: top\">[q=, bentley,<br>stylesheet=, &gt;, &lt;scri ...</td>\n",
       "        <td style=\"padding-left: 1em; padding-right: 1em; text-align: center; vertical-align: top\">[q=, bentley,<br>stylesheet=, &gt;, &lt;scri ...</td>\n",
       "    </tr>\n",
       "    <tr>\n",
       "        <td style=\"padding-left: 1em; padding-right: 1em; text-align: center; vertical-align: top\">option%3Dcom_wdshop%26vie<br>w%3Duserinfo%26ajax_j ...</td>\n",
       "        <td style=\"padding-left: 1em; padding-right: 1em; text-align: center; vertical-align: top\">[option=, com_wdshop,<br>view=, userinfo, ...</td>\n",
       "        <td style=\"padding-left: 1em; padding-right: 1em; text-align: center; vertical-align: top\">[WORD, com_wdshop, view=,<br>userinfo, ajax_json=, ...</td>\n",
       "    </tr>\n",
       "    <tr>\n",
       "        <td style=\"padding-left: 1em; padding-right: 1em; text-align: center; vertical-align: top\">CT_ORIG_URL%3D/arena/%22%<br>3E%3Cscript%3Ealert%2 ...</td>\n",
       "        <td style=\"padding-left: 1em; padding-right: 1em; text-align: center; vertical-align: top\">[ct_orig_url=, arena, &gt;,<br>&lt;script&gt;, alert(, 0, ), ...</td>\n",
       "        <td style=\"padding-left: 1em; padding-right: 1em; text-align: center; vertical-align: top\">[ct_orig_url=, arena, &gt;,<br>&lt;script&gt;, alert(, 0, ), ...</td>\n",
       "    </tr>\n",
       "    <tr>\n",
       "        <td style=\"padding-left: 1em; padding-right: 1em; text-align: center; vertical-align: top\">query%3DSearch...%26Produ<br>ct%3D%27%22--%3E%3C/s ...</td>\n",
       "        <td style=\"padding-left: 1em; padding-right: 1em; text-align: center; vertical-align: top\">[query=, search...,<br>product=, &gt;, &lt;/style&gt;, ...</td>\n",
       "        <td style=\"padding-left: 1em; padding-right: 1em; text-align: center; vertical-align: top\">[query=, search...,<br>product=, &gt;, &lt;/style&gt;, ...</td>\n",
       "    </tr>\n",
       "</table>\n",
       "[40637 rows x 3 columns]<br/>Note: Only the head of the SFrame is printed.<br/>You can use print_rows(num_rows=m, num_columns=n) to print more rows and columns.\n",
       "</div>"
      ],
      "text/plain": [
       "Columns:\n",
       "\tparam\tstr\n",
       "\tparsed\tlist\n",
       "\twords\tlist\n",
       "\n",
       "Rows: 40637\n",
       "\n",
       "Data:\n",
       "+-------------------------------+-------------------------------+\n",
       "|             param             |             parsed            |\n",
       "+-------------------------------+-------------------------------+\n",
       "| Search%3D%3C/script%3E%3Ci... | [search=, </script>, <img,... |\n",
       "| symbol%3D%3Ch1%3E%3Cscript... | [symbol=, <h0>, <script>, ... |\n",
       "| query%3D%3CIMG%2B%22%22%22... | [query=, <img, >, <script>... |\n",
       "| ReturnUrl%3Dhttp%3A//www.e... | [returnurl=, http://u, glo... |\n",
       "| _lang%3D%22%3E%3Cscript%3E... | [_lang=, >, <script>, aler... |\n",
       "| language%3D%22%3E%3C/scrip... | [language=, >, </script>, ... |\n",
       "| q%3Dbentley%26stylesheet%3... | [q=, bentley, stylesheet=,... |\n",
       "| option%3Dcom_wdshop%26view... | [option=, com_wdshop, view... |\n",
       "| CT_ORIG_URL%3D/arena/%22%3... | [ct_orig_url=, arena, >, <... |\n",
       "| query%3DSearch...%26Produc... | [query=, search..., produc... |\n",
       "+-------------------------------+-------------------------------+\n",
       "+-------------------------------+\n",
       "|             words             |\n",
       "+-------------------------------+\n",
       "| [search=, </script>, <img,... |\n",
       "| [WORD, <h0>, <script>, ale... |\n",
       "| [query=, <img, >, <script>... |\n",
       "| [returnurl=, http://u, glo... |\n",
       "| [_lang=, >, <script>, aler... |\n",
       "| [language=, >, </script>, ... |\n",
       "| [q=, bentley, stylesheet=,... |\n",
       "| [WORD, com_wdshop, view=, ... |\n",
       "| [ct_orig_url=, arena, >, <... |\n",
       "| [query=, search..., produc... |\n",
       "+-------------------------------+\n",
       "[40637 rows x 3 columns]\n",
       "Note: Only the head of the SFrame is printed.\n",
       "You can use print_rows(num_rows=m, num_columns=n) to print more rows and columns."
      ]
     },
     "execution_count": 20,
     "metadata": {},
     "output_type": "execute_result"
    }
   ],
   "source": [
    "evil"
   ]
  },
  {
   "cell_type": "code",
   "execution_count": 21,
   "metadata": {
    "collapsed": true
   },
   "outputs": [],
   "source": [
    "normal['words'] = normal.apply(lambda x:[i if len(evil_word_frame.filter_by(i,'X1')) else 'WORD' for i in x['parsed']])"
   ]
  },
  {
   "cell_type": "code",
   "execution_count": 22,
   "metadata": {
    "collapsed": false
   },
   "outputs": [
    {
     "data": {
      "text/html": [
       "<div style=\"max-height:1000px;max-width:1500px;overflow:auto;\"><table frame=\"box\" rules=\"cols\">\n",
       "    <tr>\n",
       "        <th style=\"padding-left: 1em; padding-right: 1em; text-align: center\">param</th>\n",
       "        <th style=\"padding-left: 1em; padding-right: 1em; text-align: center\">parsed</th>\n",
       "        <th style=\"padding-left: 1em; padding-right: 1em; text-align: center\">words</th>\n",
       "    </tr>\n",
       "    <tr>\n",
       "        <td style=\"padding-left: 1em; padding-right: 1em; text-align: center; vertical-align: top\">_%3D1498591621808</td>\n",
       "        <td style=\"padding-left: 1em; padding-right: 1em; text-align: center; vertical-align: top\">[_=, 0]</td>\n",
       "        <td style=\"padding-left: 1em; padding-right: 1em; text-align: center; vertical-align: top\">[WORD, 0]</td>\n",
       "    </tr>\n",
       "    <tr>\n",
       "        <td style=\"padding-left: 1em; padding-right: 1em; text-align: center; vertical-align: top\">code%3Dzs_000001%2Czs_399<br>001%2Czs_399006%26cb% ...</td>\n",
       "        <td style=\"padding-left: 1em; padding-right: 1em; text-align: center; vertical-align: top\">[code=, zs_0, zs_0, zs_0,<br>cb=, fortune_hq_cn, _=, ...</td>\n",
       "        <td style=\"padding-left: 1em; padding-right: 1em; text-align: center; vertical-align: top\">[WORD, WORD, WORD, WORD,<br>WORD, WORD, WORD, 0] ...</td>\n",
       "    </tr>\n",
       "    <tr>\n",
       "        <td style=\"padding-left: 1em; padding-right: 1em; text-align: center; vertical-align: top\">_%3D1498591951848%26list%<br>3Dml_sh600030 ...</td>\n",
       "        <td style=\"padding-left: 1em; padding-right: 1em; text-align: center; vertical-align: top\">[_=, 0, list=, ml_sh0]</td>\n",
       "        <td style=\"padding-left: 1em; padding-right: 1em; text-align: center; vertical-align: top\">[WORD, 0, WORD, WORD]</td>\n",
       "    </tr>\n",
       "    <tr>\n",
       "        <td style=\"padding-left: 1em; padding-right: 1em; text-align: center; vertical-align: top\">6053%26ri%3Dzb6-00f%7E-<br>04gUry-01h- ...</td>\n",
       "        <td style=\"padding-left: 1em; padding-right: 1em; text-align: center; vertical-align: top\">[0, ri=, zb0, 0f, 0gury,<br>0h, 0rc, tn=, 0, en=, ...</td>\n",
       "        <td style=\"padding-left: 1em; padding-right: 1em; text-align: center; vertical-align: top\">[0, WORD, WORD, WORD,<br>WORD, WORD, WORD, WORD, ...</td>\n",
       "    </tr>\n",
       "    <tr>\n",
       "        <td style=\"padding-left: 1em; padding-right: 1em; text-align: center; vertical-align: top\">b1498592370545%3D1</td>\n",
       "        <td style=\"padding-left: 1em; padding-right: 1em; text-align: center; vertical-align: top\">[b0=, 0]</td>\n",
       "        <td style=\"padding-left: 1em; padding-right: 1em; text-align: center; vertical-align: top\">[WORD, 0]</td>\n",
       "    </tr>\n",
       "    <tr>\n",
       "        <td style=\"padding-left: 1em; padding-right: 1em; text-align: center; vertical-align: top\">v%3D13111002</td>\n",
       "        <td style=\"padding-left: 1em; padding-right: 1em; text-align: center; vertical-align: top\">[v=, 0]</td>\n",
       "        <td style=\"padding-left: 1em; padding-right: 1em; text-align: center; vertical-align: top\">[v=, 0]</td>\n",
       "    </tr>\n",
       "    <tr>\n",
       "        <td style=\"padding-left: 1em; padding-right: 1em; text-align: center; vertical-align: top\">COLLCC%3D3442798258%26</td>\n",
       "        <td style=\"padding-left: 1em; padding-right: 1em; text-align: center; vertical-align: top\">[collcc=, 0]</td>\n",
       "        <td style=\"padding-left: 1em; padding-right: 1em; text-align: center; vertical-align: top\">[WORD, 0]</td>\n",
       "    </tr>\n",
       "    <tr>\n",
       "        <td style=\"padding-left: 1em; padding-right: 1em; text-align: center; vertical-align: top\">t%3Dcheck%26rec%3Dstratus<br>%26etyp%3Dconnect%26z ...</td>\n",
       "        <td style=\"padding-left: 1em; padding-right: 1em; text-align: center; vertical-align: top\">[t=, check, rec=,<br>stratus, etyp=, connect, ...</td>\n",
       "        <td style=\"padding-left: 1em; padding-right: 1em; text-align: center; vertical-align: top\">[WORD, WORD, WORD, WORD,<br>WORD, WORD, WORD, WORD, ...</td>\n",
       "    </tr>\n",
       "    <tr>\n",
       "        <td style=\"padding-left: 1em; padding-right: 1em; text-align: center; vertical-align: top\">cn_600022%2Ccn_600516%2Cc<br>n_000002%2Ccn_600519% ...</td>\n",
       "        <td style=\"padding-left: 1em; padding-right: 1em; text-align: center; vertical-align: top\">[cn_0, cn_0, cn_0, cn_0,<br>cn_0, cn_0, cn_0, cn_0, ...</td>\n",
       "        <td style=\"padding-left: 1em; padding-right: 1em; text-align: center; vertical-align: top\">[WORD, WORD, WORD, WORD,<br>WORD, WORD, WORD, WORD, ...</td>\n",
       "    </tr>\n",
       "    <tr>\n",
       "        <td style=\"padding-left: 1em; padding-right: 1em; text-align: center; vertical-align: top\">_%3D1498179095094%26list%<br>3Dsh600030 ...</td>\n",
       "        <td style=\"padding-left: 1em; padding-right: 1em; text-align: center; vertical-align: top\">[_=, 0, list=, sh0]</td>\n",
       "        <td style=\"padding-left: 1em; padding-right: 1em; text-align: center; vertical-align: top\">[WORD, 0, WORD, WORD]</td>\n",
       "    </tr>\n",
       "</table>\n",
       "[200129 rows x 3 columns]<br/>Note: Only the head of the SFrame is printed.<br/>You can use print_rows(num_rows=m, num_columns=n) to print more rows and columns.\n",
       "</div>"
      ],
      "text/plain": [
       "Columns:\n",
       "\tparam\tstr\n",
       "\tparsed\tlist\n",
       "\twords\tlist\n",
       "\n",
       "Rows: 200129\n",
       "\n",
       "Data:\n",
       "+-------------------------------+-------------------------------+\n",
       "|             param             |             parsed            |\n",
       "+-------------------------------+-------------------------------+\n",
       "|       _%3D1498591621808       |            [_=, 0]            |\n",
       "| code%3Dzs_000001%2Czs_3990... | [code=, zs_0, zs_0, zs_0, ... |\n",
       "| _%3D1498591951848%26list%3... |     [_=, 0, list=, ml_sh0]    |\n",
       "| 6053%26ri%3Dzb6-00f%7E-04g... | [0, ri=, zb0, 0f, 0gury, 0... |\n",
       "|       b1498592370545%3D1      |            [b0=, 0]           |\n",
       "|          v%3D13111002         |            [v=, 0]            |\n",
       "|     COLLCC%3D3442798258%26    |          [collcc=, 0]         |\n",
       "| t%3Dcheck%26rec%3Dstratus%... | [t=, check, rec=, stratus,... |\n",
       "| cn_600022%2Ccn_600516%2Ccn... | [cn_0, cn_0, cn_0, cn_0, c... |\n",
       "| _%3D1498179095094%26list%3... |      [_=, 0, list=, sh0]      |\n",
       "+-------------------------------+-------------------------------+\n",
       "+-------------------------------+\n",
       "|             words             |\n",
       "+-------------------------------+\n",
       "|           [WORD, 0]           |\n",
       "| [WORD, WORD, WORD, WORD, W... |\n",
       "|     [WORD, 0, WORD, WORD]     |\n",
       "| [0, WORD, WORD, WORD, WORD... |\n",
       "|           [WORD, 0]           |\n",
       "|            [v=, 0]            |\n",
       "|           [WORD, 0]           |\n",
       "| [WORD, WORD, WORD, WORD, W... |\n",
       "| [WORD, WORD, WORD, WORD, W... |\n",
       "|     [WORD, 0, WORD, WORD]     |\n",
       "+-------------------------------+\n",
       "[200129 rows x 3 columns]\n",
       "Note: Only the head of the SFrame is printed.\n",
       "You can use print_rows(num_rows=m, num_columns=n) to print more rows and columns."
      ]
     },
     "execution_count": 22,
     "metadata": {},
     "output_type": "execute_result"
    }
   ],
   "source": [
    "normal"
   ]
  },
  {
   "cell_type": "code",
   "execution_count": null,
   "metadata": {
    "collapsed": false
   },
   "outputs": [],
   "source": [
    "# gl.SFrame([evil['words']]).save('file/evil.csv', format='csv')"
   ]
  },
  {
   "cell_type": "code",
   "execution_count": null,
   "metadata": {
    "collapsed": false
   },
   "outputs": [],
   "source": [
    "# from graphlab.toolkits.feature_engineering import OneHotEncoder\n",
    "# encoder = gl.feature_engineering.create(evil, OneHotEncoder(features = ['words']))"
   ]
  },
  {
   "cell_type": "code",
   "execution_count": null,
   "metadata": {
    "collapsed": true
   },
   "outputs": [],
   "source": [
    "# transformed_sf = encoder.transform(sf)"
   ]
  },
  {
   "cell_type": "markdown",
   "metadata": {},
   "source": [
    "## 5.1 word2vec模型训练"
   ]
  },
  {
   "cell_type": "code",
   "execution_count": 23,
   "metadata": {
    "collapsed": false
   },
   "outputs": [
    {
     "name": "stderr",
     "output_type": "stream",
     "text": [
      "Using TensorFlow backend.\n"
     ]
    }
   ],
   "source": [
    "from gensim.models.word2vec import Word2Vec"
   ]
  },
  {
   "cell_type": "code",
   "execution_count": 24,
   "metadata": {
    "collapsed": false
   },
   "outputs": [],
   "source": [
    "embedding_size=128\n",
    "skip_window=5\n",
    "num_sampled=64\n",
    "num_iter=100\n",
    "data_set = evil['words']"
   ]
  },
  {
   "cell_type": "code",
   "execution_count": 25,
   "metadata": {
    "collapsed": false
   },
   "outputs": [
    {
     "data": {
      "text/plain": [
       "dtype: list\n",
       "Rows: 10\n",
       "[['search=', '</script>', '<img', 'src=', 'worksinchrome', 'colon', 'prompt', 'x0', '0', 'x0', 'onerror=', 'eval(', 'src', ')', '>'], ['WORD', '<h0>', '<script>', 'alert(', 'hacked', ')', '</script>', '</h0>', 'id=', '0'], ['query=', '<img', '>', '<script>', 'alert(', '\"cyb0r_pr0dat0r\"', ')', '</script>', '>', 'WORD', 'true', 'ct=', 'null', 'autobounce=', 'true'], ['returnurl=', 'http://u', 'globale', 'searchtext', ')', '>', '<script>', 'alert(', 'xss', 'by', 'm0ke', ')', '</script>'], ['_lang=', '>', '<script>', 'alert(', 'document.cookie', ')', '</script>'], ['language=', '>', '</script>', '>', '>', '<script>', 'alert(', 'arman', 'ires', 'digital', 'boys', 'underground', 'http://u', ')', '</script>'], ['q=', 'bentley', 'stylesheet=', '>', '<script>', 'alert(', \"'raven'\", ')', '</script>', 'collections=', 'libcms'], ['WORD', 'com_wdshop', 'view=', 'userinfo', 'ajax_json=', 'ajax_fill_city_state', 'format=', 'WORD', 'zip=', '>', '</style>', '</script>', '<script>', 'alert(', 'document.cookie', ')', '</script>'], ['ct_orig_url=', 'arena', '>', '<script>', 'alert(', '0', ')', '</script>', '<iframe', 'src=', 'http://u', '>', '</iframe>'], ['query=', 'search...', 'product=', '>', '</style>', '</script>', '<script>', 'alert(', \"'xss'\", ')', '</script>', 'page=', '0']]"
      ]
     },
     "execution_count": 25,
     "metadata": {},
     "output_type": "execute_result"
    }
   ],
   "source": [
    "data_set[0:10]"
   ]
  },
  {
   "cell_type": "code",
   "execution_count": 26,
   "metadata": {
    "collapsed": false
   },
   "outputs": [],
   "source": [
    "# 时间久\n",
    "model=Word2Vec(data_set,size=embedding_size,window=skip_window,negative=num_sampled,iter=num_iter)\n",
    "#model=Word2Vec(data_set)"
   ]
  },
  {
   "cell_type": "markdown",
   "metadata": {},
   "source": [
    "## 5.2 模型存取"
   ]
  },
  {
   "cell_type": "code",
   "execution_count": 27,
   "metadata": {
    "collapsed": true
   },
   "outputs": [],
   "source": [
    "model.save('model_word2vec_auto')\n",
    "\n",
    "# import pickle\n",
    "# with open('model_word2vec_pickle','wb') as f:\n",
    "#     pickle.dump(model,f)"
   ]
  },
  {
   "cell_type": "code",
   "execution_count": 28,
   "metadata": {
    "collapsed": true
   },
   "outputs": [],
   "source": [
    "model_new = Word2Vec.load('model_word2vec_auto')\n",
    "\n",
    "# import pickle\n",
    "# model_new = pickle.load('model_word2vec_pickle')"
   ]
  },
  {
   "cell_type": "markdown",
   "metadata": {},
   "source": [
    "## 5.3 数据存取"
   ]
  },
  {
   "cell_type": "code",
   "execution_count": null,
   "metadata": {
    "collapsed": true
   },
   "outputs": [],
   "source": [
    "# evil.save('evil_data')\n",
    "# normal.save('normal_data')"
   ]
  },
  {
   "cell_type": "code",
   "execution_count": null,
   "metadata": {
    "collapsed": true
   },
   "outputs": [],
   "source": [
    "# evil = graphlab.SFrame('evil_data')\n",
    "# normal = graphlab.SFrame('normal_data')"
   ]
  },
  {
   "cell_type": "markdown",
   "metadata": {},
   "source": [
    "## 5.3 测试模型"
   ]
  },
  {
   "cell_type": "code",
   "execution_count": 29,
   "metadata": {
    "collapsed": true
   },
   "outputs": [],
   "source": [
    "embeddings=model_new.wv"
   ]
  },
  {
   "cell_type": "code",
   "execution_count": 32,
   "metadata": {
    "collapsed": false
   },
   "outputs": [
    {
     "data": {
      "text/plain": [
       "[('keyword=', 0.4176161289215088),\n",
       " ('searchfor=', 0.39741984009742737),\n",
       " ('page=', 0.38440901041030884),\n",
       " ('id=', 0.3829260766506195),\n",
       " ('q=', 0.3615732789039612)]"
      ]
     },
     "execution_count": 32,
     "metadata": {},
     "output_type": "execute_result"
    }
   ],
   "source": [
    "embeddings.similar_by_word(\"</script>\",5)"
   ]
  },
  {
   "cell_type": "code",
   "execution_count": 33,
   "metadata": {
    "collapsed": false
   },
   "outputs": [
    {
     "data": {
      "text/plain": [
       "[(')', 0.3255831003189087),\n",
       " ('</marquee>', 0.3212870955467224),\n",
       " ('</script>', 0.3093520998954773),\n",
       " ('</h0>', 0.30848926305770874),\n",
       " ('<h0>', 0.2897389233112335)]"
      ]
     },
     "execution_count": 33,
     "metadata": {},
     "output_type": "execute_result"
    }
   ],
   "source": [
    "embeddings.similar_by_word(\"alert(\",5)"
   ]
  },
  {
   "cell_type": "markdown",
   "metadata": {},
   "source": [
    "## 5.4 添加向量和标签"
   ]
  },
  {
   "cell_type": "code",
   "execution_count": 34,
   "metadata": {
    "collapsed": true
   },
   "outputs": [],
   "source": [
    "dictionary=dict([(embeddings.index2word[i],i)for i in range(len(embeddings.index2word))])\n",
    "reverse_dictionary=dict(zip(dictionary.values(),dictionary.keys()))"
   ]
  },
  {
   "cell_type": "code",
   "execution_count": 35,
   "metadata": {
    "collapsed": true
   },
   "outputs": [],
   "source": [
    "word2vec={\"dictionary\":dictionary,\"embeddings\":embeddings,\"reverse_dictionary\":reverse_dictionary}"
   ]
  },
  {
   "cell_type": "code",
   "execution_count": 36,
   "metadata": {
    "collapsed": false
   },
   "outputs": [],
   "source": [
    "from graphlab import SArray\n",
    "\n",
    "def generate_vec(words):\n",
    "    l = SArray([0.0]*128)\n",
    "    for word in words:\n",
    "        if word in dictionary:\n",
    "            l += SArray(embeddings[word])\n",
    "    return l"
   ]
  },
  {
   "cell_type": "code",
   "execution_count": 37,
   "metadata": {
    "collapsed": false
   },
   "outputs": [],
   "source": [
    "# 添加新的vec列、label列\n",
    "black = gl.SFrame([evil.apply(lambda x:generate_vec(x['words'])),evil.apply(lambda x:1)])\n",
    "white = gl.SFrame([normal.apply(lambda x:generate_vec(x['words'])),normal.apply(lambda x:0)])"
   ]
  },
  {
   "cell_type": "code",
   "execution_count": 38,
   "metadata": {
    "collapsed": false
   },
   "outputs": [
    {
     "name": "stdout",
     "output_type": "stream",
     "text": [
      "Canvas is accessible via web browser at the URL: http://localhost:59854/index.html\n",
      "Opening Canvas in default web browser.\n"
     ]
    }
   ],
   "source": [
    "black.show()"
   ]
  },
  {
   "cell_type": "code",
   "execution_count": 40,
   "metadata": {
    "collapsed": false
   },
   "outputs": [
    {
     "data": {
      "text/plain": [
       "200129"
      ]
     },
     "execution_count": 40,
     "metadata": {},
     "output_type": "execute_result"
    }
   ],
   "source": [
    "#black.save('fuck_black')\n",
    "#white.save('fuck_white')\n",
    "len(white)"
   ]
  },
  {
   "cell_type": "markdown",
   "metadata": {},
   "source": [
    "# 6 神经网络\n",
    "\n",
    "## 6.1 数据拆分"
   ]
  },
  {
   "cell_type": "code",
   "execution_count": 41,
   "metadata": {
    "collapsed": false
   },
   "outputs": [],
   "source": [
    "black_train,black_test = black.random_split(0.8,seed=0)\n",
    "white_train,white_test = white.random_split(0.8,seed=0)"
   ]
  },
  {
   "cell_type": "code",
   "execution_count": 42,
   "metadata": {
    "collapsed": false
   },
   "outputs": [
    {
     "data": {
      "text/plain": [
       "32543"
      ]
     },
     "execution_count": 42,
     "metadata": {},
     "output_type": "execute_result"
    }
   ],
   "source": [
    "len(black_train)"
   ]
  },
  {
   "cell_type": "code",
   "execution_count": 43,
   "metadata": {
    "collapsed": true
   },
   "outputs": [],
   "source": [
    "data_train = black_train.append(white_train)\n",
    "data_test = black_test.append(white_test)"
   ]
  },
  {
   "cell_type": "code",
   "execution_count": null,
   "metadata": {
    "collapsed": true
   },
   "outputs": [],
   "source": [
    "print len(data_train),len(data_test)"
   ]
  },
  {
   "cell_type": "markdown",
   "metadata": {},
   "source": [
    "## 6.2 MLP"
   ]
  },
  {
   "cell_type": "code",
   "execution_count": 31,
   "metadata": {
    "collapsed": false
   },
   "outputs": [],
   "source": [
    "import keras\n",
    "from keras.models import Sequential\n",
    "from keras.layers import Dense,InputLayer,Dropout,Flatten\n",
    "from keras.callbacks import TensorBoard\n",
    "from keras.optimizers import Adam\n",
    "from keras.models import load_model"
   ]
  },
  {
   "cell_type": "code",
   "execution_count": 32,
   "metadata": {
    "collapsed": false
   },
   "outputs": [],
   "source": [
    "batch_size=500\n",
    "epochs_num=1\n",
    "log_dir=\"log/MLP.log\"\n",
    "model_dir=\"file/MLP_model\""
   ]
  },
  {
   "cell_type": "code",
   "execution_count": 34,
   "metadata": {
    "collapsed": false
   },
   "outputs": [],
   "source": [
    "def train(train_generator,train_size,input_num,dims_num):\n",
    "    print(\"Start Train Job! \")\n",
    "    start=time.time()\n",
    "    inputs=InputLayer(input_shape=(input_num,dims_num),batch_size=batch_size)\n",
    "    layer1=Dense(100,activation=\"relu\")\n",
    "    layer2=Dense(20,activation=\"relu\")\n",
    "    flatten=Flatten()\n",
    "    layer3=Dense(2,activation=\"softmax\",name=\"Output\")\n",
    "    optimizer=Adam()\n",
    "    model=Sequential()\n",
    "    model.add(inputs)\n",
    "    model.add(layer1)\n",
    "    model.add(Dropout(0.5))\n",
    "    model.add(layer2)\n",
    "    model.add(Dropout(0.5))\n",
    "    model.add(flatten)\n",
    "    model.add(layer3)\n",
    "    call=TensorBoard(log_dir=log_dir,write_grads=True,histogram_freq=1)\n",
    "    model.compile(optimizer,loss=\"categorical_crossentropy\",metrics=[\"accuracy\"])\n",
    "    model.fit_generator(train_generator,steps_per_epoch=train_size//batch_size,epochs=epochs_num,callbacks=[call])\n",
    "#    model.fit_generator(train_generator, steps_per_epoch=5, epochs=5, callbacks=[call])\n",
    "    model.save(model_dir)\n",
    "    end=time.time()\n",
    "    print(\"Over train job in %f s\"%(end-start))"
   ]
  },
  {
   "cell_type": "code",
   "execution_count": 35,
   "metadata": {
    "collapsed": false
   },
   "outputs": [
    {
     "data": {
      "text/plain": [
       "128"
      ]
     },
     "execution_count": 35,
     "metadata": {},
     "output_type": "execute_result"
    }
   ],
   "source": [
    "train(data_train,len(data_train),len(data_train),embeddings[\"WORD\"].shape[0])"
   ]
  },
  {
   "cell_type": "code",
   "execution_count": null,
   "metadata": {
    "collapsed": true
   },
   "outputs": [],
   "source": []
  }
 ],
 "metadata": {
  "kernelspec": {
   "display_name": "Python 2",
   "language": "python",
   "name": "python2"
  },
  "language_info": {
   "codemirror_mode": {
    "name": "ipython",
    "version": 2
   },
   "file_extension": ".py",
   "mimetype": "text/x-python",
   "name": "python",
   "nbconvert_exporter": "python",
   "pygments_lexer": "ipython2",
   "version": "2.7.11"
  }
 },
 "nbformat": 4,
 "nbformat_minor": 0
}
