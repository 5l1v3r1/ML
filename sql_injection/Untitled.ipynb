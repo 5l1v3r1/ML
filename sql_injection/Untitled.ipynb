{
 "cells": [
  {
   "cell_type": "code",
   "execution_count": 1,
   "metadata": {
    "collapsed": true
   },
   "outputs": [],
   "source": [
    "import graphlab as gl"
   ]
  },
  {
   "cell_type": "code",
   "execution_count": 2,
   "metadata": {
    "collapsed": true
   },
   "outputs": [],
   "source": [
    "import os"
   ]
  },
  {
   "cell_type": "code",
   "execution_count": 3,
   "metadata": {
    "collapsed": true
   },
   "outputs": [],
   "source": [
    "basedir = 'data'\n",
    "filelist = os.listdir(basedir)"
   ]
  },
  {
   "cell_type": "code",
   "execution_count": 4,
   "metadata": {
    "collapsed": false
   },
   "outputs": [
    {
     "data": {
      "text/plain": [
       "['activeSQL.txt',\n",
       " 'legit.txt',\n",
       " 'MSSQL.txt',\n",
       " 'mySQL.txt',\n",
       " 'passiveSQL.txt',\n",
       " 'sql.txt',\n",
       " 'SQL_3.txt']"
      ]
     },
     "execution_count": 4,
     "metadata": {},
     "output_type": "execute_result"
    }
   ],
   "source": [
    "filelist"
   ]
  },
  {
   "cell_type": "code",
   "execution_count": 5,
   "metadata": {
    "collapsed": true
   },
   "outputs": [],
   "source": [
    "df_list = []"
   ]
  },
  {
   "cell_type": "code",
   "execution_count": 6,
   "metadata": {
    "collapsed": false
   },
   "outputs": [
    {
     "name": "stdout",
     "output_type": "stream",
     "text": [
      "This non-commercial license of GraphLab Create for academic use is assigned to xyntax@163.com and will expire on July 23, 2018.\n"
     ]
    },
    {
     "name": "stderr",
     "output_type": "stream",
     "text": [
      "[INFO] graphlab.cython.cy_server: GraphLab Create v2.1 started. Logging: /tmp/graphlab_server_1501059839.log\n"
     ]
    },
    {
     "data": {
      "text/html": [
       "<pre>Finished parsing file /Users/xy/workspace/ML/sql_injection/data/activeSQL.txt</pre>"
      ],
      "text/plain": [
       "Finished parsing file /Users/xy/workspace/ML/sql_injection/data/activeSQL.txt"
      ]
     },
     "metadata": {},
     "output_type": "display_data"
    },
    {
     "data": {
      "text/html": [
       "<pre>Parsing completed. Parsed 8 lines in 0.03076 secs.</pre>"
      ],
      "text/plain": [
       "Parsing completed. Parsed 8 lines in 0.03076 secs."
      ]
     },
     "metadata": {},
     "output_type": "display_data"
    },
    {
     "name": "stdout",
     "output_type": "stream",
     "text": [
      "------------------------------------------------------\n",
      "Inferred types from first 100 line(s) of file as \n",
      "column_type_hints=[str]\n",
      "If parsing fails due to incorrect types, you can correct\n",
      "the inferred type list above and pass it to read_csv in\n",
      "the column_type_hints argument\n",
      "------------------------------------------------------\n"
     ]
    },
    {
     "data": {
      "text/html": [
       "<pre>Finished parsing file /Users/xy/workspace/ML/sql_injection/data/activeSQL.txt</pre>"
      ],
      "text/plain": [
       "Finished parsing file /Users/xy/workspace/ML/sql_injection/data/activeSQL.txt"
      ]
     },
     "metadata": {},
     "output_type": "display_data"
    },
    {
     "data": {
      "text/html": [
       "<pre>Parsing completed. Parsed 8 lines in 0.012341 secs.</pre>"
      ],
      "text/plain": [
       "Parsing completed. Parsed 8 lines in 0.012341 secs."
      ]
     },
     "metadata": {},
     "output_type": "display_data"
    },
    {
     "data": {
      "text/html": [
       "<pre>Finished parsing file /Users/xy/workspace/ML/sql_injection/data/legit.txt</pre>"
      ],
      "text/plain": [
       "Finished parsing file /Users/xy/workspace/ML/sql_injection/data/legit.txt"
      ]
     },
     "metadata": {},
     "output_type": "display_data"
    },
    {
     "data": {
      "text/html": [
       "<pre>Parsing completed. Parsed 100 lines in 0.016409 secs.</pre>"
      ],
      "text/plain": [
       "Parsing completed. Parsed 100 lines in 0.016409 secs."
      ]
     },
     "metadata": {},
     "output_type": "display_data"
    },
    {
     "name": "stdout",
     "output_type": "stream",
     "text": [
      "------------------------------------------------------\n",
      "Inferred types from first 100 line(s) of file as \n",
      "column_type_hints=[str]\n",
      "If parsing fails due to incorrect types, you can correct\n",
      "the inferred type list above and pass it to read_csv in\n",
      "the column_type_hints argument\n",
      "------------------------------------------------------\n"
     ]
    },
    {
     "data": {
      "text/html": [
       "<pre>Finished parsing file /Users/xy/workspace/ML/sql_injection/data/legit.txt</pre>"
      ],
      "text/plain": [
       "Finished parsing file /Users/xy/workspace/ML/sql_injection/data/legit.txt"
      ]
     },
     "metadata": {},
     "output_type": "display_data"
    },
    {
     "data": {
      "text/html": [
       "<pre>Parsing completed. Parsed 1003 lines in 0.017378 secs.</pre>"
      ],
      "text/plain": [
       "Parsing completed. Parsed 1003 lines in 0.017378 secs."
      ]
     },
     "metadata": {},
     "output_type": "display_data"
    },
    {
     "data": {
      "text/html": [
       "<pre>Finished parsing file /Users/xy/workspace/ML/sql_injection/data/MSSQL.txt</pre>"
      ],
      "text/plain": [
       "Finished parsing file /Users/xy/workspace/ML/sql_injection/data/MSSQL.txt"
      ]
     },
     "metadata": {},
     "output_type": "display_data"
    },
    {
     "data": {
      "text/html": [
       "<pre>Parsing completed. Parsed 36 lines in 0.016147 secs.</pre>"
      ],
      "text/plain": [
       "Parsing completed. Parsed 36 lines in 0.016147 secs."
      ]
     },
     "metadata": {},
     "output_type": "display_data"
    },
    {
     "name": "stdout",
     "output_type": "stream",
     "text": [
      "------------------------------------------------------\n",
      "Inferred types from first 100 line(s) of file as \n",
      "column_type_hints=[str]\n",
      "If parsing fails due to incorrect types, you can correct\n",
      "the inferred type list above and pass it to read_csv in\n",
      "the column_type_hints argument\n",
      "------------------------------------------------------\n"
     ]
    },
    {
     "data": {
      "text/html": [
       "<pre>Finished parsing file /Users/xy/workspace/ML/sql_injection/data/MSSQL.txt</pre>"
      ],
      "text/plain": [
       "Finished parsing file /Users/xy/workspace/ML/sql_injection/data/MSSQL.txt"
      ]
     },
     "metadata": {},
     "output_type": "display_data"
    },
    {
     "data": {
      "text/html": [
       "<pre>Parsing completed. Parsed 36 lines in 0.01463 secs.</pre>"
      ],
      "text/plain": [
       "Parsing completed. Parsed 36 lines in 0.01463 secs."
      ]
     },
     "metadata": {},
     "output_type": "display_data"
    },
    {
     "data": {
      "text/html": [
       "<pre>Finished parsing file /Users/xy/workspace/ML/sql_injection/data/mySQL.txt</pre>"
      ],
      "text/plain": [
       "Finished parsing file /Users/xy/workspace/ML/sql_injection/data/mySQL.txt"
      ]
     },
     "metadata": {},
     "output_type": "display_data"
    },
    {
     "data": {
      "text/html": [
       "<pre>Parsing completed. Parsed 14 lines in 0.016836 secs.</pre>"
      ],
      "text/plain": [
       "Parsing completed. Parsed 14 lines in 0.016836 secs."
      ]
     },
     "metadata": {},
     "output_type": "display_data"
    },
    {
     "name": "stdout",
     "output_type": "stream",
     "text": [
      "------------------------------------------------------\n",
      "Inferred types from first 100 line(s) of file as \n",
      "column_type_hints=[str]\n",
      "If parsing fails due to incorrect types, you can correct\n",
      "the inferred type list above and pass it to read_csv in\n",
      "the column_type_hints argument\n",
      "------------------------------------------------------\n"
     ]
    },
    {
     "data": {
      "text/html": [
       "<pre>Finished parsing file /Users/xy/workspace/ML/sql_injection/data/mySQL.txt</pre>"
      ],
      "text/plain": [
       "Finished parsing file /Users/xy/workspace/ML/sql_injection/data/mySQL.txt"
      ]
     },
     "metadata": {},
     "output_type": "display_data"
    },
    {
     "data": {
      "text/html": [
       "<pre>Parsing completed. Parsed 14 lines in 0.015907 secs.</pre>"
      ],
      "text/plain": [
       "Parsing completed. Parsed 14 lines in 0.015907 secs."
      ]
     },
     "metadata": {},
     "output_type": "display_data"
    },
    {
     "data": {
      "text/html": [
       "<pre>Finished parsing file /Users/xy/workspace/ML/sql_injection/data/passiveSQL.txt</pre>"
      ],
      "text/plain": [
       "Finished parsing file /Users/xy/workspace/ML/sql_injection/data/passiveSQL.txt"
      ]
     },
     "metadata": {},
     "output_type": "display_data"
    },
    {
     "data": {
      "text/html": [
       "<pre>Parsing completed. Parsed 55 lines in 0.015893 secs.</pre>"
      ],
      "text/plain": [
       "Parsing completed. Parsed 55 lines in 0.015893 secs."
      ]
     },
     "metadata": {},
     "output_type": "display_data"
    },
    {
     "name": "stdout",
     "output_type": "stream",
     "text": [
      "------------------------------------------------------\n",
      "Inferred types from first 100 line(s) of file as \n",
      "column_type_hints=[str]\n",
      "If parsing fails due to incorrect types, you can correct\n",
      "the inferred type list above and pass it to read_csv in\n",
      "the column_type_hints argument\n",
      "------------------------------------------------------\n"
     ]
    },
    {
     "data": {
      "text/html": [
       "<pre>Finished parsing file /Users/xy/workspace/ML/sql_injection/data/passiveSQL.txt</pre>"
      ],
      "text/plain": [
       "Finished parsing file /Users/xy/workspace/ML/sql_injection/data/passiveSQL.txt"
      ]
     },
     "metadata": {},
     "output_type": "display_data"
    },
    {
     "data": {
      "text/html": [
       "<pre>Parsing completed. Parsed 55 lines in 0.015597 secs.</pre>"
      ],
      "text/plain": [
       "Parsing completed. Parsed 55 lines in 0.015597 secs."
      ]
     },
     "metadata": {},
     "output_type": "display_data"
    },
    {
     "data": {
      "text/html": [
       "<pre>Finished parsing file /Users/xy/workspace/ML/sql_injection/data/sql.txt</pre>"
      ],
      "text/plain": [
       "Finished parsing file /Users/xy/workspace/ML/sql_injection/data/sql.txt"
      ]
     },
     "metadata": {},
     "output_type": "display_data"
    },
    {
     "data": {
      "text/html": [
       "<pre>Parsing completed. Parsed 24 lines in 0.016092 secs.</pre>"
      ],
      "text/plain": [
       "Parsing completed. Parsed 24 lines in 0.016092 secs."
      ]
     },
     "metadata": {},
     "output_type": "display_data"
    },
    {
     "name": "stdout",
     "output_type": "stream",
     "text": [
      "------------------------------------------------------\n",
      "Inferred types from first 100 line(s) of file as \n",
      "column_type_hints=[str]\n",
      "If parsing fails due to incorrect types, you can correct\n",
      "the inferred type list above and pass it to read_csv in\n",
      "the column_type_hints argument\n",
      "------------------------------------------------------\n"
     ]
    },
    {
     "data": {
      "text/html": [
       "<pre>Finished parsing file /Users/xy/workspace/ML/sql_injection/data/sql.txt</pre>"
      ],
      "text/plain": [
       "Finished parsing file /Users/xy/workspace/ML/sql_injection/data/sql.txt"
      ]
     },
     "metadata": {},
     "output_type": "display_data"
    },
    {
     "data": {
      "text/html": [
       "<pre>Parsing completed. Parsed 24 lines in 0.01543 secs.</pre>"
      ],
      "text/plain": [
       "Parsing completed. Parsed 24 lines in 0.01543 secs."
      ]
     },
     "metadata": {},
     "output_type": "display_data"
    },
    {
     "data": {
      "text/html": [
       "<pre>Finished parsing file /Users/xy/workspace/ML/sql_injection/data/SQL_3.txt</pre>"
      ],
      "text/plain": [
       "Finished parsing file /Users/xy/workspace/ML/sql_injection/data/SQL_3.txt"
      ]
     },
     "metadata": {},
     "output_type": "display_data"
    },
    {
     "data": {
      "text/html": [
       "<pre>Parsing completed. Parsed 100 lines in 0.040715 secs.</pre>"
      ],
      "text/plain": [
       "Parsing completed. Parsed 100 lines in 0.040715 secs."
      ]
     },
     "metadata": {},
     "output_type": "display_data"
    },
    {
     "name": "stdout",
     "output_type": "stream",
     "text": [
      "------------------------------------------------------\n",
      "Inferred types from first 100 line(s) of file as \n",
      "column_type_hints=[str]\n",
      "If parsing fails due to incorrect types, you can correct\n",
      "the inferred type list above and pass it to read_csv in\n",
      "the column_type_hints argument\n",
      "------------------------------------------------------\n"
     ]
    },
    {
     "data": {
      "text/html": [
       "<pre>Finished parsing file /Users/xy/workspace/ML/sql_injection/data/SQL_3.txt</pre>"
      ],
      "text/plain": [
       "Finished parsing file /Users/xy/workspace/ML/sql_injection/data/SQL_3.txt"
      ]
     },
     "metadata": {},
     "output_type": "display_data"
    },
    {
     "data": {
      "text/html": [
       "<pre>Parsing completed. Parsed 12755 lines in 0.036721 secs.</pre>"
      ],
      "text/plain": [
       "Parsing completed. Parsed 12755 lines in 0.036721 secs."
      ]
     },
     "metadata": {},
     "output_type": "display_data"
    }
   ],
   "source": [
    "for file in filelist:\n",
    "    sf = gl.SFrame.read_csv(os.path.join(basedir,file), sep='|||', header=None)\n",
    "    sf['type'] = 'legit' if file.split('.')[0] == 'legit' else 'malicious'\n",
    "    df_list.append(sf)"
   ]
  },
  {
   "cell_type": "code",
   "execution_count": 7,
   "metadata": {
    "collapsed": false
   },
   "outputs": [],
   "source": [
    "dataset = df_list[0]"
   ]
  },
  {
   "cell_type": "code",
   "execution_count": 8,
   "metadata": {
    "collapsed": false
   },
   "outputs": [
    {
     "data": {
      "text/html": [
       "<div style=\"max-height:1000px;max-width:1500px;overflow:auto;\"><table frame=\"box\" rules=\"cols\">\n",
       "    <tr>\n",
       "        <th style=\"padding-left: 1em; padding-right: 1em; text-align: center\">X1</th>\n",
       "        <th style=\"padding-left: 1em; padding-right: 1em; text-align: center\">type</th>\n",
       "    </tr>\n",
       "    <tr>\n",
       "        <td style=\"padding-left: 1em; padding-right: 1em; text-align: center; vertical-align: top\">'; exec<br>master..xp_cmdshell ' ...</td>\n",
       "        <td style=\"padding-left: 1em; padding-right: 1em; text-align: center; vertical-align: top\">malicious</td>\n",
       "    </tr>\n",
       "    <tr>\n",
       "        <td style=\"padding-left: 1em; padding-right: 1em; text-align: center; vertical-align: top\">create user name<br>identified by 'pass123' ...</td>\n",
       "        <td style=\"padding-left: 1em; padding-right: 1em; text-align: center; vertical-align: top\">malicious</td>\n",
       "    </tr>\n",
       "    <tr>\n",
       "        <td style=\"padding-left: 1em; padding-right: 1em; text-align: center; vertical-align: top\">create user name<br>identified by pass123 ...</td>\n",
       "        <td style=\"padding-left: 1em; padding-right: 1em; text-align: center; vertical-align: top\">malicious</td>\n",
       "    </tr>\n",
       "    <tr>\n",
       "        <td style=\"padding-left: 1em; padding-right: 1em; text-align: center; vertical-align: top\">exec sp_addlogin 'name' ,<br>'password' ...</td>\n",
       "        <td style=\"padding-left: 1em; padding-right: 1em; text-align: center; vertical-align: top\">malicious</td>\n",
       "    </tr>\n",
       "    <tr>\n",
       "        <td style=\"padding-left: 1em; padding-right: 1em; text-align: center; vertical-align: top\">exec sp_addsrvrolemember<br>'name' , 'sysadmin' ...</td>\n",
       "        <td style=\"padding-left: 1em; padding-right: 1em; text-align: center; vertical-align: top\">malicious</td>\n",
       "    </tr>\n",
       "    <tr>\n",
       "        <td style=\"padding-left: 1em; padding-right: 1em; text-align: center; vertical-align: top\">insert into mysql.user<br>(user, host, password) ...</td>\n",
       "        <td style=\"padding-left: 1em; padding-right: 1em; text-align: center; vertical-align: top\">malicious</td>\n",
       "    </tr>\n",
       "    <tr>\n",
       "        <td style=\"padding-left: 1em; padding-right: 1em; text-align: center; vertical-align: top\">grant connect to name;<br>grant resource to name; ...</td>\n",
       "        <td style=\"padding-left: 1em; padding-right: 1em; text-align: center; vertical-align: top\">malicious</td>\n",
       "    </tr>\n",
       "    <tr>\n",
       "        <td style=\"padding-left: 1em; padding-right: 1em; text-align: center; vertical-align: top\">insert into users(login,<br>password, level) values( ...</td>\n",
       "        <td style=\"padding-left: 1em; padding-right: 1em; text-align: center; vertical-align: top\">malicious</td>\n",
       "    </tr>\n",
       "</table>\n",
       "[8 rows x 2 columns]<br/>\n",
       "</div>"
      ],
      "text/plain": [
       "Columns:\n",
       "\tX1\tstr\n",
       "\ttype\tstr\n",
       "\n",
       "Rows: 8\n",
       "\n",
       "Data:\n",
       "+-------------------------------+-----------+\n",
       "|               X1              |    type   |\n",
       "+-------------------------------+-----------+\n",
       "| '; exec master..xp_cmdshel... | malicious |\n",
       "| create user name identifie... | malicious |\n",
       "| create user name identifie... | malicious |\n",
       "| exec sp_addlogin 'name' , ... | malicious |\n",
       "| exec sp_addsrvrolemember '... | malicious |\n",
       "| insert into mysql.user (us... | malicious |\n",
       "| grant connect to name; gra... | malicious |\n",
       "| insert into users(login, p... | malicious |\n",
       "+-------------------------------+-----------+\n",
       "[8 rows x 2 columns]"
      ]
     },
     "execution_count": 8,
     "metadata": {},
     "output_type": "execute_result"
    }
   ],
   "source": [
    "dataset"
   ]
  },
  {
   "cell_type": "code",
   "execution_count": 9,
   "metadata": {
    "collapsed": false
   },
   "outputs": [],
   "source": [
    "for sf in df_list[1:]:\n",
    "    dataset = dataset.append(sf)"
   ]
  },
  {
   "cell_type": "code",
   "execution_count": 10,
   "metadata": {
    "collapsed": false
   },
   "outputs": [
    {
     "data": {
      "text/html": [
       "<div style=\"max-height:1000px;max-width:1500px;overflow:auto;\"><table frame=\"box\" rules=\"cols\">\n",
       "    <tr>\n",
       "        <th style=\"padding-left: 1em; padding-right: 1em; text-align: center\">X1</th>\n",
       "        <th style=\"padding-left: 1em; padding-right: 1em; text-align: center\">type</th>\n",
       "    </tr>\n",
       "    <tr>\n",
       "        <td style=\"padding-left: 1em; padding-right: 1em; text-align: center; vertical-align: top\">'; exec<br>master..xp_cmdshell ' ...</td>\n",
       "        <td style=\"padding-left: 1em; padding-right: 1em; text-align: center; vertical-align: top\">malicious</td>\n",
       "    </tr>\n",
       "    <tr>\n",
       "        <td style=\"padding-left: 1em; padding-right: 1em; text-align: center; vertical-align: top\">create user name<br>identified by 'pass123' ...</td>\n",
       "        <td style=\"padding-left: 1em; padding-right: 1em; text-align: center; vertical-align: top\">malicious</td>\n",
       "    </tr>\n",
       "    <tr>\n",
       "        <td style=\"padding-left: 1em; padding-right: 1em; text-align: center; vertical-align: top\">create user name<br>identified by pass123 ...</td>\n",
       "        <td style=\"padding-left: 1em; padding-right: 1em; text-align: center; vertical-align: top\">malicious</td>\n",
       "    </tr>\n",
       "    <tr>\n",
       "        <td style=\"padding-left: 1em; padding-right: 1em; text-align: center; vertical-align: top\">exec sp_addlogin 'name' ,<br>'password' ...</td>\n",
       "        <td style=\"padding-left: 1em; padding-right: 1em; text-align: center; vertical-align: top\">malicious</td>\n",
       "    </tr>\n",
       "    <tr>\n",
       "        <td style=\"padding-left: 1em; padding-right: 1em; text-align: center; vertical-align: top\">exec sp_addsrvrolemember<br>'name' , 'sysadmin' ...</td>\n",
       "        <td style=\"padding-left: 1em; padding-right: 1em; text-align: center; vertical-align: top\">malicious</td>\n",
       "    </tr>\n",
       "    <tr>\n",
       "        <td style=\"padding-left: 1em; padding-right: 1em; text-align: center; vertical-align: top\">insert into mysql.user<br>(user, host, password) ...</td>\n",
       "        <td style=\"padding-left: 1em; padding-right: 1em; text-align: center; vertical-align: top\">malicious</td>\n",
       "    </tr>\n",
       "    <tr>\n",
       "        <td style=\"padding-left: 1em; padding-right: 1em; text-align: center; vertical-align: top\">grant connect to name;<br>grant resource to name; ...</td>\n",
       "        <td style=\"padding-left: 1em; padding-right: 1em; text-align: center; vertical-align: top\">malicious</td>\n",
       "    </tr>\n",
       "    <tr>\n",
       "        <td style=\"padding-left: 1em; padding-right: 1em; text-align: center; vertical-align: top\">insert into users(login,<br>password, level) values( ...</td>\n",
       "        <td style=\"padding-left: 1em; padding-right: 1em; text-align: center; vertical-align: top\">malicious</td>\n",
       "    </tr>\n",
       "    <tr>\n",
       "        <td style=\"padding-left: 1em; padding-right: 1em; text-align: center; vertical-align: top\">ALTER SYSTEM FLUSH<br>SHARED_POOL ...</td>\n",
       "        <td style=\"padding-left: 1em; padding-right: 1em; text-align: center; vertical-align: top\">legit</td>\n",
       "    </tr>\n",
       "    <tr>\n",
       "        <td style=\"padding-left: 1em; padding-right: 1em; text-align: center; vertical-align: top\">ALTER TABLE metadatacolle<br>ctionschema.altidcoll ...</td>\n",
       "        <td style=\"padding-left: 1em; padding-right: 1em; text-align: center; vertical-align: top\">legit</td>\n",
       "    </tr>\n",
       "</table>\n",
       "[13895 rows x 2 columns]<br/>Note: Only the head of the SFrame is printed.<br/>You can use print_rows(num_rows=m, num_columns=n) to print more rows and columns.\n",
       "</div>"
      ],
      "text/plain": [
       "Columns:\n",
       "\tX1\tstr\n",
       "\ttype\tstr\n",
       "\n",
       "Rows: 13895\n",
       "\n",
       "Data:\n",
       "+--------------------------------+-----------+\n",
       "|               X1               |    type   |\n",
       "+--------------------------------+-----------+\n",
       "| '; exec master..xp_cmdshel...  | malicious |\n",
       "| create user name identifie...  | malicious |\n",
       "| create user name identifie...  | malicious |\n",
       "| exec sp_addlogin 'name' , ...  | malicious |\n",
       "| exec sp_addsrvrolemember '...  | malicious |\n",
       "| insert into mysql.user (us...  | malicious |\n",
       "| grant connect to name; gra...  | malicious |\n",
       "| insert into users(login, p...  | malicious |\n",
       "| ALTER SYSTEM FLUSH SHARED_POOL |   legit   |\n",
       "| ALTER TABLE metadatacollec...  |   legit   |\n",
       "+--------------------------------+-----------+\n",
       "[13895 rows x 2 columns]\n",
       "Note: Only the head of the SFrame is printed.\n",
       "You can use print_rows(num_rows=m, num_columns=n) to print more rows and columns."
      ]
     },
     "execution_count": 10,
     "metadata": {},
     "output_type": "execute_result"
    }
   ],
   "source": [
    "dataset"
   ]
  },
  {
   "cell_type": "code",
   "execution_count": 11,
   "metadata": {
    "collapsed": false
   },
   "outputs": [
    {
     "name": "stdout",
     "output_type": "stream",
     "text": [
      "Canvas is accessible via web browser at the URL: http://localhost:63244/index.html\n",
      "Opening Canvas in default web browser.\n"
     ]
    }
   ],
   "source": [
    "dataset.show()"
   ]
  },
  {
   "cell_type": "code",
   "execution_count": 11,
   "metadata": {
    "collapsed": false
   },
   "outputs": [],
   "source": [
    "# Use the SQLParse module: sqlparse is a non-validating SQL parser module for Python\n",
    "# https://github.com/andialbrecht/sqlparse\n",
    "import sqlparse\n",
    "def parse_it(raw_sql):\n",
    "    parsed = sqlparse.parse(unicode(raw_sql,'utf-8'))\n",
    "    return [token._get_repr_name() for parse in parsed for token in parse.tokens if token._get_repr_name() != 'Whitespace']"
   ]
  },
  {
   "cell_type": "code",
   "execution_count": 12,
   "metadata": {
    "collapsed": true
   },
   "outputs": [],
   "source": [
    "dataset['parsed_sql'] = dataset['X1'].apply(parse_it)"
   ]
  },
  {
   "cell_type": "code",
   "execution_count": 13,
   "metadata": {
    "collapsed": false
   },
   "outputs": [
    {
     "data": {
      "text/html": [
       "<div style=\"max-height:1000px;max-width:1500px;overflow:auto;\"><table frame=\"box\" rules=\"cols\">\n",
       "    <tr>\n",
       "        <th style=\"padding-left: 1em; padding-right: 1em; text-align: center\">X1</th>\n",
       "        <th style=\"padding-left: 1em; padding-right: 1em; text-align: center\">type</th>\n",
       "        <th style=\"padding-left: 1em; padding-right: 1em; text-align: center\">parsed_sql</th>\n",
       "    </tr>\n",
       "    <tr>\n",
       "        <td style=\"padding-left: 1em; padding-right: 1em; text-align: center; vertical-align: top\">'; exec<br>master..xp_cmdshell ' ...</td>\n",
       "        <td style=\"padding-left: 1em; padding-right: 1em; text-align: center; vertical-align: top\">malicious</td>\n",
       "        <td style=\"padding-left: 1em; padding-right: 1em; text-align: center; vertical-align: top\">[Single, Identifier,<br>Float, Float, Float, ...</td>\n",
       "    </tr>\n",
       "    <tr>\n",
       "        <td style=\"padding-left: 1em; padding-right: 1em; text-align: center; vertical-align: top\">create user name<br>identified by 'pass123' ...</td>\n",
       "        <td style=\"padding-left: 1em; padding-right: 1em; text-align: center; vertical-align: top\">malicious</td>\n",
       "        <td style=\"padding-left: 1em; padding-right: 1em; text-align: center; vertical-align: top\">[DDL, Keyword,<br>Identifier, Keyword, ...</td>\n",
       "    </tr>\n",
       "    <tr>\n",
       "        <td style=\"padding-left: 1em; padding-right: 1em; text-align: center; vertical-align: top\">create user name<br>identified by pass123 ...</td>\n",
       "        <td style=\"padding-left: 1em; padding-right: 1em; text-align: center; vertical-align: top\">malicious</td>\n",
       "        <td style=\"padding-left: 1em; padding-right: 1em; text-align: center; vertical-align: top\">[DDL, Keyword,<br>Identifier, Keyword, ...</td>\n",
       "    </tr>\n",
       "    <tr>\n",
       "        <td style=\"padding-left: 1em; padding-right: 1em; text-align: center; vertical-align: top\">exec sp_addlogin 'name' ,<br>'password' ...</td>\n",
       "        <td style=\"padding-left: 1em; padding-right: 1em; text-align: center; vertical-align: top\">malicious</td>\n",
       "        <td style=\"padding-left: 1em; padding-right: 1em; text-align: center; vertical-align: top\">[Keyword, Identifier,<br>IdentifierList] ...</td>\n",
       "    </tr>\n",
       "    <tr>\n",
       "        <td style=\"padding-left: 1em; padding-right: 1em; text-align: center; vertical-align: top\">exec sp_addsrvrolemember<br>'name' , 'sysadmin' ...</td>\n",
       "        <td style=\"padding-left: 1em; padding-right: 1em; text-align: center; vertical-align: top\">malicious</td>\n",
       "        <td style=\"padding-left: 1em; padding-right: 1em; text-align: center; vertical-align: top\">[Keyword, Identifier,<br>IdentifierList] ...</td>\n",
       "    </tr>\n",
       "    <tr>\n",
       "        <td style=\"padding-left: 1em; padding-right: 1em; text-align: center; vertical-align: top\">insert into mysql.user<br>(user, host, password) ...</td>\n",
       "        <td style=\"padding-left: 1em; padding-right: 1em; text-align: center; vertical-align: top\">malicious</td>\n",
       "        <td style=\"padding-left: 1em; padding-right: 1em; text-align: center; vertical-align: top\">[DML, Keyword,<br>Identifier, Keyword, ...</td>\n",
       "    </tr>\n",
       "    <tr>\n",
       "        <td style=\"padding-left: 1em; padding-right: 1em; text-align: center; vertical-align: top\">grant connect to name;<br>grant resource to name; ...</td>\n",
       "        <td style=\"padding-left: 1em; padding-right: 1em; text-align: center; vertical-align: top\">malicious</td>\n",
       "        <td style=\"padding-left: 1em; padding-right: 1em; text-align: center; vertical-align: top\">[Keyword, Keyword,<br>Keyword, Identifier, ...</td>\n",
       "    </tr>\n",
       "    <tr>\n",
       "        <td style=\"padding-left: 1em; padding-right: 1em; text-align: center; vertical-align: top\">insert into users(login,<br>password, level) values( ...</td>\n",
       "        <td style=\"padding-left: 1em; padding-right: 1em; text-align: center; vertical-align: top\">malicious</td>\n",
       "        <td style=\"padding-left: 1em; padding-right: 1em; text-align: center; vertical-align: top\">[DML, Keyword, Function,<br>Keyword, Punctuation, ...</td>\n",
       "    </tr>\n",
       "    <tr>\n",
       "        <td style=\"padding-left: 1em; padding-right: 1em; text-align: center; vertical-align: top\">ALTER SYSTEM FLUSH<br>SHARED_POOL ...</td>\n",
       "        <td style=\"padding-left: 1em; padding-right: 1em; text-align: center; vertical-align: top\">legit</td>\n",
       "        <td style=\"padding-left: 1em; padding-right: 1em; text-align: center; vertical-align: top\">[DDL, Keyword, Keyword,<br>Identifier] ...</td>\n",
       "    </tr>\n",
       "    <tr>\n",
       "        <td style=\"padding-left: 1em; padding-right: 1em; text-align: center; vertical-align: top\">ALTER TABLE metadatacolle<br>ctionschema.altidcoll ...</td>\n",
       "        <td style=\"padding-left: 1em; padding-right: 1em; text-align: center; vertical-align: top\">legit</td>\n",
       "        <td style=\"padding-left: 1em; padding-right: 1em; text-align: center; vertical-align: top\">[DDL, Keyword,<br>Identifier, Keyword, ...</td>\n",
       "    </tr>\n",
       "</table>\n",
       "[13895 rows x 3 columns]<br/>Note: Only the head of the SFrame is printed.<br/>You can use print_rows(num_rows=m, num_columns=n) to print more rows and columns.\n",
       "</div>"
      ],
      "text/plain": [
       "Columns:\n",
       "\tX1\tstr\n",
       "\ttype\tstr\n",
       "\tparsed_sql\tlist\n",
       "\n",
       "Rows: 13895\n",
       "\n",
       "Data:\n",
       "+--------------------------------+-----------+-------------------------------+\n",
       "|               X1               |    type   |           parsed_sql          |\n",
       "+--------------------------------+-----------+-------------------------------+\n",
       "| '; exec master..xp_cmdshel...  | malicious | [Single, Identifier, Float... |\n",
       "| create user name identifie...  | malicious | [DDL, Keyword, Identifier,... |\n",
       "| create user name identifie...  | malicious | [DDL, Keyword, Identifier,... |\n",
       "| exec sp_addlogin 'name' , ...  | malicious | [Keyword, Identifier, Iden... |\n",
       "| exec sp_addsrvrolemember '...  | malicious | [Keyword, Identifier, Iden... |\n",
       "| insert into mysql.user (us...  | malicious | [DML, Keyword, Identifier,... |\n",
       "| grant connect to name; gra...  | malicious | [Keyword, Keyword, Keyword... |\n",
       "| insert into users(login, p...  | malicious | [DML, Keyword, Function, K... |\n",
       "| ALTER SYSTEM FLUSH SHARED_POOL |   legit   | [DDL, Keyword, Keyword, Id... |\n",
       "| ALTER TABLE metadatacollec...  |   legit   | [DDL, Keyword, Identifier,... |\n",
       "+--------------------------------+-----------+-------------------------------+\n",
       "[13895 rows x 3 columns]\n",
       "Note: Only the head of the SFrame is printed.\n",
       "You can use print_rows(num_rows=m, num_columns=n) to print more rows and columns."
      ]
     },
     "execution_count": 13,
     "metadata": {},
     "output_type": "execute_result"
    }
   ],
   "source": [
    "dataset"
   ]
  },
  {
   "cell_type": "code",
   "execution_count": 14,
   "metadata": {
    "collapsed": true
   },
   "outputs": [],
   "source": [
    "# Looking at the SQL tokens is 'kinda' interesting but sequences of tokens and transitions\n",
    "# between tokens seems more meaningful so we're also going to compute sequences by\n",
    "# computing NGrams for every SQL statement...\n",
    "def ngrams(lst, N):\n",
    "    ngrams = []\n",
    "    for n in xrange(0,N):\n",
    "        ngrams += zip(*(lst[i:] for i in xrange(n+1)))\n",
    "    return [str(tuple) for tuple in ngrams]"
   ]
  },
  {
   "cell_type": "code",
   "execution_count": 15,
   "metadata": {
    "collapsed": true
   },
   "outputs": [],
   "source": [
    "dataset['sequences'] = dataset['parsed_sql'].apply(lambda x:ngrams(x,3))"
   ]
  },
  {
   "cell_type": "code",
   "execution_count": 16,
   "metadata": {
    "collapsed": false
   },
   "outputs": [
    {
     "data": {
      "text/html": [
       "<div style=\"max-height:1000px;max-width:1500px;overflow:auto;\"><table frame=\"box\" rules=\"cols\">\n",
       "    <tr>\n",
       "        <th style=\"padding-left: 1em; padding-right: 1em; text-align: center\">X1</th>\n",
       "        <th style=\"padding-left: 1em; padding-right: 1em; text-align: center\">type</th>\n",
       "        <th style=\"padding-left: 1em; padding-right: 1em; text-align: center\">parsed_sql</th>\n",
       "        <th style=\"padding-left: 1em; padding-right: 1em; text-align: center\">sequences</th>\n",
       "    </tr>\n",
       "    <tr>\n",
       "        <td style=\"padding-left: 1em; padding-right: 1em; text-align: center; vertical-align: top\">'; exec<br>master..xp_cmdshell ' ...</td>\n",
       "        <td style=\"padding-left: 1em; padding-right: 1em; text-align: center; vertical-align: top\">malicious</td>\n",
       "        <td style=\"padding-left: 1em; padding-right: 1em; text-align: center; vertical-align: top\">[Single, Identifier,<br>Float, Float, Float, ...</td>\n",
       "        <td style=\"padding-left: 1em; padding-right: 1em; text-align: center; vertical-align: top\">[('Single',),<br>('Identifier',), ...</td>\n",
       "    </tr>\n",
       "    <tr>\n",
       "        <td style=\"padding-left: 1em; padding-right: 1em; text-align: center; vertical-align: top\">create user name<br>identified by 'pass123' ...</td>\n",
       "        <td style=\"padding-left: 1em; padding-right: 1em; text-align: center; vertical-align: top\">malicious</td>\n",
       "        <td style=\"padding-left: 1em; padding-right: 1em; text-align: center; vertical-align: top\">[DDL, Keyword,<br>Identifier, Keyword, ...</td>\n",
       "        <td style=\"padding-left: 1em; padding-right: 1em; text-align: center; vertical-align: top\">[('DDL',), ('Keyword',),<br>('Identifier',), ...</td>\n",
       "    </tr>\n",
       "    <tr>\n",
       "        <td style=\"padding-left: 1em; padding-right: 1em; text-align: center; vertical-align: top\">create user name<br>identified by pass123 ...</td>\n",
       "        <td style=\"padding-left: 1em; padding-right: 1em; text-align: center; vertical-align: top\">malicious</td>\n",
       "        <td style=\"padding-left: 1em; padding-right: 1em; text-align: center; vertical-align: top\">[DDL, Keyword,<br>Identifier, Keyword, ...</td>\n",
       "        <td style=\"padding-left: 1em; padding-right: 1em; text-align: center; vertical-align: top\">[('DDL',), ('Keyword',),<br>('Identifier',), ...</td>\n",
       "    </tr>\n",
       "    <tr>\n",
       "        <td style=\"padding-left: 1em; padding-right: 1em; text-align: center; vertical-align: top\">exec sp_addlogin 'name' ,<br>'password' ...</td>\n",
       "        <td style=\"padding-left: 1em; padding-right: 1em; text-align: center; vertical-align: top\">malicious</td>\n",
       "        <td style=\"padding-left: 1em; padding-right: 1em; text-align: center; vertical-align: top\">[Keyword, Identifier,<br>IdentifierList] ...</td>\n",
       "        <td style=\"padding-left: 1em; padding-right: 1em; text-align: center; vertical-align: top\">[('Keyword',),<br>('Identifier',), ...</td>\n",
       "    </tr>\n",
       "    <tr>\n",
       "        <td style=\"padding-left: 1em; padding-right: 1em; text-align: center; vertical-align: top\">exec sp_addsrvrolemember<br>'name' , 'sysadmin' ...</td>\n",
       "        <td style=\"padding-left: 1em; padding-right: 1em; text-align: center; vertical-align: top\">malicious</td>\n",
       "        <td style=\"padding-left: 1em; padding-right: 1em; text-align: center; vertical-align: top\">[Keyword, Identifier,<br>IdentifierList] ...</td>\n",
       "        <td style=\"padding-left: 1em; padding-right: 1em; text-align: center; vertical-align: top\">[('Keyword',),<br>('Identifier',), ...</td>\n",
       "    </tr>\n",
       "    <tr>\n",
       "        <td style=\"padding-left: 1em; padding-right: 1em; text-align: center; vertical-align: top\">insert into mysql.user<br>(user, host, password) ...</td>\n",
       "        <td style=\"padding-left: 1em; padding-right: 1em; text-align: center; vertical-align: top\">malicious</td>\n",
       "        <td style=\"padding-left: 1em; padding-right: 1em; text-align: center; vertical-align: top\">[DML, Keyword,<br>Identifier, Keyword, ...</td>\n",
       "        <td style=\"padding-left: 1em; padding-right: 1em; text-align: center; vertical-align: top\">[('DML',), ('Keyword',),<br>('Identifier',), ...</td>\n",
       "    </tr>\n",
       "    <tr>\n",
       "        <td style=\"padding-left: 1em; padding-right: 1em; text-align: center; vertical-align: top\">grant connect to name;<br>grant resource to name; ...</td>\n",
       "        <td style=\"padding-left: 1em; padding-right: 1em; text-align: center; vertical-align: top\">malicious</td>\n",
       "        <td style=\"padding-left: 1em; padding-right: 1em; text-align: center; vertical-align: top\">[Keyword, Keyword,<br>Keyword, Identifier, ...</td>\n",
       "        <td style=\"padding-left: 1em; padding-right: 1em; text-align: center; vertical-align: top\">[('Keyword',),<br>('Keyword',), ...</td>\n",
       "    </tr>\n",
       "    <tr>\n",
       "        <td style=\"padding-left: 1em; padding-right: 1em; text-align: center; vertical-align: top\">insert into users(login,<br>password, level) values( ...</td>\n",
       "        <td style=\"padding-left: 1em; padding-right: 1em; text-align: center; vertical-align: top\">malicious</td>\n",
       "        <td style=\"padding-left: 1em; padding-right: 1em; text-align: center; vertical-align: top\">[DML, Keyword, Function,<br>Keyword, Punctuation, ...</td>\n",
       "        <td style=\"padding-left: 1em; padding-right: 1em; text-align: center; vertical-align: top\">[('DML',), ('Keyword',),<br>('Function',), ...</td>\n",
       "    </tr>\n",
       "    <tr>\n",
       "        <td style=\"padding-left: 1em; padding-right: 1em; text-align: center; vertical-align: top\">ALTER SYSTEM FLUSH<br>SHARED_POOL ...</td>\n",
       "        <td style=\"padding-left: 1em; padding-right: 1em; text-align: center; vertical-align: top\">legit</td>\n",
       "        <td style=\"padding-left: 1em; padding-right: 1em; text-align: center; vertical-align: top\">[DDL, Keyword, Keyword,<br>Identifier] ...</td>\n",
       "        <td style=\"padding-left: 1em; padding-right: 1em; text-align: center; vertical-align: top\">[('DDL',), ('Keyword',),<br>('Keyword',), ...</td>\n",
       "    </tr>\n",
       "    <tr>\n",
       "        <td style=\"padding-left: 1em; padding-right: 1em; text-align: center; vertical-align: top\">ALTER TABLE metadatacolle<br>ctionschema.altidcoll ...</td>\n",
       "        <td style=\"padding-left: 1em; padding-right: 1em; text-align: center; vertical-align: top\">legit</td>\n",
       "        <td style=\"padding-left: 1em; padding-right: 1em; text-align: center; vertical-align: top\">[DDL, Keyword,<br>Identifier, Keyword, ...</td>\n",
       "        <td style=\"padding-left: 1em; padding-right: 1em; text-align: center; vertical-align: top\">[('DDL',), ('Keyword',),<br>('Identifier',), ...</td>\n",
       "    </tr>\n",
       "</table>\n",
       "[13895 rows x 4 columns]<br/>Note: Only the head of the SFrame is printed.<br/>You can use print_rows(num_rows=m, num_columns=n) to print more rows and columns.\n",
       "</div>"
      ],
      "text/plain": [
       "Columns:\n",
       "\tX1\tstr\n",
       "\ttype\tstr\n",
       "\tparsed_sql\tlist\n",
       "\tsequences\tlist\n",
       "\n",
       "Rows: 13895\n",
       "\n",
       "Data:\n",
       "+--------------------------------+-----------+-------------------------------+\n",
       "|               X1               |    type   |           parsed_sql          |\n",
       "+--------------------------------+-----------+-------------------------------+\n",
       "| '; exec master..xp_cmdshel...  | malicious | [Single, Identifier, Float... |\n",
       "| create user name identifie...  | malicious | [DDL, Keyword, Identifier,... |\n",
       "| create user name identifie...  | malicious | [DDL, Keyword, Identifier,... |\n",
       "| exec sp_addlogin 'name' , ...  | malicious | [Keyword, Identifier, Iden... |\n",
       "| exec sp_addsrvrolemember '...  | malicious | [Keyword, Identifier, Iden... |\n",
       "| insert into mysql.user (us...  | malicious | [DML, Keyword, Identifier,... |\n",
       "| grant connect to name; gra...  | malicious | [Keyword, Keyword, Keyword... |\n",
       "| insert into users(login, p...  | malicious | [DML, Keyword, Function, K... |\n",
       "| ALTER SYSTEM FLUSH SHARED_POOL |   legit   | [DDL, Keyword, Keyword, Id... |\n",
       "| ALTER TABLE metadatacollec...  |   legit   | [DDL, Keyword, Identifier,... |\n",
       "+--------------------------------+-----------+-------------------------------+\n",
       "+-------------------------------+\n",
       "|           sequences           |\n",
       "+-------------------------------+\n",
       "| [('Single',), ('Identifier... |\n",
       "| [('DDL',), ('Keyword',), (... |\n",
       "| [('DDL',), ('Keyword',), (... |\n",
       "| [('Keyword',), ('Identifie... |\n",
       "| [('Keyword',), ('Identifie... |\n",
       "| [('DML',), ('Keyword',), (... |\n",
       "| [('Keyword',), ('Keyword',... |\n",
       "| [('DML',), ('Keyword',), (... |\n",
       "| [('DDL',), ('Keyword',), (... |\n",
       "| [('DDL',), ('Keyword',), (... |\n",
       "+-------------------------------+\n",
       "[13895 rows x 4 columns]\n",
       "Note: Only the head of the SFrame is printed.\n",
       "You can use print_rows(num_rows=m, num_columns=n) to print more rows and columns."
      ]
     },
     "execution_count": 16,
     "metadata": {},
     "output_type": "execute_result"
    }
   ],
   "source": [
    "dataset"
   ]
  },
  {
   "cell_type": "code",
   "execution_count": 20,
   "metadata": {
    "collapsed": true
   },
   "outputs": [],
   "source": [
    "# Helper method\n",
    "def token_expansion(series, types):\n",
    "    _tokens, _types = zip(*[(token,token_type) for t_list,token_type in zip(series,types) for token in t_list])\n",
    "    return gl.SArray(_tokens), gl.SArray(_types)"
   ]
  },
  {
   "cell_type": "code",
   "execution_count": 17,
   "metadata": {
    "collapsed": false
   },
   "outputs": [],
   "source": [
    "from graphlab.toolkits.feature_engineering import OneHotEncoder"
   ]
  },
  {
   "cell_type": "code",
   "execution_count": 23,
   "metadata": {
    "collapsed": false
   },
   "outputs": [],
   "source": [
    "encoder = gl.feature_engineering.create(dataset,\n",
    "                    OneHotEncoder(features = ['sequences']))"
   ]
  },
  {
   "cell_type": "code",
   "execution_count": 27,
   "metadata": {
    "collapsed": false
   },
   "outputs": [
    {
     "data": {
      "text/html": [
       "<div style=\"max-height:1000px;max-width:1500px;overflow:auto;\"><table frame=\"box\" rules=\"cols\">\n",
       "    <tr>\n",
       "        <th style=\"padding-left: 1em; padding-right: 1em; text-align: center\">X1</th>\n",
       "        <th style=\"padding-left: 1em; padding-right: 1em; text-align: center\">type</th>\n",
       "        <th style=\"padding-left: 1em; padding-right: 1em; text-align: center\">parsed_sql</th>\n",
       "        <th style=\"padding-left: 1em; padding-right: 1em; text-align: center\">encoded_features</th>\n",
       "    </tr>\n",
       "    <tr>\n",
       "        <td style=\"padding-left: 1em; padding-right: 1em; text-align: center; vertical-align: top\">'; exec<br>master..xp_cmdshell ' ...</td>\n",
       "        <td style=\"padding-left: 1em; padding-right: 1em; text-align: center; vertical-align: top\">malicious</td>\n",
       "        <td style=\"padding-left: 1em; padding-right: 1em; text-align: center; vertical-align: top\">[Single, Identifier,<br>Float, Float, Float, ...</td>\n",
       "        <td style=\"padding-left: 1em; padding-right: 1em; text-align: center; vertical-align: top\">{609: 1, 610: 1, 611: 1,<br>388: 1, 392: 1, 201: 1, ...</td>\n",
       "    </tr>\n",
       "    <tr>\n",
       "        <td style=\"padding-left: 1em; padding-right: 1em; text-align: center; vertical-align: top\">create user name<br>identified by 'pass123' ...</td>\n",
       "        <td style=\"padding-left: 1em; padding-right: 1em; text-align: center; vertical-align: top\">malicious</td>\n",
       "        <td style=\"padding-left: 1em; padding-right: 1em; text-align: center; vertical-align: top\">[DDL, Keyword,<br>Identifier, Keyword, ...</td>\n",
       "        <td style=\"padding-left: 1em; padding-right: 1em; text-align: center; vertical-align: top\">{608: 1, 610: 1, 611: 1,<br>518: 1, 489: 1, 170: 1, ...</td>\n",
       "    </tr>\n",
       "    <tr>\n",
       "        <td style=\"padding-left: 1em; padding-right: 1em; text-align: center; vertical-align: top\">create user name<br>identified by pass123 ...</td>\n",
       "        <td style=\"padding-left: 1em; padding-right: 1em; text-align: center; vertical-align: top\">malicious</td>\n",
       "        <td style=\"padding-left: 1em; padding-right: 1em; text-align: center; vertical-align: top\">[DDL, Keyword,<br>Identifier, Keyword, ...</td>\n",
       "        <td style=\"padding-left: 1em; padding-right: 1em; text-align: center; vertical-align: top\">{608: 1, 611: 1, 518: 1,<br>557: 1, 590: 1, 505: 1, ...</td>\n",
       "    </tr>\n",
       "    <tr>\n",
       "        <td style=\"padding-left: 1em; padding-right: 1em; text-align: center; vertical-align: top\">exec sp_addlogin 'name' ,<br>'password' ...</td>\n",
       "        <td style=\"padding-left: 1em; padding-right: 1em; text-align: center; vertical-align: top\">malicious</td>\n",
       "        <td style=\"padding-left: 1em; padding-right: 1em; text-align: center; vertical-align: top\">[Keyword, Identifier,<br>IdentifierList] ...</td>\n",
       "        <td style=\"padding-left: 1em; padding-right: 1em; text-align: center; vertical-align: top\">{608: 1, 611: 1, 590: 1,<br>152: 1, 601: 1, 154: 1} ...</td>\n",
       "    </tr>\n",
       "    <tr>\n",
       "        <td style=\"padding-left: 1em; padding-right: 1em; text-align: center; vertical-align: top\">exec sp_addsrvrolemember<br>'name' , 'sysadmin' ...</td>\n",
       "        <td style=\"padding-left: 1em; padding-right: 1em; text-align: center; vertical-align: top\">malicious</td>\n",
       "        <td style=\"padding-left: 1em; padding-right: 1em; text-align: center; vertical-align: top\">[Keyword, Identifier,<br>IdentifierList] ...</td>\n",
       "        <td style=\"padding-left: 1em; padding-right: 1em; text-align: center; vertical-align: top\">{608: 1, 611: 1, 590: 1,<br>152: 1, 601: 1, 154: 1} ...</td>\n",
       "    </tr>\n",
       "    <tr>\n",
       "        <td style=\"padding-left: 1em; padding-right: 1em; text-align: center; vertical-align: top\">insert into mysql.user<br>(user, host, password) ...</td>\n",
       "        <td style=\"padding-left: 1em; padding-right: 1em; text-align: center; vertical-align: top\">malicious</td>\n",
       "        <td style=\"padding-left: 1em; padding-right: 1em; text-align: center; vertical-align: top\">[DML, Keyword,<br>Identifier, Keyword, ...</td>\n",
       "        <td style=\"padding-left: 1em; padding-right: 1em; text-align: center; vertical-align: top\">{608: 1, 611: 1, 485: 1,<br>555: 1, 590: 1, 463: 1, ...</td>\n",
       "    </tr>\n",
       "    <tr>\n",
       "        <td style=\"padding-left: 1em; padding-right: 1em; text-align: center; vertical-align: top\">grant connect to name;<br>grant resource to name; ...</td>\n",
       "        <td style=\"padding-left: 1em; padding-right: 1em; text-align: center; vertical-align: top\">malicious</td>\n",
       "        <td style=\"padding-left: 1em; padding-right: 1em; text-align: center; vertical-align: top\">[Keyword, Keyword,<br>Keyword, Identifier, ...</td>\n",
       "        <td style=\"padding-left: 1em; padding-right: 1em; text-align: center; vertical-align: top\">{608: 1, 473: 1, 611: 1,<br>460: 1, 557: 1, 590: 1, ...</td>\n",
       "    </tr>\n",
       "    <tr>\n",
       "        <td style=\"padding-left: 1em; padding-right: 1em; text-align: center; vertical-align: top\">insert into users(login,<br>password, level) values( ...</td>\n",
       "        <td style=\"padding-left: 1em; padding-right: 1em; text-align: center; vertical-align: top\">malicious</td>\n",
       "        <td style=\"padding-left: 1em; padding-right: 1em; text-align: center; vertical-align: top\">[DML, Keyword, Function,<br>Keyword, Punctuation, ...</td>\n",
       "        <td style=\"padding-left: 1em; padding-right: 1em; text-align: center; vertical-align: top\">{608: 1, 544: 1, 580: 1,<br>521: 1, 586: 1, 111: 1, ...</td>\n",
       "    </tr>\n",
       "    <tr>\n",
       "        <td style=\"padding-left: 1em; padding-right: 1em; text-align: center; vertical-align: top\">ALTER SYSTEM FLUSH<br>SHARED_POOL ...</td>\n",
       "        <td style=\"padding-left: 1em; padding-right: 1em; text-align: center; vertical-align: top\">legit</td>\n",
       "        <td style=\"padding-left: 1em; padding-right: 1em; text-align: center; vertical-align: top\">[DDL, Keyword, Keyword,<br>Identifier] ...</td>\n",
       "        <td style=\"padding-left: 1em; padding-right: 1em; text-align: center; vertical-align: top\">{608: 1, 611: 1, 557: 1,<br>590: 1, 566: 1, 567: 1, ...</td>\n",
       "    </tr>\n",
       "    <tr>\n",
       "        <td style=\"padding-left: 1em; padding-right: 1em; text-align: center; vertical-align: top\">ALTER TABLE metadatacolle<br>ctionschema.altidcoll ...</td>\n",
       "        <td style=\"padding-left: 1em; padding-right: 1em; text-align: center; vertical-align: top\">legit</td>\n",
       "        <td style=\"padding-left: 1em; padding-right: 1em; text-align: center; vertical-align: top\">[DDL, Keyword,<br>Identifier, Keyword, ...</td>\n",
       "        <td style=\"padding-left: 1em; padding-right: 1em; text-align: center; vertical-align: top\">{608: 1, 579: 1, 518: 1,<br>557: 1, 590: 1, 561: 1, ...</td>\n",
       "    </tr>\n",
       "</table>\n",
       "[13895 rows x 4 columns]<br/>Note: Only the head of the SFrame is printed.<br/>You can use print_rows(num_rows=m, num_columns=n) to print more rows and columns.\n",
       "</div>"
      ],
      "text/plain": [
       "Columns:\n",
       "\tX1\tstr\n",
       "\ttype\tstr\n",
       "\tparsed_sql\tlist\n",
       "\tencoded_features\tdict\n",
       "\n",
       "Rows: 13895\n",
       "\n",
       "Data:\n",
       "+--------------------------------+-----------+-------------------------------+\n",
       "|               X1               |    type   |           parsed_sql          |\n",
       "+--------------------------------+-----------+-------------------------------+\n",
       "| '; exec master..xp_cmdshel...  | malicious | [Single, Identifier, Float... |\n",
       "| create user name identifie...  | malicious | [DDL, Keyword, Identifier,... |\n",
       "| create user name identifie...  | malicious | [DDL, Keyword, Identifier,... |\n",
       "| exec sp_addlogin 'name' , ...  | malicious | [Keyword, Identifier, Iden... |\n",
       "| exec sp_addsrvrolemember '...  | malicious | [Keyword, Identifier, Iden... |\n",
       "| insert into mysql.user (us...  | malicious | [DML, Keyword, Identifier,... |\n",
       "| grant connect to name; gra...  | malicious | [Keyword, Keyword, Keyword... |\n",
       "| insert into users(login, p...  | malicious | [DML, Keyword, Function, K... |\n",
       "| ALTER SYSTEM FLUSH SHARED_POOL |   legit   | [DDL, Keyword, Keyword, Id... |\n",
       "| ALTER TABLE metadatacollec...  |   legit   | [DDL, Keyword, Identifier,... |\n",
       "+--------------------------------+-----------+-------------------------------+\n",
       "+-------------------------------+\n",
       "|        encoded_features       |\n",
       "+-------------------------------+\n",
       "| {609: 1, 610: 1, 611: 1, 3... |\n",
       "| {608: 1, 610: 1, 611: 1, 5... |\n",
       "| {608: 1, 611: 1, 518: 1, 5... |\n",
       "| {608: 1, 611: 1, 590: 1, 1... |\n",
       "| {608: 1, 611: 1, 590: 1, 1... |\n",
       "| {608: 1, 611: 1, 485: 1, 5... |\n",
       "| {608: 1, 473: 1, 611: 1, 4... |\n",
       "| {608: 1, 544: 1, 580: 1, 5... |\n",
       "| {608: 1, 611: 1, 557: 1, 5... |\n",
       "| {608: 1, 579: 1, 518: 1, 5... |\n",
       "+-------------------------------+\n",
       "[13895 rows x 4 columns]\n",
       "Note: Only the head of the SFrame is printed.\n",
       "You can use print_rows(num_rows=m, num_columns=n) to print more rows and columns."
      ]
     },
     "execution_count": 27,
     "metadata": {},
     "output_type": "execute_result"
    }
   ],
   "source": [
    "encoder.transform(dataset) #.unpack('encoded_features')"
   ]
  },
  {
   "cell_type": "code",
   "execution_count": 31,
   "metadata": {
    "collapsed": false
   },
   "outputs": [],
   "source": []
  },
  {
   "cell_type": "code",
   "execution_count": 32,
   "metadata": {
    "collapsed": false
   },
   "outputs": [
    {
     "data": {
      "text/plain": [
       "dtype: dict\n",
       "Rows: 13895\n",
       "[{}, {}, {}, {}, {}, {}, {}, {}, {}, {}, {}, {}, {}, {}, {}, {}, {}, {}, {}, {}, {}, {}, {}, {}, {}, {}, {}, {}, {}, {}, {}, {}, {}, {}, {}, {}, {}, {}, {}, {}, {}, {}, {}, {}, {}, {}, {}, {}, {}, {}, {}, {}, {}, {}, {}, {}, {}, {}, {}, {}, {}, {}, {}, {}, {}, {}, {}, {}, {}, {}, {}, {}, {}, {}, {}, {}, {}, {}, {}, {}, {}, {}, {}, {}, {}, {}, {}, {}, {}, {}, {}, {}, {}, {}, {}, {}, {}, {}, {}, {}, ... ]"
      ]
     },
     "execution_count": 32,
     "metadata": {},
     "output_type": "execute_result"
    }
   ],
   "source": [
    "tfidf"
   ]
  },
  {
   "cell_type": "code",
   "execution_count": null,
   "metadata": {
    "collapsed": true
   },
   "outputs": [],
   "source": []
  }
 ],
 "metadata": {
  "kernelspec": {
   "display_name": "Python 2",
   "language": "python",
   "name": "python2"
  },
  "language_info": {
   "codemirror_mode": {
    "name": "ipython",
    "version": 2
   },
   "file_extension": ".py",
   "mimetype": "text/x-python",
   "name": "python",
   "nbconvert_exporter": "python",
   "pygments_lexer": "ipython2",
   "version": "2.7.11"
  }
 },
 "nbformat": 4,
 "nbformat_minor": 0
}
